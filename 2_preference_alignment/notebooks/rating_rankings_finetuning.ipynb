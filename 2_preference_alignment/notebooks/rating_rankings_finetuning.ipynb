{
 "cells": [
  {
   "cell_type": "markdown",
   "metadata": {},
   "source": [
    "# Preference Alignment with Direct Preference Optimization (DPO)\n",
    "\n",
    "This notebook will guide you through the process of fine-tuning a language model using Direct Preference Optimization (DPO). We will use the SmolLM2-135M-Instruct model which has already been through a SFT training, so it it compatible with DPO. You can also use the model you trained in [1_instruction_tuning](../../1_instruction_tuning/notebooks/sft_finetuning_example.ipynb).\n",
    "\n",
    "<div style='background-color: lightblue; padding: 10px; border-radius: 5px; margin-bottom: 20px; color:black'>\n",
    "     <h2 style='margin: 0;color:blue'>Exercise: Aligning SmolLM2 with DPOTrainer</h2>\n",
    "     <p>Take a dataset from the Hugging Face hub and align a model on it. </p> \n",
    "     <p><b>Difficulty Levels</b></p>\n",
    "     <p>🐢 Use the `trl-lib/ultrafeedback_binarized` dataset</p>\n",
    "     <p>🐕 Try out the `argilla/ultrafeedback-binarized-preferences` dataset</p>\n",
    "     <p>🦁 Select a dataset that relates to a real-world use case you’re interested in, or use the model you trained in \n",
    "        <a href=\"../../1_instruction_tuning/notebooks/sft_finetuning_example.ipynb\">1_instruction_tuning</a></p>\n",
    "</div>"
   ]
  },
  {
   "cell_type": "code",
   "execution_count": 1,
   "metadata": {},
   "outputs": [
    {
     "data": {
      "application/vnd.jupyter.widget-view+json": {
       "model_id": "30b02013724046019b7224ec5929ea89",
       "version_major": 2,
       "version_minor": 0
      },
      "text/plain": [
       "VBox(children=(HTML(value='<center> <img\\nsrc=https://huggingface.co/front/assets/huggingface_logo-noborder.sv…"
      ]
     },
     "metadata": {},
     "output_type": "display_data"
    }
   ],
   "source": [
    "# Install the requirements in Google Colab\n",
    "# !pip install transformers datasets trl huggingface_hub\n",
    "\n",
    "# Authenticate to Hugging Face\n",
    "\n",
    "from huggingface_hub import login\n",
    "\n",
    "login()\n",
    "\n",
    "# for convenience you can create an environment variable containing your hub token as HF_TOKEN"
   ]
  },
  {
   "cell_type": "markdown",
   "metadata": {},
   "source": [
    "## Import libraries\n"
   ]
  },
  {
   "cell_type": "code",
   "execution_count": 2,
   "metadata": {
    "colab": {
     "base_uri": "https://localhost:8080/"
    },
    "id": "_zIBL8IssExG",
    "outputId": "90d70bd2-30e7-49a4-d5bf-20d74deb6cec"
   },
   "outputs": [
    {
     "name": "stderr",
     "output_type": "stream",
     "text": [
      "\n",
      "A module that was compiled using NumPy 1.x cannot be run in\n",
      "NumPy 2.0.2 as it may crash. To support both 1.x and 2.x\n",
      "versions of NumPy, modules must be compiled with NumPy 2.0.\n",
      "Some module may need to rebuild instead e.g. with 'pybind11>=2.12'.\n",
      "\n",
      "If you are a user of the module, the easiest solution will be to\n",
      "downgrade to 'numpy<2' or try to upgrade the affected module.\n",
      "We expect that some modules will need time to support NumPy 2.\n",
      "\n",
      "Traceback (most recent call last):  File \"/Users/lucaviano/opt/anaconda3/lib/python3.9/runpy.py\", line 197, in _run_module_as_main\n",
      "    return _run_code(code, main_globals, None,\n",
      "  File \"/Users/lucaviano/opt/anaconda3/lib/python3.9/runpy.py\", line 87, in _run_code\n",
      "    exec(code, run_globals)\n",
      "  File \"/Users/lucaviano/.amazon/lib/python3.9/site-packages/ipykernel_launcher.py\", line 18, in <module>\n",
      "    app.launch_new_instance()\n",
      "  File \"/Users/lucaviano/.amazon/lib/python3.9/site-packages/traitlets/config/application.py\", line 1075, in launch_instance\n",
      "    app.start()\n",
      "  File \"/Users/lucaviano/.amazon/lib/python3.9/site-packages/ipykernel/kernelapp.py\", line 739, in start\n",
      "    self.io_loop.start()\n",
      "  File \"/Users/lucaviano/.amazon/lib/python3.9/site-packages/tornado/platform/asyncio.py\", line 211, in start\n",
      "    self.asyncio_loop.run_forever()\n",
      "  File \"/Users/lucaviano/opt/anaconda3/lib/python3.9/asyncio/base_events.py\", line 601, in run_forever\n",
      "    self._run_once()\n",
      "  File \"/Users/lucaviano/opt/anaconda3/lib/python3.9/asyncio/base_events.py\", line 1905, in _run_once\n",
      "    handle._run()\n",
      "  File \"/Users/lucaviano/opt/anaconda3/lib/python3.9/asyncio/events.py\", line 80, in _run\n",
      "    self._context.run(self._callback, *self._args)\n",
      "  File \"/Users/lucaviano/.amazon/lib/python3.9/site-packages/ipykernel/kernelbase.py\", line 545, in dispatch_queue\n",
      "    await self.process_one()\n",
      "  File \"/Users/lucaviano/.amazon/lib/python3.9/site-packages/ipykernel/kernelbase.py\", line 534, in process_one\n",
      "    await dispatch(*args)\n",
      "  File \"/Users/lucaviano/.amazon/lib/python3.9/site-packages/ipykernel/kernelbase.py\", line 437, in dispatch_shell\n",
      "    await result\n",
      "  File \"/Users/lucaviano/.amazon/lib/python3.9/site-packages/ipykernel/ipkernel.py\", line 362, in execute_request\n",
      "    await super().execute_request(stream, ident, parent)\n",
      "  File \"/Users/lucaviano/.amazon/lib/python3.9/site-packages/ipykernel/kernelbase.py\", line 778, in execute_request\n",
      "    reply_content = await reply_content\n",
      "  File \"/Users/lucaviano/.amazon/lib/python3.9/site-packages/ipykernel/ipkernel.py\", line 449, in do_execute\n",
      "    res = shell.run_cell(\n",
      "  File \"/Users/lucaviano/.amazon/lib/python3.9/site-packages/ipykernel/zmqshell.py\", line 549, in run_cell\n",
      "    return super().run_cell(*args, **kwargs)\n",
      "  File \"/Users/lucaviano/.amazon/lib/python3.9/site-packages/IPython/core/interactiveshell.py\", line 3048, in run_cell\n",
      "    result = self._run_cell(\n",
      "  File \"/Users/lucaviano/.amazon/lib/python3.9/site-packages/IPython/core/interactiveshell.py\", line 3103, in _run_cell\n",
      "    result = runner(coro)\n",
      "  File \"/Users/lucaviano/.amazon/lib/python3.9/site-packages/IPython/core/async_helpers.py\", line 129, in _pseudo_sync_runner\n",
      "    coro.send(None)\n",
      "  File \"/Users/lucaviano/.amazon/lib/python3.9/site-packages/IPython/core/interactiveshell.py\", line 3308, in run_cell_async\n",
      "    has_raised = await self.run_ast_nodes(code_ast.body, cell_name,\n",
      "  File \"/Users/lucaviano/.amazon/lib/python3.9/site-packages/IPython/core/interactiveshell.py\", line 3490, in run_ast_nodes\n",
      "    if await self.run_code(code, result, async_=asy):\n",
      "  File \"/Users/lucaviano/.amazon/lib/python3.9/site-packages/IPython/core/interactiveshell.py\", line 3550, in run_code\n",
      "    exec(code_obj, self.user_global_ns, self.user_ns)\n",
      "  File \"/var/folders/84/_gh7j8tj4dj9p4vytdb2m5h00000gn/T/ipykernel_11071/4010704456.py\", line 1, in <module>\n",
      "    import torch\n",
      "  File \"/Users/lucaviano/.amazon/lib/python3.9/site-packages/torch/__init__.py\", line 1477, in <module>\n",
      "    from .functional import *  # noqa: F403\n",
      "  File \"/Users/lucaviano/.amazon/lib/python3.9/site-packages/torch/functional.py\", line 9, in <module>\n",
      "    import torch.nn.functional as F\n",
      "  File \"/Users/lucaviano/.amazon/lib/python3.9/site-packages/torch/nn/__init__.py\", line 1, in <module>\n",
      "    from .modules import *  # noqa: F403\n",
      "  File \"/Users/lucaviano/.amazon/lib/python3.9/site-packages/torch/nn/modules/__init__.py\", line 35, in <module>\n",
      "    from .transformer import TransformerEncoder, TransformerDecoder, \\\n",
      "  File \"/Users/lucaviano/.amazon/lib/python3.9/site-packages/torch/nn/modules/transformer.py\", line 20, in <module>\n",
      "    device: torch.device = torch.device(torch._C._get_default_device()),  # torch.device('cpu'),\n",
      "/Users/lucaviano/.amazon/lib/python3.9/site-packages/torch/nn/modules/transformer.py:20: UserWarning: Failed to initialize NumPy: _ARRAY_API not found (Triggered internally at /Users/runner/work/pytorch/pytorch/pytorch/torch/csrc/utils/tensor_numpy.cpp:84.)\n",
      "  device: torch.device = torch.device(torch._C._get_default_device()),  # torch.device('cpu'),\n"
     ]
    }
   ],
   "source": [
    "import torch\n",
    "import os\n",
    "from transformers import AutoModelForCausalLM, AutoTokenizer\n",
    "from datasets import load_dataset\n",
    "from trl import DPOTrainer, DPOConfig"
   ]
  },
  {
   "cell_type": "markdown",
   "metadata": {
    "id": "d8CvUgROUDw-"
   },
   "source": [
    "## Format dataset"
   ]
  },
  {
   "cell_type": "code",
   "execution_count": 3,
   "metadata": {
    "id": "MCD77GZ60DOT"
   },
   "outputs": [],
   "source": [
    "# Load dataset\n",
    "\n",
    "# TODO: 🦁🐕 change the dataset to one of your choosing"
   ]
  },
  {
   "cell_type": "code",
   "execution_count": 4,
   "metadata": {},
   "outputs": [
    {
     "data": {
      "text/plain": [
       "{'chosen': [{'content': 'Use the pygame library to write a version of the classic game Snake, with a unique twist',\n",
       "   'role': 'user'},\n",
       "  {'content': \"Sure, I'd be happy to help you write a version of the classic game Snake using the pygame library! Here's a basic outline of how we can approach this:\\n\\n1. First, we'll need to set up the game display and create a game object that we can use to handle the game's state.\\n2. Next, we'll create the game's grid, which will be used to represent the game board. We'll need to define the size of the grid and the spaces within it.\\n3. After that, we'll create the snake object, which will be used to represent the player's movement. We'll need to define the size of the snake and the speed at which it moves.\\n4. We'll also need to create a food object, which will be used to represent the food that the player must collect to score points. We'll need to define the location of the food and the speed at which it moves.\\n5. Once we have these objects set up, we can start handling the game's logic. We'll need to define the rules for the player's movements, such as how the player can move the snake and how the snake will grow as the player collects more food.\\n6. We'll also need to add collisions detection to the game, so that the snake and the food can collide with each other.\\n7. Finally, we'll need to add a user interface to the game, such as a menu and a scoreboard.\\n\\nNow, as for the unique twist, we could add a few features to make the game more interesting. For example, we could add power-ups that give the player special abilities, such as the ability to grow the snake faster or to change its direction. We could also add obstacles, such as walls or pits, that the player must avoid.\\n\\nHere's some sample code to get us started:\\n```\\nimport pygame\\n\\n# Initialize pygame\\npygame.init()\\n\\n# Set up the game display\\nwidth = 800\\nheight = 600\\nscreen = pygame.display.set_mode((width, height))\\n\\n# Define the colors\\nWHITE = (255, 255, 255)\\nBLACK = (0, 0, 0)\\nGREEN = (0, 255, 0)\\n\\n# Define the game objects\\nsnake = pygame.Rect(50, 50, 10, 10)\\nfood = pygame.Rect(100, 100, 10, 10)\\n\\n# Define the game logic\\ndef update_snake():\\n    # Get the mouse position\\n    mouse_pos = pygame.mouse.get_pos()\\n\\n    # Move the snake based on the mouse position\\n    if mouse_pos[0] > snake.x:\\n        snake.x += 10\\n    elif mouse_pos[0] < snake.x:\\n        snake.x -= 10\\n    elif mouse_pos[1] > snake.y:\\n        snake.y += 10\\n    elif mouse_pos[1] < snake.y:\\n        snake.y -= 10\\n\\n    # Update the snake's size\\n    if snake.x == food.x and snake.y == food.y:\\n        snake.width += 10\\n        snake.height += 10\\n\\n# Define the game loop\\ndef game_loop():\\n    # Clear the screen\\n    screen.fill(BLACK)\\n\\n    # Update the game objects\\n    update_snake()\\n\\n    # Draw the game objects\\n    screen.fill(WHITE)\\n    screen.draw.rect(snake, GREEN)\\n    screen.draw.rect(food, BLACK)\\n\\n    # Update the display\\n    pygame.display.flip()\\n\\n# Start the game loop\\ngame_loop()\\n\\n# Run the game\\nwhile True:\\n    for event in pygame.event.get():\\n        if event.type == pygame.QUIT:\\n            pygame.quit()\\n            break\\n\\n    pygame.time.Clock().tick(60)\\n```\\nThis code sets up a basic game display, defines the snake and food objects, and updates the game state based on the player's movements. We've also added a simple user interface and some basic collision detection.\\n\\nAs for the unique twist, we could add a few features to make the game\",\n",
       "   'role': 'assistant'}],\n",
       " 'rejected': [{'content': 'Use the pygame library to write a version of the classic game Snake, with a unique twist',\n",
       "   'role': 'user'},\n",
       "  {'content': 'Sure, here\\'s an example of how to write a version of Snake game with a unique twist using the Pygame library:\\n```python\\nimport pygame\\n\\nclass SnakeGame:\\n    def __init__(self, game_width, game_height):\\n        pygame.init()\\n        screen = pygame.display.set_mode((game_width, game_height))\\n        pygame.display.set_caption(\"Snake Game\")\\n        self.speed = 5  # Speed of the snake\\n        self.food_speed = 1  # Speed of the food\\n        self.direction = 0  # Initial direction of the snake\\n        self.snakelen = 0  # Length of the snake\\n        self.food = pygame.image.load(\"snake_food.png\")\\n        self.head = pygame.image.load(\"snake_head.png\")\\n        self.tail = pygame.image.load(\"snake_tail.png\")\\n        self.game Quint()\\n    def Quint(self):\\n        for i in range(50):\\n            pygame.draw.line(screen, (180, 100, 220), (0, 0, 200), 2)\\n            pygame.draw.line(screen, (180, 100, 220), (50, 0, 200), 2)\\n            pygame.draw.line(screen, (180, 100, 220), (50, 50, 200), 2)\\n            pygame.draw.line(screen, (180, 100, 220), (50, 50, 300), 2)\\n            pygame.draw.line(screen, (180, 100, 220), (50, 80, 200), 2)\\n            pygame.draw.line(screen, (180, 100, 220), (50, 80, 300), 2)\\n            pygame.draw.line(screen, (180, 100, 220), (0, 50, 200), 2)\\n            pygame.draw.line(screen, (180, 100, 220), (0, 50, 300), 2)\\n            pygame.draw.line(screen, (180, 100, 220), (0, 80, 200), 2)\\n            pygame.draw.line(screen, (180, 100, 220), (0, 80, 300), 2)\\n            pygame.display.flip()\\n        self.game.run()\\n    def run(self):\\n        while True:\\n            for event in pygame.event. pygame.KEYDOWN:\\n                if event.key == pygame.K_LEFT:\\n                    self.direction = -1\\n                if event.key == pygame.K_RIGHT:\\n                    self.direction = 1\\n            self.snakelen += 1\\n            if self.snakelen == 0:\\n                self.snakelen = 10\\n            if self.snakelen > 20:\\n                self.snakelen = 20\\n            self.gameQuint()\\n            self.foodCrossing()\\n            self.headRun()\\n            pygame.display.update()\\ngame = SnakeGame(800, 600)\\ngame.run()\\n```\\nIn this game, the snake moves with a constant speed, but the direction of the snake can be controlled by the user using the left and right arrow keys. The snake grows in length every 10 segments, and when it reaches a certain length, it resets to 10 segments. The food moves fast and randomly crosses the screen, and the snake can eat it by colliding with it. The snake\\'s head and tail move independently of each other. The game ends when the snake dies or reaches the end of the screen.',\n",
       "   'role': 'assistant'}],\n",
       " 'score_chosen': 6.0,\n",
       " 'score_rejected': 4.0}"
      ]
     },
     "execution_count": 4,
     "metadata": {},
     "output_type": "execute_result"
    }
   ],
   "source": [
    "dataset[0]"
   ]
  },
  {
   "cell_type": "code",
   "execution_count": 38,
   "metadata": {},
   "outputs": [
    {
     "name": "stdout",
     "output_type": "stream",
     "text": [
      "Using MPS backend. Note: BFloat16 is not supported on MPS, using Float16.\n",
      "Selected device: mps with dtype: torch.float16\n",
      "Loading model: HuggingFaceTB/SmolLM2-135M-Instruct...\n",
      "torch.float16\n",
      "trainable params: 4,884,480 || all params: 139,399,488 || trainable%: 3.5039\n",
      "Policy model and reference model loaded.\n",
      "Loading dataset: HuggingFaceH4/ultrafeedback_binarized...\n",
      "Loaded 1000 training examples and 200 evaluation examples.\n"
     ]
    }
   ],
   "source": [
    "import torch\n",
    "import torch.nn.functional as F\n",
    "from torch.utils.data import DataLoader, Dataset\n",
    "from transformers import AutoTokenizer, AutoModelForCausalLM, get_scheduler\n",
    "from torch.optim import AdamW\n",
    "from peft import LoraConfig, get_peft_model, prepare_model_for_kbit_training\n",
    "from datasets import load_dataset\n",
    "from tqdm import tqdm\n",
    "import os\n",
    "import math\n",
    "\n",
    "# --- Configuration ---\n",
    "MODEL_ID = \"HuggingFaceTB/SmolLM2-135M-Instruct\" # A small model for quick demonstration\n",
    "DATASET_ID = \"HuggingFaceH4/ultrafeedback_binarized\" #\"HuggingFaceH4/ultrafeedback_binarized\"\n",
    "OUTPUT_DIR = \"./dpo_custom_tinyllama_ultrafeedback\"\n",
    "\n",
    "# Training parameters\n",
    "NUM_TRAIN_EXAMPLES = 1000 # Use a small subset for demonstration\n",
    "NUM_EVAL_EXAMPLES = 200\n",
    "EPOCHS = 1\n",
    "LEARNING_RATE = 1e-5 # DPO often uses a lower learning rate than SFT\n",
    "BETA = 0.1 # DPO beta parameter, controls the strength of the preference. Common values: 0.1, 0.5, 0.8\n",
    "BETA1 = 0.3\n",
    "BATCH_SIZE = 2\n",
    "GRADIENT_ACCUMULATION_STEPS = 4 # Effective batch size = BATCH_SIZE * GRADIENT_ACCUMULATION_STEPS = 8\n",
    "MAX_LENGTH = 512 # Max total sequence length (prompt + response)\n",
    "MAX_PROMPT_LENGTH = 256 # Max prompt length\n",
    "\n",
    "# Device setup\n",
    "\n",
    "if torch.cuda.is_available():\n",
    "    DEVICE = \"cuda\"\n",
    "    DTYPE = torch.bfloat16 # bfloat16 is usually best for NVIDIA GPUs (Ampere architecture and newer)\n",
    "elif torch.backends.mps.is_available():\n",
    "    DEVICE = \"mps\"\n",
    "    DTYPE = torch.float16 # MPS typically supports float16 (half-precision), but not bfloat16.\n",
    "                         # If float16 causes issues, fall back to torch.float32\n",
    "    print(\"Using MPS backend. Note: BFloat16 is not supported on MPS, using Float16.\")\n",
    "else:\n",
    "    DEVICE = \"cpu\"\n",
    "    DTYPE = torch.float32 # CPU runs best with float32\n",
    "\n",
    "print(f\"Selected device: {DEVICE} with dtype: {DTYPE}\")\n",
    "# --- 1. Load Models and Tokenizer ---\n",
    "print(f\"Loading model: {MODEL_ID}...\")\n",
    "tokenizer = AutoTokenizer.from_pretrained(MODEL_ID)\n",
    "# Crucial for padding and chat templates\n",
    "tokenizer.pad_token = tokenizer.eos_token\n",
    "tokenizer.padding_side = \"right\"\n",
    "\n",
    "# Policy Model (will be trained with LoRA)\n",
    "# Use prepare_model_for_kbit_training if you're using quantization (e.g., 4-bit)\n",
    "print(DTYPE)\n",
    "policy_model = AutoModelForCausalLM.from_pretrained(\n",
    "    MODEL_ID,\n",
    "    torch_dtype=DTYPE,\n",
    "    device_map=DEVICE\n",
    ")\n",
    "policy_model.config.use_cache = False # Required for gradient checkpointing, often helpful for training\n",
    "policy_model.train() # Set to train mode for gradients\n",
    "\n",
    "# Apply LoRA to the policy model\n",
    "peft_config = LoraConfig(\n",
    "    r=16,\n",
    "    lora_alpha=16,\n",
    "    lora_dropout=0.05,\n",
    "    bias=\"none\",\n",
    "    task_type=\"CAUSAL_LM\",\n",
    "    target_modules=\"all-linear\", # or specify: [\"q_proj\", \"v_proj\", \"k_proj\", \"o_proj\"]\n",
    ")\n",
    "policy_model = get_peft_model(policy_model, peft_config)\n",
    "policy_model.print_trainable_parameters()\n",
    "\n",
    "# Reference Model (frozen copy of the initial SFT model)\n",
    "# Ensure this model is *not* trained and is in eval mode.\n",
    "ref_model = AutoModelForCausalLM.from_pretrained(\n",
    "    MODEL_ID,\n",
    "    torch_dtype=DTYPE,\n",
    "    device_map=DEVICE\n",
    ")\n",
    "\n",
    "ref_model.eval() # Set to eval mode for no gradients and no dropout\n",
    "for param in ref_model.parameters():\n",
    "    param.requires_grad = False\n",
    "print(\"Policy model and reference model loaded.\")\n",
    "\n",
    "# --- 2. Data Preparation ---\n",
    "print(f\"Loading dataset: {DATASET_ID}...\")\n",
    "\n",
    "dataset = load_dataset(path=DATASET_ID, split=\"train_sft\")\n",
    "\n",
    "# For demonstration, select a small subset\n",
    "if NUM_TRAIN_EXAMPLES:\n",
    "    dataset = dataset.shuffle(seed=42)\n",
    "    train_dataset_raw = dataset.select(range(NUM_TRAIN_EXAMPLES))\n",
    "    eval_dataset_raw = dataset.select(range(NUM_TRAIN_EXAMPLES, NUM_TRAIN_EXAMPLES + NUM_EVAL_EXAMPLES))\n",
    "else:\n",
    "    train_dataset_raw = dataset.train_test_split(test_size=0.1, seed=42)['train']\n",
    "    eval_dataset_raw = dataset.train_test_split(test_size=0.1, seed=42)['test']\n",
    "\n",
    "print(f\"Loaded {len(train_dataset_raw)} training examples and {len(eval_dataset_raw)} evaluation examples.\")\n"
   ]
  },
  {
   "cell_type": "markdown",
   "metadata": {},
   "source": []
  },
  {
   "cell_type": "markdown",
   "metadata": {},
   "source": []
  },
  {
   "cell_type": "code",
   "execution_count": 20,
   "metadata": {},
   "outputs": [
    {
     "data": {
      "text/plain": [
       "{'prompt': 'Do you know something about crystallography and structure factor?',\n",
       " 'prompt_id': '6cc01e0932f2dc27f2e6bb95e9d6c20de1be8c40c1ad17f83f9899a15d3cf195',\n",
       " 'chosen': [{'content': 'Do you know something about crystallography and structure factor?',\n",
       "   'role': 'user'},\n",
       "  {'content': 'Crystallography is the science of the arrangement of atoms in solids. It is a vast and interdisciplinary field that has applications in physics, chemistry, materials science, biology, and engineering.\\n\\nThe structure factor is a mathematical function that is used to describe the diffraction of waves by a crystal. It is a complex number that is related to the atomic positions in the crystal.\\n\\nThe structure factor can be used to calculate the intensity of the diffracted waves. This information can be used to determine the atomic positions in the crystal and to study the structure of materials.\\n\\nCrystallography is a powerful tool for understanding the structure of materials. It has been used to determine the structures of many important materials, including metals, semiconductors, and pharmaceuticals. It is also used to study the structure of biological materials, such as proteins and DNA.\\n\\nThe structure factor is a key concept in crystallography. It is used to describe the diffraction of waves by a crystal and to calculate the intensity of the diffracted waves. This information can be used to determine the atomic positions in the crystal and to study the structure of materials.',\n",
       "   'role': 'assistant'}],\n",
       " 'rejected': [{'content': 'Do you know something about crystallography and structure factor?',\n",
       "   'role': 'user'},\n",
       "  {'content': \"Certainly! Crystallography is the study of the structure, arrangement of atoms, and properties of crystals. Structure factor, on the other hand, is a mathematical parameter that describes the arrangement of atoms or molecules in a crystal. It is used to determine the crystallographic properties of a crystal, such as its unit cell dimensions and symmetry.\\n\\nIf you have any specific questions about crystallography or structure factors, I'd be happy to help!\",\n",
       "   'role': 'assistant'}],\n",
       " 'messages': [{'content': 'Do you know something about crystallography and structure factor?',\n",
       "   'role': 'user'},\n",
       "  {'content': 'Crystallography is the science of the arrangement of atoms in solids. It is a vast and interdisciplinary field that has applications in physics, chemistry, materials science, biology, and engineering.\\n\\nThe structure factor is a mathematical function that is used to describe the diffraction of waves by a crystal. It is a complex number that is related to the atomic positions in the crystal.\\n\\nThe structure factor can be used to calculate the intensity of the diffracted waves. This information can be used to determine the atomic positions in the crystal and to study the structure of materials.\\n\\nCrystallography is a powerful tool for understanding the structure of materials. It has been used to determine the structures of many important materials, including metals, semiconductors, and pharmaceuticals. It is also used to study the structure of biological materials, such as proteins and DNA.\\n\\nThe structure factor is a key concept in crystallography. It is used to describe the diffraction of waves by a crystal and to calculate the intensity of the diffracted waves. This information can be used to determine the atomic positions in the crystal and to study the structure of materials.',\n",
       "   'role': 'assistant'}],\n",
       " 'score_chosen': 8.0,\n",
       " 'score_rejected': 7.0}"
      ]
     },
     "execution_count": 20,
     "metadata": {},
     "output_type": "execute_result"
    }
   ],
   "source": [
    "dataset[0]"
   ]
  },
  {
   "cell_type": "code",
   "execution_count": 21,
   "metadata": {},
   "outputs": [
    {
     "name": "stdout",
     "output_type": "stream",
     "text": [
      "Preprocessing dataset (applying chat template and tokenizing)...\n",
      "After preprocessing: 449 training examples and 108 evaluation examples.\n",
      "Starting DPO training loop...\n"
     ]
    },
    {
     "name": "stderr",
     "output_type": "stream",
     "text": [
      "Epoch 1/1 Training:   0%|          | 0/225 [00:00<?, ?it/s]You're using a GPT2TokenizerFast tokenizer. Please note that with a fast tokenizer, using the `__call__` method is faster than using a method to encode the text followed by a call to the `pad` method to get a padded encoding.\n",
      "Epoch 1/1 Training: 100%|██████████| 225/225 [30:44<00:00,  8.20s/it, loss=0.692, learning_rate=7.87e-9, global_step=57]\n"
     ]
    },
    {
     "name": "stdout",
     "output_type": "stream",
     "text": [
      "Epoch 1 finished. Average Training Loss: 0.6923264389567905\n"
     ]
    },
    {
     "name": "stderr",
     "output_type": "stream",
     "text": [
      "Epoch 1/1 Evaluation: 100%|██████████| 54/54 [06:23<00:00,  7.11s/it, eval_loss=0.693]\n"
     ]
    },
    {
     "name": "stdout",
     "output_type": "stream",
     "text": [
      "Epoch 1 finished. Average Evaluation Loss: 0.6926862034532759\n",
      "Model saved to ./dpo_custom_tinyllama_ultrafeedback/final_checkpoint\n",
      "DPO training complete!\n",
      "\n",
      "Skipping model testing: CUDA not available. Run on GPU for testing.\n"
     ]
    }
   ],
   "source": [
    "\n",
    "def preprocess_function(examples):\n",
    "    processed = {\n",
    "        \"prompt_input_ids\": [],\n",
    "        \"chosen_input_ids\": [],\n",
    "        \"rejected_input_ids\": [],\n",
    "        \"prompt_attention_mask\": [],\n",
    "        \"chosen_attention_mask\": [],\n",
    "        \"rejected_attention_mask\": [],\n",
    "        \"prompt_len\": []\n",
    "    }\n",
    "\n",
    "    for i in range(len(examples['prompt'])):\n",
    "        current_prompt_messages = examples['prompt'][i]\n",
    "        current_chosen_messages = examples['chosen'][i]\n",
    "        current_rejected_messages = examples['rejected'][i]\n",
    "\n",
    "        # --- START FIX FOR TYPEERROR ---\n",
    "        # Robustness check: Ensure messages are lists of dictionaries.\n",
    "        # ultrafeedback-binarized is supposed to have this format.\n",
    "        # If it's a string, it's malformed data, or something has corrupted the dataset.\n",
    "        \n",
    "        # Helper to validate and potentially fix message lists\n",
    "        def ensure_message_list(messages, is_prompt=False, idx=i):\n",
    "            if isinstance(messages, list) and all(isinstance(m, dict) and 'role' in m and 'content' in m for m in messages):\n",
    "                return messages\n",
    "            elif isinstance(messages, str):\n",
    "                # If it's a string, try to wrap it as a simple user message.\n",
    "                # This is a heuristic for malformed data; assumes the string is the user's input.\n",
    "                if is_prompt:\n",
    "                    print(f\"Warning: Prompt entry {idx} is a string. Wrapping as 'user' message.\")\n",
    "                    return [{\"role\": \"user\", \"content\": messages}]\n",
    "                else: # Chosen/rejected responses should not be simple strings\n",
    "                    print(f\"Warning: Chosen/Rejected entry {idx} is a string, which is unexpected. Skipping example.\")\n",
    "                    return None\n",
    "            else:\n",
    "                # If it's not a list or a string, it's an unrecognized format.\n",
    "                print(f\"Warning: Malformed entry {idx} (type: {type(messages)}). Skipping example.\")\n",
    "                return None\n",
    "\n",
    "        current_prompt_messages = ensure_message_list(current_prompt_messages, is_prompt=True)\n",
    "        current_chosen_messages = ensure_message_list(current_chosen_messages)\n",
    "        current_rejected_messages = ensure_message_list(current_rejected_messages)\n",
    "\n",
    "        if current_prompt_messages is None or current_chosen_messages is None or current_rejected_messages is None:\n",
    "            continue # Skip this example if any part is malformed\n",
    "        # --- END FIX FOR TYPEERROR ---\n",
    "\n",
    "\n",
    "        # Format prompt for DPO: add empty assistant turn\n",
    "        prompt_with_assistant_turn = current_prompt_messages + [{\"role\": \"assistant\", \"content\": \"\"}]\n",
    "\n",
    "        prompt_str = tokenizer.apply_chat_template(\n",
    "            prompt_with_assistant_turn,\n",
    "            tokenize=False,\n",
    "            add_generation_prompt=True\n",
    "        )\n",
    "        \n",
    "        # Format chosen and rejected responses (full conversation)\n",
    "        chosen_str = tokenizer.apply_chat_template(\n",
    "            current_chosen_messages,\n",
    "            tokenize=False\n",
    "        )\n",
    "        rejected_str = tokenizer.apply_chat_template(\n",
    "            current_rejected_messages,\n",
    "            tokenize=False\n",
    "        )\n",
    "\n",
    "        # Tokenize (don't pad here, DataCollator will handle it)\n",
    "        prompt_encoded = tokenizer(prompt_str, truncation=True, max_length=MAX_PROMPT_LENGTH)\n",
    "        chosen_encoded = tokenizer(chosen_str, truncation=True, max_length=MAX_LENGTH)\n",
    "        rejected_encoded = tokenizer(rejected_str, truncation=True, max_length=MAX_LENGTH)\n",
    "\n",
    "        # Filter out examples that are too long after tokenization\n",
    "        if (len(prompt_encoded['input_ids']) >= MAX_PROMPT_LENGTH or\n",
    "            len(chosen_encoded['input_ids']) >= MAX_LENGTH or\n",
    "            len(rejected_encoded['input_ids']) >= MAX_LENGTH):\n",
    "            # print(f\"Skipping example due to length: Prompt {len(prompt_encoded['input_ids'])}, Chosen {len(chosen_encoded['input_ids'])}, Rejected {len(rejected_encoded['input_ids'])}\")\n",
    "            continue\n",
    "\n",
    "        processed[\"prompt_input_ids\"].append(prompt_encoded[\"input_ids\"])\n",
    "        processed[\"chosen_input_ids\"].append(chosen_encoded[\"input_ids\"])\n",
    "        processed[\"rejected_input_ids\"].append(rejected_encoded[\"input_ids\"])\n",
    "        processed[\"prompt_attention_mask\"].append(prompt_encoded[\"attention_mask\"])\n",
    "        processed[\"chosen_attention_mask\"].append(chosen_encoded[\"attention_mask\"])\n",
    "        processed[\"rejected_attention_mask\"].append(rejected_encoded[\"attention_mask\"])\n",
    "        processed[\"prompt_len\"].append(len(prompt_encoded[\"input_ids\"]))\n",
    "\n",
    "    return processed\n",
    "\n",
    "\n",
    "print(\"Preprocessing dataset (applying chat template and tokenizing)...\")\n",
    "train_dataset = train_dataset_raw.map(\n",
    "    preprocess_function,\n",
    "    batched=True,\n",
    "    remove_columns=train_dataset_raw.column_names,\n",
    "    num_proc=os.cpu_count(),\n",
    "    desc=\"Preprocessing train dataset\"\n",
    ")\n",
    "eval_dataset = eval_dataset_raw.map(\n",
    "    preprocess_function,\n",
    "    batched=True,\n",
    "    remove_columns=eval_dataset_raw.column_names,\n",
    "    num_proc=os.cpu_count(),\n",
    "    desc=\"Preprocessing eval dataset\"\n",
    ")\n",
    "\n",
    "# Convert lists to tensors for DataLoader\n",
    "train_dataset.set_format(type=\"torch\", columns=['prompt_input_ids', 'chosen_input_ids', 'rejected_input_ids',\n",
    "                                                'prompt_attention_mask', 'chosen_attention_mask', 'rejected_attention_mask', 'prompt_len'])\n",
    "eval_dataset.set_format(type=\"torch\", columns=['prompt_input_ids', 'chosen_input_ids', 'rejected_input_ids',\n",
    "                                               'prompt_attention_mask', 'chosen_attention_mask', 'rejected_attention_mask', 'prompt_len'])\n",
    "\n",
    "\n",
    "print(f\"After preprocessing: {len(train_dataset)} training examples and {len(eval_dataset)} evaluation examples.\")\n",
    "\n",
    "# Custom Data Collator for DPO\n",
    "class DPODataCollator:\n",
    "    def __init__(self, tokenizer, max_length=MAX_LENGTH, max_prompt_length=MAX_PROMPT_LENGTH):\n",
    "        self.tokenizer = tokenizer\n",
    "        self.max_length = max_length\n",
    "        self.max_prompt_length = max_prompt_length\n",
    "\n",
    "    def __call__(self, features):\n",
    "        batch = {}\n",
    "        for key in features[0].keys():\n",
    "            batch[key] = [f[key] for f in features]\n",
    "\n",
    "        # Pad sequences\n",
    "        batch['prompt_input_ids'] = self.tokenizer.pad(\n",
    "            {'input_ids': batch['prompt_input_ids'], 'attention_mask': batch['prompt_attention_mask']},\n",
    "            padding='longest',\n",
    "            max_length=self.max_prompt_length,\n",
    "            return_tensors='pt',\n",
    "        )['input_ids']\n",
    "        batch['chosen_input_ids'] = self.tokenizer.pad(\n",
    "            {'input_ids': batch['chosen_input_ids'], 'attention_mask': batch['chosen_attention_mask']},\n",
    "            padding='longest',\n",
    "            max_length=self.max_length,\n",
    "            return_tensors='pt',\n",
    "        )['input_ids']\n",
    "        batch['rejected_input_ids'] = self.tokenizer.pad(\n",
    "            {'input_ids': batch['rejected_input_ids'], 'attention_mask': batch['rejected_attention_mask']},\n",
    "            padding='longest',\n",
    "            max_length=self.max_length,\n",
    "            return_tensors='pt',\n",
    "        )['input_ids']\n",
    "\n",
    "        # Also pad attention masks\n",
    "        batch['prompt_attention_mask'] = self.tokenizer.pad(\n",
    "            {'input_ids': [torch.ones(len(ids), dtype=torch.long) for ids in [f['prompt_input_ids'] for f in features]], 'attention_mask': batch['prompt_attention_mask']}, # Use actual lengths here\n",
    "            padding='longest',\n",
    "            max_length=self.max_prompt_length,\n",
    "            return_tensors='pt',\n",
    "        )['attention_mask']\n",
    "        batch['chosen_attention_mask'] = self.tokenizer.pad(\n",
    "            {'input_ids': [torch.ones(len(ids), dtype=torch.long) for ids in [f['chosen_input_ids'] for f in features]], 'attention_mask': batch['chosen_attention_mask']},\n",
    "            padding='longest',\n",
    "            max_length=self.max_length,\n",
    "            return_tensors='pt',\n",
    "        )['attention_mask']\n",
    "        batch['rejected_attention_mask'] = self.tokenizer.pad(\n",
    "            {'input_ids': [torch.ones(len(ids), dtype=torch.long) for ids in [f['rejected_input_ids'] for f in features]], 'attention_mask': batch['rejected_attention_mask']},\n",
    "            padding='longest',\n",
    "            max_length=self.max_length,\n",
    "            return_tensors='pt',\n",
    "        )['attention_mask']\n",
    "\n",
    "        # Convert prompt_len to tensor\n",
    "        batch['prompt_len'] = torch.tensor(batch['prompt_len'], dtype=torch.long)\n",
    "\n",
    "        return batch\n",
    "\n",
    "data_collator = DPODataCollator(tokenizer)\n",
    "\n",
    "train_dataloader = DataLoader(\n",
    "    train_dataset,\n",
    "    batch_size=BATCH_SIZE,\n",
    "    shuffle=True,\n",
    "    collate_fn=data_collator\n",
    ")\n",
    "eval_dataloader = DataLoader(\n",
    "    eval_dataset,\n",
    "    batch_size=BATCH_SIZE,\n",
    "    shuffle=False,\n",
    "    collate_fn=data_collator\n",
    ")\n",
    "\n",
    "# --- 3. Helper Function to Calculate Log Probabilities ---\n",
    "def get_log_probs(model, input_ids, attention_mask, prompt_len):\n",
    "    \"\"\"\n",
    "    Calculates the log probability of a sequence of tokens given a model,\n",
    "    masking out the prompt part and padding.\n",
    "\n",
    "    Args:\n",
    "        model: The language model (policy or reference).\n",
    "        input_ids: Tensor of tokenized sequence (prompt + response).\n",
    "        attention_mask: Tensor of attention mask for the sequence.\n",
    "        prompt_len: Tensor of lengths of the prompt for each example in batch.\n",
    "\n",
    "    Returns:\n",
    "        A tensor of shape (batch_size,) containing the sum of log probabilities\n",
    "        for the response tokens only.\n",
    "    \"\"\"\n",
    "    with torch.no_grad() if model.training is False else torch.enable_grad():\n",
    "        outputs = model(input_ids=input_ids, attention_mask=attention_mask)\n",
    "        logits = outputs.logits # (batch_size, sequence_length, vocab_size)\n",
    "\n",
    "    # Shift logits and labels for causal LM\n",
    "    # The loss is computed for token_i given token_0 to token_{i-1}\n",
    "    # So, logits[:, :-1, :] corresponds to predicting token_1 to token_{length-1}\n",
    "    # And input_ids[:, 1:] are the actual token_1 to token_{length-1}\n",
    "    logits = logits[:, :-1, :]\n",
    "    labels = input_ids[:, 1:]\n",
    "    \n",
    "    # Calculate log_softmax over the vocabulary dimension\n",
    "    log_probs = F.log_softmax(logits, dim=-1) # (batch_size, sequence_length - 1, vocab_size)\n",
    "\n",
    "    # Gather the log probabilities for the actual next tokens\n",
    "    # `labels.unsqueeze(-1)` makes it (batch_size, sequence_length - 1, 1)\n",
    "    # `log_probs.gather(dim=-1, index=...)` picks the log_prob at the label index\n",
    "    # `squeeze(-1)` removes the last dimension, resulting in (batch_size, sequence_length - 1)\n",
    "    token_log_probs = torch.gather(log_probs, dim=-1, index=labels.unsqueeze(-1)).squeeze(-1)\n",
    "\n",
    "    # Create a mask to only consider response tokens\n",
    "    # tokens corresponding to prompt_len[i] up to the end of the sequence.\n",
    "    # The mask needs to be shifted by 1 because `token_log_probs` is also shifted.\n",
    "    sequence_lengths = attention_mask.sum(dim=-1) # Actual length of each sequence before padding\n",
    "    \n",
    "    # Create an index tensor for each position in the shifted sequence\n",
    "    indices = torch.arange(token_log_probs.shape[1], device=token_log_probs.device).unsqueeze(0) # (1, seq_len-1)\n",
    "\n",
    "    # Mask for response tokens: True if index >= prompt_len (shifted by 1) AND index < sequence_length (shifted by 1)\n",
    "    response_mask = (indices >= (prompt_len - 1).unsqueeze(1)) & \\\n",
    "                    (indices < (sequence_lengths - 1).unsqueeze(1)) & \\\n",
    "                    (labels != tokenizer.pad_token_id) # Also exclude padding tokens explicitly\n",
    "\n",
    "    # Apply the mask\n",
    "    masked_log_probs = token_log_probs * response_mask.float()\n",
    "    \n",
    "    # Sum the log probabilities for each example\n",
    "    return masked_log_probs.sum(dim=-1) # (batch_size,)\n",
    "\n",
    "# --- 4. Optimizer and Scheduler ---\n",
    "optimizer = AdamW(policy_model.parameters(), lr=LEARNING_RATE)\n",
    "\n",
    "num_training_steps = (len(train_dataloader) // GRADIENT_ACCUMULATION_STEPS) * EPOCHS\n",
    "lr_scheduler = get_scheduler(\n",
    "    name=\"cosine\",\n",
    "    optimizer=optimizer,\n",
    "    num_warmup_steps=0,\n",
    "    num_training_steps=num_training_steps,\n",
    ")\n",
    "\n",
    "# --- 5. Training Loop ---\n",
    "print(\"Starting DPO training loop...\")\n",
    "global_step = 0\n",
    "policy_model.zero_grad()\n",
    "\n",
    "for epoch in range(EPOCHS):\n",
    "    policy_model.train() # Ensure policy model is in train mode\n",
    "    total_loss = 0\n",
    "    progress_bar = tqdm(train_dataloader, desc=f\"Epoch {epoch+1}/{EPOCHS} Training\")\n",
    "\n",
    "    for step, batch in enumerate(progress_bar):\n",
    "        # Move batch to device\n",
    "        batch = {k: v.to(DEVICE) for k, v in batch.items()}\n",
    "\n",
    "        # Compute log probabilities for chosen responses\n",
    "        log_prob_chosen_policy = get_log_probs(policy_model, batch['chosen_input_ids'], batch['chosen_attention_mask'], batch['prompt_len'])\n",
    "        with torch.no_grad(): # Ensure no gradients for reference model\n",
    "            log_prob_chosen_ref = get_log_probs(ref_model, batch['chosen_input_ids'], batch['chosen_attention_mask'], batch['prompt_len'])\n",
    "\n",
    "        # Compute log probabilities for rejected responses\n",
    "        log_prob_rejected_policy = get_log_probs(policy_model, batch['rejected_input_ids'], batch['rejected_attention_mask'], batch['prompt_len'])\n",
    "        with torch.no_grad():\n",
    "            log_prob_rejected_ref = get_log_probs(ref_model, batch['rejected_input_ids'], batch['rejected_attention_mask'], batch['prompt_len'])\n",
    "\n",
    "        # Calculate the DPO loss components\n",
    "        pi_log_ratio = log_prob_chosen_policy - log_prob_rejected_policy\n",
    "        ref_log_ratio = log_prob_chosen_ref - log_prob_rejected_ref\n",
    "\n",
    "        dpo_loss_components = -F.logsigmoid(BETA * (pi_log_ratio - ref_log_ratio))\n",
    "        \n",
    "        # Average loss over the batch\n",
    "        loss = dpo_loss_components.mean()\n",
    "        \n",
    "        # Backward pass with gradient accumulation\n",
    "        loss = loss / GRADIENT_ACCUMULATION_STEPS\n",
    "        loss.backward()\n",
    "\n",
    "        total_loss += loss.item() * GRADIENT_ACCUMULATION_STEPS # Scale back up for logging\n",
    "\n",
    "        if (step + 1) % GRADIENT_ACCUMULATION_STEPS == 0 or (step + 1) == len(train_dataloader):\n",
    "            # Clip gradients to prevent exploding gradients\n",
    "            torch.nn.utils.clip_grad_norm_(policy_model.parameters(), 1.0)\n",
    "            \n",
    "            optimizer.step()\n",
    "            lr_scheduler.step()\n",
    "            policy_model.zero_grad()\n",
    "            global_step += 1\n",
    "            \n",
    "            progress_bar.set_postfix({\n",
    "                \"loss\": total_loss / (step + 1),\n",
    "                \"learning_rate\": lr_scheduler.get_last_lr()[0],\n",
    "                \"global_step\": global_step\n",
    "            })\n",
    "\n",
    "    print(f\"Epoch {epoch+1} finished. Average Training Loss: {total_loss / len(train_dataloader)}\")\n",
    "\n",
    "    # --- Evaluation ---\n",
    "    policy_model.eval()\n",
    "    eval_loss = 0\n",
    "    eval_progress_bar = tqdm(eval_dataloader, desc=f\"Epoch {epoch+1}/{EPOCHS} Evaluation\")\n",
    "    with torch.no_grad():\n",
    "        for batch in eval_progress_bar:\n",
    "            batch = {k: v.to(DEVICE) for k, v in batch.items()}\n",
    "\n",
    "            log_prob_chosen_policy = get_log_probs(policy_model, batch['chosen_input_ids'], batch['chosen_attention_mask'], batch['prompt_len'])\n",
    "            log_prob_chosen_ref = get_log_probs(ref_model, batch['chosen_input_ids'], batch['chosen_attention_mask'], batch['prompt_len'])\n",
    "\n",
    "            log_prob_rejected_policy = get_log_probs(policy_model, batch['rejected_input_ids'], batch['rejected_attention_mask'], batch['prompt_len'])\n",
    "            log_prob_rejected_ref = get_log_probs(ref_model, batch['rejected_input_ids'], batch['rejected_attention_mask'], batch['prompt_len'])\n",
    "\n",
    "            pi_log_ratio = log_prob_chosen_policy - log_prob_rejected_policy\n",
    "            ref_log_ratio = log_prob_chosen_ref - log_prob_rejected_ref\n",
    "\n",
    "            dpo_loss_components = -F.logsigmoid(BETA * (pi_log_ratio - ref_log_ratio))\n",
    "            eval_loss += dpo_loss_components.mean().item()\n",
    "            eval_progress_bar.set_postfix({\"eval_loss\": eval_loss / (eval_progress_bar.n + 1)})\n",
    "            \n",
    "    print(f\"Epoch {epoch+1} finished. Average Evaluation Loss: {eval_loss / len(eval_dataloader)}\")\n",
    "\n",
    "# --- Save the fine-tuned model ---\n",
    "# Save the LoRA adapter\n",
    "final_model_path = os.path.join(OUTPUT_DIR, \"final_checkpoint\")\n",
    "policy_model.save_pretrained(final_model_path)\n",
    "tokenizer.save_pretrained(final_model_path)\n",
    "print(f\"Model saved to {final_model_path}\")\n",
    "\n",
    "print(\"DPO training complete!\")\n",
    "\n",
    "# --- Optional: Test the trained model ---\n",
    "if DEVICE == \"cuda\":\n",
    "    print(\"\\n--- Testing the trained model ---\")\n",
    "    from transformers import pipeline\n",
    "    from peft import PeftModel\n",
    "\n",
    "    # Load the base model\n",
    "    test_model = AutoModelForCausalLM.from_pretrained(\n",
    "        MODEL_ID,\n",
    "        torch_dtype=DTYPE,\n",
    "        device_map=DEVICE\n",
    "    )\n",
    "    # Load the LoRA adapter and merge\n",
    "    test_model = PeftModel.from_pretrained(test_model, final_model_path)\n",
    "    test_model = test_model.merge_and_unload() # Merge LoRA weights into base model\n",
    "    test_model.eval()\n",
    "\n",
    "    pipe = pipeline(\n",
    "        \"text-generation\",\n",
    "        model=test_model,\n",
    "        tokenizer=tokenizer,\n",
    "        torch_dtype=DTYPE,\n",
    "        device=0\n",
    "    )\n",
    "\n",
    "    test_prompt_message = [{\"role\": \"user\", \"content\": \"Write a short, heartwarming story about an old cat.\"}]\n",
    "    test_prompt = tokenizer.apply_chat_template(\n",
    "        test_prompt_message,\n",
    "        tokenize=False,\n",
    "        add_generation_prompt=True\n",
    "    )\n",
    "\n",
    "    print(f\"Generating response for prompt:\\n{test_prompt}\")\n",
    "    \n",
    "    outputs = pipe(\n",
    "        test_prompt,\n",
    "        max_new_tokens=100,\n",
    "        do_sample=True,\n",
    "        temperature=0.7,\n",
    "        top_k=50,\n",
    "        top_p=0.95,\n",
    "        repetition_penalty=1.1,\n",
    "        eos_token_id=tokenizer.eos_token_id\n",
    "    )\n",
    "    print(\"\\nGenerated Response (full):\")\n",
    "    print(outputs[0]['generated_text'])\n",
    "    \n",
    "    generated_text_only = outputs[0]['generated_text'].replace(test_prompt, '').strip()\n",
    "    print(\"\\nGenerated Response (clean):\")\n",
    "    print(generated_text_only)\n",
    "else:\n",
    "    print(\"\\nSkipping model testing: CUDA not available. Run on GPU for testing.\")"
   ]
  },
  {
   "cell_type": "markdown",
   "metadata": {},
   "source": [
    "# *DPO with ratings*"
   ]
  },
  {
   "cell_type": "code",
   "execution_count": 40,
   "metadata": {},
   "outputs": [
    {
     "name": "stdout",
     "output_type": "stream",
     "text": [
      "Preprocessing dataset (applying chat template and tokenizing)...\n",
      "Print score rejected\n",
      "tensor([ 7.0000,  8.5000,  7.0000,  6.0000,  3.0000,  8.0000,  7.0000,  7.5000,\n",
      "         4.0000,  8.5000,  4.0000,  3.0000,  9.0000,  7.0000,  8.5000,  2.0000,\n",
      "         6.0000,  5.0000,  3.0000,  7.0000,  3.0000,  8.0000,  3.0000,  8.0000,\n",
      "         7.0000,  8.0000,  6.5000,  7.0000,  7.0000,  6.5000,  7.5000,  8.5000,\n",
      "         3.0000,  7.0000,  8.0000,  6.0000,  8.0000,  3.0000,  7.0000,  7.5000,\n",
      "         8.0000,  6.0000,  5.0000,  6.0000,  7.5000,  7.5000,  6.0000,  7.0000,\n",
      "         8.5000,  7.0000,  7.0000,  5.0000,  4.0000,  8.0000,  7.5000,  8.5000,\n",
      "         2.0000,  8.0000,  6.0000,  8.0000,  7.0000,  6.0000,  3.0000,  2.0000,\n",
      "         6.0000,  3.0000,  8.0000,  6.0000,  7.5000,  8.0000,  7.0000,  6.5000,\n",
      "         8.5000, 10.0000,  7.5000,  2.0000,  7.5000,  6.5000,  6.0000,  6.0000,\n",
      "         2.0000,  6.0000,  8.5000,  7.0000,  7.5000,  7.5000,  6.0000,  7.0000,\n",
      "         7.5000,  6.0000,  4.0000,  7.0000,  7.5000,  4.0000,  7.0000,  7.0000,\n",
      "         6.0000,  7.0000,  7.0000,  7.0000,  7.0000,  2.0000,  8.0000,  2.0000,\n",
      "         4.0000,  1.0000,  3.0000,  6.0000,  7.5000,  7.5000,  3.0000,  7.5000,\n",
      "         4.0000,  3.0000,  7.0000,  3.0000,  7.0000,  8.0000,  3.0000,  3.0000,\n",
      "         6.0000,  8.0000,  7.0000,  6.0000,  7.0000,  2.0000,  6.0000,  2.0000,\n",
      "         3.0000,  6.0000,  7.0000,  3.0000,  2.0000,  5.0000,  8.5000,  7.0000,\n",
      "         3.0000,  7.5000,  3.0000,  6.5000,  6.0000,  7.5000,  4.0000,  6.0000,\n",
      "         2.0000,  7.0000,  6.0000,  6.0000,  6.5000,  3.0000,  8.0000,  2.0000,\n",
      "         8.0000,  4.0000,  7.0000,  5.0000,  3.0000,  8.5000,  7.0000,  3.0000,\n",
      "         7.0000,  3.0000,  7.0000,  6.5000,  8.5000,  4.0000,  7.5000,  6.0000,\n",
      "         3.0000,  9.0000,  6.5000,  2.0000,  5.0000,  8.0000,  3.0000,  3.0000,\n",
      "         7.0000,  7.0000,  9.0000,  6.0000,  7.5000,  7.0000,  8.5000,  4.0000,\n",
      "         3.0000,  8.0000,  3.0000,  7.0000,  7.0000,  6.0000,  6.0000,  7.5000,\n",
      "         4.0000,  7.0000,  2.0000,  6.0000,  5.0000,  8.0000,  7.5000,  4.0000,\n",
      "         7.0000,  7.5000,  8.5000,  7.0000,  6.0000,  5.0000,  8.0000,  8.0000,\n",
      "         7.0000,  7.5000,  3.0000,  7.0000,  5.0000,  8.0000,  5.0000,  3.0000,\n",
      "         8.0000,  8.0000,  8.5000,  7.0000,  7.5000,  2.0000,  6.0000,  9.0000,\n",
      "         7.5000,  5.0000,  7.0000,  6.0000,  6.0000,  7.0000,  8.0000,  5.0000,\n",
      "         6.0000,  4.0000,  7.0000,  3.0000,  7.5000,  4.0000,  8.0000,  3.0000,\n",
      "         3.0000,  4.0000,  7.0000,  4.0000,  7.0000,  7.5000,  7.0000,  6.0000,\n",
      "         7.5000,  6.0000,  8.0000,  7.0000,  7.0000,  5.0000,  6.0000,  8.0000,\n",
      "         5.0000,  7.0000,  6.5000,  3.0000,  7.0000,  8.5000,  7.0000,  4.0000,\n",
      "         6.0000,  7.0000,  6.0000,  3.0000,  3.0000,  6.0000,  8.0000,  3.0000,\n",
      "         8.0000,  9.0000,  3.0000,  7.0000,  6.0000,  8.5000,  4.0000,  7.0000,\n",
      "         8.0000,  3.0000,  7.0000,  7.0000,  8.5000,  5.0000,  7.0000,  8.0000,\n",
      "         3.0000,  4.0000,  5.0000,  8.0000,  5.0000,  6.0000,  7.0000,  7.5000,\n",
      "         6.0000,  6.0000,  7.5000,  7.0000,  7.5000,  8.0000,  6.0000,  1.0000,\n",
      "         7.5000,  7.5000,  6.5000,  3.0000,  8.5000,  8.5000,  3.0000,  5.0000,\n",
      "         4.0000,  2.0000,  7.0000,  2.0000,  8.0000,  6.0000,  3.0000,  5.0000,\n",
      "         8.5000,  2.0000,  5.0000,  8.0000,  8.5000,  7.0000,  7.5000,  7.0000,\n",
      "         6.0000,  4.0000,  7.0000,  8.0000,  6.0000,  6.0000,  4.0000,  7.5000,\n",
      "         4.0000,  2.0000,  8.0000,  2.0000,  7.0000,  6.5000,  7.5000,  6.0000,\n",
      "         7.0000,  2.0000,  8.5000,  4.0000,  6.5000,  7.0000,  4.0000,  8.0000,\n",
      "         7.0000,  5.0000,  6.0000,  2.0000,  6.5000,  7.5000,  3.0000,  8.5000,\n",
      "         3.0000,  8.5000,  7.5000,  5.0000,  3.0000,  5.0000,  7.5000,  7.0000,\n",
      "         5.0000,  7.5000,  8.0000,  5.0000,  3.0000,  7.0000,  7.0000,  6.5000,\n",
      "         6.0000,  7.0000,  7.5000,  8.5000,  4.0000,  8.5000,  8.0000,  1.0000,\n",
      "         8.0000,  7.5000,  8.0000,  4.0000,  6.0000,  6.0000,  4.0000,  6.0000,\n",
      "         3.0000,  7.0000,  6.0000,  1.0000,  7.5000,  3.0000,  6.0000,  4.0000,\n",
      "         7.0000,  6.0000,  7.5000,  2.0000,  6.5000,  8.0000,  7.0000,  7.5000,\n",
      "         7.0000,  4.0000,  8.0000,  7.0000,  2.0000,  2.0000,  7.0000,  7.5000,\n",
      "         7.0000,  7.0000,  6.0000,  2.0000,  3.0000,  6.0000,  7.0000,  7.0000,\n",
      "         7.0000,  7.5000,  8.0000,  8.0000,  3.0000,  3.0000,  7.5000,  8.5000,\n",
      "         6.0000,  6.0000,  4.0000,  7.0000,  7.0000,  5.0000,  3.0000,  7.5000,\n",
      "         6.5000,  6.5000,  6.0000,  8.0000,  3.0000,  7.0000,  7.0000,  7.5000,\n",
      "         7.0000])\n",
      "After preprocessing: 449 training examples and 108 evaluation examples.\n",
      "Starting DPO with ratings training loop...\n"
     ]
    },
    {
     "name": "stderr",
     "output_type": "stream",
     "text": [
      "Epoch 1/1 Training:   0%|          | 0/225 [00:00<?, ?it/s]"
     ]
    },
    {
     "name": "stdout",
     "output_type": "stream",
     "text": [
      "[tensor(8.5000), tensor(8.)]\n",
      "[tensor(6.), tensor(2.)]\n"
     ]
    },
    {
     "name": "stderr",
     "output_type": "stream",
     "text": [
      "Epoch 1/1 Training:   0%|          | 1/225 [00:03<14:16,  3.82s/it]"
     ]
    },
    {
     "name": "stdout",
     "output_type": "stream",
     "text": [
      "[tensor(7.), tensor(9.)]\n",
      "[tensor(6.), tensor(9.)]\n"
     ]
    },
    {
     "name": "stderr",
     "output_type": "stream",
     "text": [
      "Epoch 1/1 Training:   1%|          | 2/225 [00:32<1:08:11, 18.35s/it]"
     ]
    },
    {
     "name": "stdout",
     "output_type": "stream",
     "text": [
      "[tensor(8.5000), tensor(9.)]\n",
      "[tensor(8.), tensor(8.)]\n"
     ]
    },
    {
     "name": "stderr",
     "output_type": "stream",
     "text": [
      "Epoch 1/1 Training:   1%|▏         | 3/225 [00:35<42:48, 11.57s/it]  "
     ]
    },
    {
     "name": "stdout",
     "output_type": "stream",
     "text": [
      "[tensor(6.), tensor(8.)]\n",
      "[tensor(2.), tensor(7.)]\n"
     ]
    },
    {
     "name": "stderr",
     "output_type": "stream",
     "text": [
      "Epoch 1/1 Training:   2%|▏         | 4/225 [00:39<30:24,  8.25s/it, loss=1.12, learning_rate=9.99e-6, global_step=1]"
     ]
    },
    {
     "name": "stdout",
     "output_type": "stream",
     "text": [
      "[tensor(8.5000), tensor(8.)]\n",
      "[tensor(3.), tensor(7.)]\n"
     ]
    },
    {
     "name": "stderr",
     "output_type": "stream",
     "text": [
      "Epoch 1/1 Training:   2%|▏         | 5/225 [00:41<22:42,  6.19s/it, loss=1.12, learning_rate=9.99e-6, global_step=1]"
     ]
    },
    {
     "name": "stdout",
     "output_type": "stream",
     "text": [
      "[tensor(10.), tensor(8.5000)]\n",
      "[tensor(8.5000), tensor(8.)]\n"
     ]
    },
    {
     "name": "stderr",
     "output_type": "stream",
     "text": [
      "Epoch 1/1 Training:   3%|▎         | 6/225 [01:10<51:11, 14.02s/it, loss=1.12, learning_rate=9.99e-6, global_step=1]"
     ]
    },
    {
     "name": "stdout",
     "output_type": "stream",
     "text": [
      "[tensor(8.5000), tensor(9.)]\n",
      "[tensor(6.), tensor(7.)]\n"
     ]
    },
    {
     "name": "stderr",
     "output_type": "stream",
     "text": [
      "Epoch 1/1 Training:   3%|▎         | 7/225 [01:13<37:53, 10.43s/it, loss=1.12, learning_rate=9.99e-6, global_step=1]"
     ]
    },
    {
     "name": "stdout",
     "output_type": "stream",
     "text": [
      "[tensor(8.5000), tensor(8.5000)]\n",
      "[tensor(8.), tensor(7.)]\n"
     ]
    },
    {
     "name": "stderr",
     "output_type": "stream",
     "text": [
      "Epoch 1/1 Training:   4%|▎         | 8/225 [01:31<46:28, 12.85s/it, loss=1.1, learning_rate=9.97e-6, global_step=2] "
     ]
    },
    {
     "name": "stdout",
     "output_type": "stream",
     "text": [
      "[tensor(7.5000), tensor(8.)]\n",
      "[tensor(7.), tensor(7.)]\n"
     ]
    },
    {
     "name": "stderr",
     "output_type": "stream",
     "text": [
      "Epoch 1/1 Training:   4%|▍         | 9/225 [01:34<35:20,  9.82s/it, loss=1.1, learning_rate=9.97e-6, global_step=2]"
     ]
    },
    {
     "name": "stdout",
     "output_type": "stream",
     "text": [
      "[tensor(8.5000), tensor(6.)]\n",
      "[tensor(8.5000), tensor(4.)]\n"
     ]
    },
    {
     "name": "stderr",
     "output_type": "stream",
     "text": [
      "Epoch 1/1 Training:   4%|▍         | 10/225 [01:37<27:38,  7.71s/it, loss=1.1, learning_rate=9.97e-6, global_step=2]"
     ]
    },
    {
     "name": "stdout",
     "output_type": "stream",
     "text": [
      "[tensor(9.), tensor(7.5000)]\n",
      "[tensor(8.5000), tensor(6.5000)]\n"
     ]
    },
    {
     "name": "stderr",
     "output_type": "stream",
     "text": [
      "Epoch 1/1 Training:   5%|▍         | 11/225 [01:40<21:57,  6.16s/it, loss=1.1, learning_rate=9.97e-6, global_step=2]"
     ]
    },
    {
     "name": "stdout",
     "output_type": "stream",
     "text": [
      "[tensor(8.), tensor(8.5000)]\n",
      "[tensor(6.), tensor(7.)]\n"
     ]
    },
    {
     "name": "stderr",
     "output_type": "stream",
     "text": [
      "Epoch 1/1 Training:   5%|▌         | 12/225 [01:44<18:51,  5.31s/it, loss=1.03, learning_rate=9.93e-6, global_step=3]"
     ]
    },
    {
     "name": "stdout",
     "output_type": "stream",
     "text": [
      "[tensor(8.), tensor(8.5000)]\n",
      "[tensor(7.5000), tensor(6.)]\n"
     ]
    },
    {
     "name": "stderr",
     "output_type": "stream",
     "text": [
      "Epoch 1/1 Training:   6%|▌         | 13/225 [01:46<16:03,  4.55s/it, loss=1.03, learning_rate=9.93e-6, global_step=3]"
     ]
    },
    {
     "name": "stdout",
     "output_type": "stream",
     "text": [
      "[tensor(9.), tensor(9.)]\n",
      "[tensor(3.), tensor(3.)]\n"
     ]
    },
    {
     "name": "stderr",
     "output_type": "stream",
     "text": [
      "Epoch 1/1 Training:   6%|▌         | 14/225 [01:49<14:05,  4.01s/it, loss=1.03, learning_rate=9.93e-6, global_step=3]"
     ]
    },
    {
     "name": "stdout",
     "output_type": "stream",
     "text": [
      "[tensor(9.), tensor(8.5000)]\n",
      "[tensor(4.), tensor(6.)]\n"
     ]
    },
    {
     "name": "stderr",
     "output_type": "stream",
     "text": [
      "Epoch 1/1 Training:   7%|▋         | 15/225 [01:52<12:35,  3.60s/it, loss=1.03, learning_rate=9.93e-6, global_step=3]"
     ]
    },
    {
     "name": "stdout",
     "output_type": "stream",
     "text": [
      "[tensor(9.), tensor(8.)]\n",
      "[tensor(7.), tensor(7.)]\n"
     ]
    },
    {
     "name": "stderr",
     "output_type": "stream",
     "text": [
      "Epoch 1/1 Training:   7%|▋         | 16/225 [01:55<12:12,  3.50s/it, loss=1.12, learning_rate=9.87e-6, global_step=4]"
     ]
    },
    {
     "name": "stdout",
     "output_type": "stream",
     "text": [
      "[tensor(8.5000), tensor(9.)]\n",
      "[tensor(8.), tensor(8.)]\n"
     ]
    },
    {
     "name": "stderr",
     "output_type": "stream",
     "text": [
      "Epoch 1/1 Training:   8%|▊         | 17/225 [01:57<11:03,  3.19s/it, loss=1.12, learning_rate=9.87e-6, global_step=4]"
     ]
    },
    {
     "name": "stdout",
     "output_type": "stream",
     "text": [
      "[tensor(8.5000), tensor(9.)]\n",
      "[tensor(6.5000), tensor(5.)]\n"
     ]
    },
    {
     "name": "stderr",
     "output_type": "stream",
     "text": [
      "Epoch 1/1 Training:   8%|▊         | 18/225 [02:14<24:30,  7.11s/it, loss=1.12, learning_rate=9.87e-6, global_step=4]"
     ]
    },
    {
     "name": "stdout",
     "output_type": "stream",
     "text": [
      "[tensor(7.), tensor(8.)]\n",
      "[tensor(4.), tensor(4.)]\n"
     ]
    },
    {
     "name": "stderr",
     "output_type": "stream",
     "text": [
      "Epoch 1/1 Training:   8%|▊         | 19/225 [02:18<21:19,  6.21s/it, loss=1.12, learning_rate=9.87e-6, global_step=4]"
     ]
    },
    {
     "name": "stdout",
     "output_type": "stream",
     "text": [
      "[tensor(8.5000), tensor(7.)]\n",
      "[tensor(8.), tensor(5.)]\n"
     ]
    },
    {
     "name": "stderr",
     "output_type": "stream",
     "text": [
      "Epoch 1/1 Training:   9%|▉         | 20/225 [02:21<18:24,  5.39s/it, loss=1.12, learning_rate=9.8e-6, global_step=5] "
     ]
    },
    {
     "name": "stdout",
     "output_type": "stream",
     "text": [
      "[tensor(6.5000), tensor(8.)]\n",
      "[tensor(4.), tensor(6.5000)]\n"
     ]
    },
    {
     "name": "stderr",
     "output_type": "stream",
     "text": [
      "Epoch 1/1 Training:   9%|▉         | 21/225 [02:24<15:37,  4.59s/it, loss=1.12, learning_rate=9.8e-6, global_step=5]"
     ]
    },
    {
     "name": "stdout",
     "output_type": "stream",
     "text": [
      "[tensor(9.), tensor(8.)]\n",
      "[tensor(7.), tensor(7.)]\n"
     ]
    },
    {
     "name": "stderr",
     "output_type": "stream",
     "text": [
      "Epoch 1/1 Training:  10%|▉         | 22/225 [02:27<13:34,  4.01s/it, loss=1.12, learning_rate=9.8e-6, global_step=5]"
     ]
    },
    {
     "name": "stdout",
     "output_type": "stream",
     "text": [
      "[tensor(7.), tensor(8.)]\n",
      "[tensor(6.), tensor(6.)]\n"
     ]
    },
    {
     "name": "stderr",
     "output_type": "stream",
     "text": [
      "Epoch 1/1 Training:  10%|█         | 23/225 [02:29<12:13,  3.63s/it, loss=1.12, learning_rate=9.8e-6, global_step=5]"
     ]
    },
    {
     "name": "stdout",
     "output_type": "stream",
     "text": [
      "[tensor(8.), tensor(7.5000)]\n",
      "[tensor(3.), tensor(3.)]\n"
     ]
    },
    {
     "name": "stderr",
     "output_type": "stream",
     "text": [
      "Epoch 1/1 Training:  11%|█         | 24/225 [02:33<12:07,  3.62s/it, loss=1.14, learning_rate=9.72e-6, global_step=6]"
     ]
    },
    {
     "name": "stdout",
     "output_type": "stream",
     "text": [
      "[tensor(9.), tensor(6.)]\n",
      "[tensor(8.), tensor(6.)]\n"
     ]
    },
    {
     "name": "stderr",
     "output_type": "stream",
     "text": [
      "Epoch 1/1 Training:  11%|█         | 25/225 [02:36<11:21,  3.41s/it, loss=1.14, learning_rate=9.72e-6, global_step=6]"
     ]
    },
    {
     "name": "stdout",
     "output_type": "stream",
     "text": [
      "[tensor(8.), tensor(9.)]\n",
      "[tensor(7.5000), tensor(6.)]\n"
     ]
    },
    {
     "name": "stderr",
     "output_type": "stream",
     "text": [
      "Epoch 1/1 Training:  12%|█▏        | 26/225 [02:39<10:48,  3.26s/it, loss=1.14, learning_rate=9.72e-6, global_step=6]"
     ]
    },
    {
     "name": "stdout",
     "output_type": "stream",
     "text": [
      "[tensor(7.5000), tensor(9.)]\n",
      "[tensor(2.), tensor(7.5000)]\n"
     ]
    },
    {
     "name": "stderr",
     "output_type": "stream",
     "text": [
      "Epoch 1/1 Training:  12%|█▏        | 27/225 [02:42<10:15,  3.11s/it, loss=1.14, learning_rate=9.72e-6, global_step=6]"
     ]
    },
    {
     "name": "stdout",
     "output_type": "stream",
     "text": [
      "[tensor(7.), tensor(8.5000)]\n",
      "[tensor(6.), tensor(1.)]\n"
     ]
    },
    {
     "name": "stderr",
     "output_type": "stream",
     "text": [
      "Epoch 1/1 Training:  12%|█▏        | 28/225 [02:44<09:57,  3.03s/it, loss=1.15, learning_rate=9.62e-6, global_step=7]"
     ]
    },
    {
     "name": "stdout",
     "output_type": "stream",
     "text": [
      "[tensor(8.5000), tensor(8.5000)]\n",
      "[tensor(8.), tensor(2.)]\n"
     ]
    },
    {
     "name": "stderr",
     "output_type": "stream",
     "text": [
      "Epoch 1/1 Training:  13%|█▎        | 29/225 [02:47<09:33,  2.93s/it, loss=1.15, learning_rate=9.62e-6, global_step=7]"
     ]
    },
    {
     "name": "stdout",
     "output_type": "stream",
     "text": [
      "[tensor(9.), tensor(8.5000)]\n",
      "[tensor(3.), tensor(6.)]\n"
     ]
    },
    {
     "name": "stderr",
     "output_type": "stream",
     "text": [
      "Epoch 1/1 Training:  13%|█▎        | 30/225 [02:50<09:10,  2.82s/it, loss=1.15, learning_rate=9.62e-6, global_step=7]"
     ]
    },
    {
     "name": "stdout",
     "output_type": "stream",
     "text": [
      "[tensor(9.), tensor(9.)]\n",
      "[tensor(8.5000), tensor(4.)]\n"
     ]
    },
    {
     "name": "stderr",
     "output_type": "stream",
     "text": [
      "Epoch 1/1 Training:  14%|█▍        | 31/225 [02:52<08:46,  2.72s/it, loss=1.15, learning_rate=9.62e-6, global_step=7]"
     ]
    },
    {
     "name": "stdout",
     "output_type": "stream",
     "text": [
      "[tensor(8.5000), tensor(7.)]\n",
      "[tensor(8.), tensor(4.)]\n"
     ]
    },
    {
     "name": "stderr",
     "output_type": "stream",
     "text": [
      "Epoch 1/1 Training:  14%|█▍        | 32/225 [02:55<09:01,  2.80s/it, loss=1.18, learning_rate=9.5e-6, global_step=8] "
     ]
    },
    {
     "name": "stdout",
     "output_type": "stream",
     "text": [
      "[tensor(7.), tensor(9.)]\n",
      "[tensor(6.), tensor(7.5000)]\n"
     ]
    },
    {
     "name": "stderr",
     "output_type": "stream",
     "text": [
      "Epoch 1/1 Training:  15%|█▍        | 33/225 [02:58<09:05,  2.84s/it, loss=1.18, learning_rate=9.5e-6, global_step=8]"
     ]
    },
    {
     "name": "stdout",
     "output_type": "stream",
     "text": [
      "[tensor(7.5000), tensor(7.5000)]\n",
      "[tensor(4.), tensor(4.)]\n"
     ]
    },
    {
     "name": "stderr",
     "output_type": "stream",
     "text": [
      "Epoch 1/1 Training:  15%|█▌        | 34/225 [03:01<09:05,  2.86s/it, loss=1.18, learning_rate=9.5e-6, global_step=8]"
     ]
    },
    {
     "name": "stdout",
     "output_type": "stream",
     "text": [
      "[tensor(7.), tensor(9.)]\n",
      "[tensor(4.), tensor(8.)]\n"
     ]
    },
    {
     "name": "stderr",
     "output_type": "stream",
     "text": [
      "Epoch 1/1 Training:  16%|█▌        | 35/225 [03:04<08:51,  2.80s/it, loss=1.18, learning_rate=9.5e-6, global_step=8]"
     ]
    },
    {
     "name": "stdout",
     "output_type": "stream",
     "text": [
      "[tensor(8.5000), tensor(9.)]\n",
      "[tensor(8.), tensor(7.)]\n"
     ]
    },
    {
     "name": "stderr",
     "output_type": "stream",
     "text": [
      "Epoch 1/1 Training:  16%|█▌        | 36/225 [03:07<09:10,  2.91s/it, loss=1.17, learning_rate=9.38e-6, global_step=9]"
     ]
    },
    {
     "name": "stdout",
     "output_type": "stream",
     "text": [
      "[tensor(8.5000), tensor(8.)]\n",
      "[tensor(3.), tensor(8.)]\n"
     ]
    },
    {
     "name": "stderr",
     "output_type": "stream",
     "text": [
      "Epoch 1/1 Training:  16%|█▋        | 37/225 [03:09<08:39,  2.76s/it, loss=1.17, learning_rate=9.38e-6, global_step=9]"
     ]
    },
    {
     "name": "stdout",
     "output_type": "stream",
     "text": [
      "[tensor(8.5000), tensor(8.)]\n",
      "[tensor(7.), tensor(7.)]\n"
     ]
    },
    {
     "name": "stderr",
     "output_type": "stream",
     "text": [
      "Epoch 1/1 Training:  17%|█▋        | 38/225 [03:17<13:01,  4.18s/it, loss=1.17, learning_rate=9.38e-6, global_step=9]"
     ]
    },
    {
     "name": "stdout",
     "output_type": "stream",
     "text": [
      "[tensor(9.), tensor(7.5000)]\n",
      "[tensor(7.5000), tensor(6.)]\n"
     ]
    },
    {
     "name": "stderr",
     "output_type": "stream",
     "text": [
      "Epoch 1/1 Training:  17%|█▋        | 39/225 [03:20<11:53,  3.84s/it, loss=1.17, learning_rate=9.38e-6, global_step=9]"
     ]
    },
    {
     "name": "stdout",
     "output_type": "stream",
     "text": [
      "[tensor(8.), tensor(8.)]\n",
      "[tensor(2.), tensor(7.5000)]\n"
     ]
    },
    {
     "name": "stderr",
     "output_type": "stream",
     "text": [
      "Epoch 1/1 Training:  18%|█▊        | 40/225 [03:23<11:34,  3.75s/it, loss=1.17, learning_rate=9.23e-6, global_step=10]"
     ]
    },
    {
     "name": "stdout",
     "output_type": "stream",
     "text": [
      "[tensor(9.), tensor(8.)]\n",
      "[tensor(4.), tensor(6.5000)]\n"
     ]
    },
    {
     "name": "stderr",
     "output_type": "stream",
     "text": [
      "Epoch 1/1 Training:  18%|█▊        | 41/225 [03:26<10:50,  3.54s/it, loss=1.17, learning_rate=9.23e-6, global_step=10]"
     ]
    },
    {
     "name": "stdout",
     "output_type": "stream",
     "text": [
      "[tensor(8.), tensor(9.)]\n",
      "[tensor(2.), tensor(8.)]\n"
     ]
    },
    {
     "name": "stderr",
     "output_type": "stream",
     "text": [
      "Epoch 1/1 Training:  19%|█▊        | 42/225 [03:44<23:33,  7.72s/it, loss=1.17, learning_rate=9.23e-6, global_step=10]"
     ]
    },
    {
     "name": "stdout",
     "output_type": "stream",
     "text": [
      "[tensor(8.), tensor(8.5000)]\n",
      "[tensor(7.), tensor(3.)]\n"
     ]
    },
    {
     "name": "stderr",
     "output_type": "stream",
     "text": [
      "Epoch 1/1 Training:  19%|█▉        | 43/225 [03:47<19:13,  6.34s/it, loss=1.17, learning_rate=9.23e-6, global_step=10]"
     ]
    },
    {
     "name": "stdout",
     "output_type": "stream",
     "text": [
      "[tensor(8.5000), tensor(8.5000)]\n",
      "[tensor(7.5000), tensor(7.5000)]\n"
     ]
    },
    {
     "name": "stderr",
     "output_type": "stream",
     "text": [
      "Epoch 1/1 Training:  20%|█▉        | 44/225 [03:51<16:40,  5.53s/it, loss=1.18, learning_rate=9.08e-6, global_step=11]"
     ]
    },
    {
     "name": "stdout",
     "output_type": "stream",
     "text": [
      "[tensor(7.), tensor(8.)]\n",
      "[tensor(3.), tensor(7.5000)]\n"
     ]
    },
    {
     "name": "stderr",
     "output_type": "stream",
     "text": [
      "Epoch 1/1 Training:  20%|██        | 45/225 [04:07<26:42,  8.90s/it, loss=1.18, learning_rate=9.08e-6, global_step=11]"
     ]
    },
    {
     "name": "stdout",
     "output_type": "stream",
     "text": [
      "[tensor(8.5000), tensor(8.5000)]\n",
      "[tensor(8.5000), tensor(8.5000)]\n"
     ]
    },
    {
     "name": "stderr",
     "output_type": "stream",
     "text": [
      "Epoch 1/1 Training:  20%|██        | 46/225 [04:10<21:15,  7.12s/it, loss=1.18, learning_rate=9.08e-6, global_step=11]"
     ]
    },
    {
     "name": "stdout",
     "output_type": "stream",
     "text": [
      "[tensor(7.), tensor(8.5000)]\n",
      "[tensor(6.), tensor(7.)]\n"
     ]
    },
    {
     "name": "stderr",
     "output_type": "stream",
     "text": [
      "Epoch 1/1 Training:  21%|██        | 47/225 [04:13<17:20,  5.85s/it, loss=1.18, learning_rate=9.08e-6, global_step=11]"
     ]
    },
    {
     "name": "stdout",
     "output_type": "stream",
     "text": [
      "[tensor(8.5000), tensor(8.5000)]\n",
      "[tensor(7.), tensor(7.5000)]\n"
     ]
    },
    {
     "name": "stderr",
     "output_type": "stream",
     "text": [
      "Epoch 1/1 Training:  21%|██▏       | 48/225 [04:16<14:46,  5.01s/it, loss=1.16, learning_rate=8.91e-6, global_step=12]"
     ]
    },
    {
     "name": "stdout",
     "output_type": "stream",
     "text": [
      "[tensor(7.), tensor(9.)]\n",
      "[tensor(6.), tensor(6.)]\n"
     ]
    },
    {
     "name": "stderr",
     "output_type": "stream",
     "text": [
      "Epoch 1/1 Training:  22%|██▏       | 49/225 [04:19<12:33,  4.28s/it, loss=1.16, learning_rate=8.91e-6, global_step=12]"
     ]
    },
    {
     "name": "stdout",
     "output_type": "stream",
     "text": [
      "[tensor(8.), tensor(7.)]\n",
      "[tensor(7.), tensor(6.5000)]\n"
     ]
    },
    {
     "name": "stderr",
     "output_type": "stream",
     "text": [
      "Epoch 1/1 Training:  22%|██▏       | 50/225 [04:22<11:14,  3.86s/it, loss=1.16, learning_rate=8.91e-6, global_step=12]"
     ]
    },
    {
     "name": "stdout",
     "output_type": "stream",
     "text": [
      "[tensor(8.), tensor(7.5000)]\n",
      "[tensor(6.), tensor(7.)]\n"
     ]
    },
    {
     "name": "stderr",
     "output_type": "stream",
     "text": [
      "Epoch 1/1 Training:  23%|██▎       | 51/225 [04:24<10:03,  3.47s/it, loss=1.16, learning_rate=8.91e-6, global_step=12]"
     ]
    },
    {
     "name": "stdout",
     "output_type": "stream",
     "text": [
      "[tensor(8.), tensor(8.5000)]\n",
      "[tensor(6.), tensor(6.)]\n"
     ]
    },
    {
     "name": "stderr",
     "output_type": "stream",
     "text": [
      "Epoch 1/1 Training:  23%|██▎       | 52/225 [04:28<09:50,  3.42s/it, loss=1.15, learning_rate=8.73e-6, global_step=13]"
     ]
    },
    {
     "name": "stdout",
     "output_type": "stream",
     "text": [
      "[tensor(9.), tensor(9.)]\n",
      "[tensor(8.5000), tensor(9.)]\n"
     ]
    },
    {
     "name": "stderr",
     "output_type": "stream",
     "text": [
      "Epoch 1/1 Training:  24%|██▎       | 53/225 [04:31<09:37,  3.36s/it, loss=1.15, learning_rate=8.73e-6, global_step=13]"
     ]
    },
    {
     "name": "stdout",
     "output_type": "stream",
     "text": [
      "[tensor(6.), tensor(7.)]\n",
      "[tensor(4.), tensor(7.)]\n"
     ]
    },
    {
     "name": "stderr",
     "output_type": "stream",
     "text": [
      "Epoch 1/1 Training:  24%|██▍       | 54/225 [04:33<08:57,  3.14s/it, loss=1.15, learning_rate=8.73e-6, global_step=13]"
     ]
    },
    {
     "name": "stdout",
     "output_type": "stream",
     "text": [
      "[tensor(8.), tensor(9.)]\n",
      "[tensor(7.), tensor(6.)]\n"
     ]
    },
    {
     "name": "stderr",
     "output_type": "stream",
     "text": [
      "Epoch 1/1 Training:  24%|██▍       | 55/225 [04:50<20:01,  7.07s/it, loss=1.15, learning_rate=8.73e-6, global_step=13]"
     ]
    },
    {
     "name": "stdout",
     "output_type": "stream",
     "text": [
      "[tensor(8.), tensor(8.5000)]\n",
      "[tensor(7.5000), tensor(6.)]\n"
     ]
    },
    {
     "name": "stderr",
     "output_type": "stream",
     "text": [
      "Epoch 1/1 Training:  25%|██▍       | 56/225 [04:53<16:44,  5.95s/it, loss=1.13, learning_rate=8.54e-6, global_step=14]"
     ]
    },
    {
     "name": "stdout",
     "output_type": "stream",
     "text": [
      "[tensor(7.), tensor(3.)]\n",
      "[tensor(6.5000), tensor(3.)]\n"
     ]
    },
    {
     "name": "stderr",
     "output_type": "stream",
     "text": [
      "Epoch 1/1 Training:  25%|██▌       | 57/225 [04:56<14:00,  5.00s/it, loss=1.13, learning_rate=8.54e-6, global_step=14]"
     ]
    },
    {
     "name": "stdout",
     "output_type": "stream",
     "text": [
      "[tensor(8.), tensor(8.5000)]\n",
      "[tensor(7.), tensor(7.)]\n"
     ]
    },
    {
     "name": "stderr",
     "output_type": "stream",
     "text": [
      "Epoch 1/1 Training:  26%|██▌       | 58/225 [04:59<12:04,  4.34s/it, loss=1.13, learning_rate=8.54e-6, global_step=14]"
     ]
    },
    {
     "name": "stdout",
     "output_type": "stream",
     "text": [
      "[tensor(7.), tensor(9.5000)]\n",
      "[tensor(1.), tensor(4.)]\n"
     ]
    },
    {
     "name": "stderr",
     "output_type": "stream",
     "text": [
      "Epoch 1/1 Training:  26%|██▌       | 59/225 [05:15<22:26,  8.11s/it, loss=1.13, learning_rate=8.54e-6, global_step=14]"
     ]
    },
    {
     "name": "stdout",
     "output_type": "stream",
     "text": [
      "[tensor(8.5000), tensor(8.5000)]\n",
      "[tensor(7.), tensor(7.)]\n"
     ]
    },
    {
     "name": "stderr",
     "output_type": "stream",
     "text": [
      "Epoch 1/1 Training:  27%|██▋       | 60/225 [05:19<18:23,  6.69s/it, loss=1.14, learning_rate=8.33e-6, global_step=15]"
     ]
    },
    {
     "name": "stdout",
     "output_type": "stream",
     "text": [
      "[tensor(8.), tensor(7.5000)]\n",
      "[tensor(6.), tensor(3.)]\n"
     ]
    },
    {
     "name": "stderr",
     "output_type": "stream",
     "text": [
      "Epoch 1/1 Training:  27%|██▋       | 61/225 [05:21<14:53,  5.45s/it, loss=1.14, learning_rate=8.33e-6, global_step=15]"
     ]
    },
    {
     "name": "stdout",
     "output_type": "stream",
     "text": [
      "[tensor(8.5000), tensor(8.)]\n",
      "[tensor(7.), tensor(5.)]\n"
     ]
    },
    {
     "name": "stderr",
     "output_type": "stream",
     "text": [
      "Epoch 1/1 Training:  28%|██▊       | 62/225 [05:24<12:31,  4.61s/it, loss=1.14, learning_rate=8.33e-6, global_step=15]"
     ]
    },
    {
     "name": "stdout",
     "output_type": "stream",
     "text": [
      "[tensor(8.), tensor(8.)]\n",
      "[tensor(5.), tensor(7.)]\n"
     ]
    },
    {
     "name": "stderr",
     "output_type": "stream",
     "text": [
      "Epoch 1/1 Training:  28%|██▊       | 63/225 [05:41<22:18,  8.27s/it, loss=1.14, learning_rate=8.33e-6, global_step=15]"
     ]
    },
    {
     "name": "stdout",
     "output_type": "stream",
     "text": [
      "[tensor(8.5000), tensor(8.5000)]\n",
      "[tensor(8.5000), tensor(7.)]\n"
     ]
    },
    {
     "name": "stderr",
     "output_type": "stream",
     "text": [
      "Epoch 1/1 Training:  28%|██▊       | 64/225 [05:44<18:15,  6.80s/it, loss=1.13, learning_rate=8.12e-6, global_step=16]"
     ]
    },
    {
     "name": "stdout",
     "output_type": "stream",
     "text": [
      "[tensor(8.), tensor(8.5000)]\n",
      "[tensor(7.), tensor(8.)]\n"
     ]
    },
    {
     "name": "stderr",
     "output_type": "stream",
     "text": [
      "Epoch 1/1 Training:  29%|██▉       | 65/225 [06:03<27:20, 10.25s/it, loss=1.13, learning_rate=8.12e-6, global_step=16]"
     ]
    },
    {
     "name": "stdout",
     "output_type": "stream",
     "text": [
      "[tensor(8.), tensor(8.5000)]\n",
      "[tensor(7.), tensor(7.)]\n"
     ]
    },
    {
     "name": "stderr",
     "output_type": "stream",
     "text": [
      "Epoch 1/1 Training:  29%|██▉       | 66/225 [06:05<21:05,  7.96s/it, loss=1.13, learning_rate=8.12e-6, global_step=16]"
     ]
    },
    {
     "name": "stdout",
     "output_type": "stream",
     "text": [
      "[tensor(7.), tensor(6.5000)]\n",
      "[tensor(2.), tensor(6.)]\n"
     ]
    },
    {
     "name": "stderr",
     "output_type": "stream",
     "text": [
      "Epoch 1/1 Training:  30%|██▉       | 67/225 [06:08<16:41,  6.34s/it, loss=1.13, learning_rate=8.12e-6, global_step=16]"
     ]
    },
    {
     "name": "stdout",
     "output_type": "stream",
     "text": [
      "[tensor(8.), tensor(8.5000)]\n",
      "[tensor(7.), tensor(7.)]\n"
     ]
    },
    {
     "name": "stderr",
     "output_type": "stream",
     "text": [
      "Epoch 1/1 Training:  30%|███       | 68/225 [06:11<14:02,  5.37s/it, loss=1.13, learning_rate=7.89e-6, global_step=17]"
     ]
    },
    {
     "name": "stdout",
     "output_type": "stream",
     "text": [
      "[tensor(7.), tensor(8.5000)]\n",
      "[tensor(4.), tensor(7.5000)]\n"
     ]
    },
    {
     "name": "stderr",
     "output_type": "stream",
     "text": [
      "Epoch 1/1 Training:  31%|███       | 69/225 [06:14<12:06,  4.65s/it, loss=1.13, learning_rate=7.89e-6, global_step=17]"
     ]
    },
    {
     "name": "stdout",
     "output_type": "stream",
     "text": [
      "[tensor(8.5000), tensor(6.5000)]\n",
      "[tensor(3.), tensor(6.)]\n"
     ]
    },
    {
     "name": "stderr",
     "output_type": "stream",
     "text": [
      "Epoch 1/1 Training:  31%|███       | 70/225 [06:16<10:28,  4.06s/it, loss=1.13, learning_rate=7.89e-6, global_step=17]"
     ]
    },
    {
     "name": "stdout",
     "output_type": "stream",
     "text": [
      "[tensor(7.), tensor(8.5000)]\n",
      "[tensor(6.), tensor(7.5000)]\n"
     ]
    },
    {
     "name": "stderr",
     "output_type": "stream",
     "text": [
      "Epoch 1/1 Training:  32%|███▏      | 71/225 [06:19<09:12,  3.59s/it, loss=1.13, learning_rate=7.89e-6, global_step=17]"
     ]
    },
    {
     "name": "stdout",
     "output_type": "stream",
     "text": [
      "[tensor(8.), tensor(10.)]\n",
      "[tensor(7.5000), tensor(2.)]\n"
     ]
    },
    {
     "name": "stderr",
     "output_type": "stream",
     "text": [
      "Epoch 1/1 Training:  32%|███▏      | 72/225 [06:35<19:02,  7.47s/it, loss=1.13, learning_rate=7.66e-6, global_step=18]"
     ]
    },
    {
     "name": "stdout",
     "output_type": "stream",
     "text": [
      "[tensor(7.5000), tensor(8.5000)]\n",
      "[tensor(4.), tensor(6.)]\n"
     ]
    },
    {
     "name": "stderr",
     "output_type": "stream",
     "text": [
      "Epoch 1/1 Training:  32%|███▏      | 73/225 [06:39<15:52,  6.27s/it, loss=1.13, learning_rate=7.66e-6, global_step=18]"
     ]
    },
    {
     "name": "stdout",
     "output_type": "stream",
     "text": [
      "[tensor(8.5000), tensor(8.)]\n",
      "[tensor(6.), tensor(3.)]\n"
     ]
    },
    {
     "name": "stderr",
     "output_type": "stream",
     "text": [
      "Epoch 1/1 Training:  33%|███▎      | 74/225 [06:41<12:55,  5.14s/it, loss=1.13, learning_rate=7.66e-6, global_step=18]"
     ]
    },
    {
     "name": "stdout",
     "output_type": "stream",
     "text": [
      "[tensor(8.5000), tensor(7.5000)]\n",
      "[tensor(8.), tensor(6.)]\n"
     ]
    },
    {
     "name": "stderr",
     "output_type": "stream",
     "text": [
      "Epoch 1/1 Training:  33%|███▎      | 75/225 [06:58<21:25,  8.57s/it, loss=1.13, learning_rate=7.66e-6, global_step=18]"
     ]
    },
    {
     "name": "stdout",
     "output_type": "stream",
     "text": [
      "[tensor(8.), tensor(9.)]\n",
      "[tensor(7.5000), tensor(3.)]\n"
     ]
    },
    {
     "name": "stderr",
     "output_type": "stream",
     "text": [
      "Epoch 1/1 Training:  34%|███▍      | 76/225 [07:01<17:15,  6.95s/it, loss=1.14, learning_rate=7.42e-6, global_step=19]"
     ]
    },
    {
     "name": "stdout",
     "output_type": "stream",
     "text": [
      "[tensor(7.5000), tensor(8.)]\n",
      "[tensor(6.), tensor(6.5000)]\n"
     ]
    },
    {
     "name": "stderr",
     "output_type": "stream",
     "text": [
      "Epoch 1/1 Training:  34%|███▍      | 77/225 [07:04<14:07,  5.72s/it, loss=1.14, learning_rate=7.42e-6, global_step=19]"
     ]
    },
    {
     "name": "stdout",
     "output_type": "stream",
     "text": [
      "[tensor(6.5000), tensor(7.)]\n",
      "[tensor(2.), tensor(5.)]\n"
     ]
    },
    {
     "name": "stderr",
     "output_type": "stream",
     "text": [
      "Epoch 1/1 Training:  35%|███▍      | 78/225 [07:22<23:11,  9.46s/it, loss=1.14, learning_rate=7.42e-6, global_step=19]"
     ]
    },
    {
     "name": "stdout",
     "output_type": "stream",
     "text": [
      "[tensor(8.5000), tensor(8.5000)]\n",
      "[tensor(5.), tensor(8.)]\n"
     ]
    },
    {
     "name": "stderr",
     "output_type": "stream",
     "text": [
      "Epoch 1/1 Training:  35%|███▌      | 79/225 [07:25<18:15,  7.50s/it, loss=1.14, learning_rate=7.42e-6, global_step=19]"
     ]
    },
    {
     "name": "stdout",
     "output_type": "stream",
     "text": [
      "[tensor(8.5000), tensor(7.5000)]\n",
      "[tensor(4.), tensor(3.)]\n"
     ]
    },
    {
     "name": "stderr",
     "output_type": "stream",
     "text": [
      "Epoch 1/1 Training:  36%|███▌      | 80/225 [07:28<14:54,  6.17s/it, loss=1.15, learning_rate=7.17e-6, global_step=20]"
     ]
    },
    {
     "name": "stdout",
     "output_type": "stream",
     "text": [
      "[tensor(9.), tensor(8.5000)]\n",
      "[tensor(7.5000), tensor(7.5000)]\n"
     ]
    },
    {
     "name": "stderr",
     "output_type": "stream",
     "text": [
      "Epoch 1/1 Training:  36%|███▌      | 81/225 [07:32<12:54,  5.38s/it, loss=1.15, learning_rate=7.17e-6, global_step=20]"
     ]
    },
    {
     "name": "stdout",
     "output_type": "stream",
     "text": [
      "[tensor(8.5000), tensor(8.)]\n",
      "[tensor(7.5000), tensor(7.)]\n"
     ]
    },
    {
     "name": "stderr",
     "output_type": "stream",
     "text": [
      "Epoch 1/1 Training:  36%|███▋      | 82/225 [07:35<11:02,  4.64s/it, loss=1.15, learning_rate=7.17e-6, global_step=20]"
     ]
    },
    {
     "name": "stdout",
     "output_type": "stream",
     "text": [
      "[tensor(9.), tensor(4.)]\n",
      "[tensor(8.), tensor(3.)]\n"
     ]
    },
    {
     "name": "stderr",
     "output_type": "stream",
     "text": [
      "Epoch 1/1 Training:  37%|███▋      | 83/225 [07:37<09:38,  4.08s/it, loss=1.15, learning_rate=7.17e-6, global_step=20]"
     ]
    },
    {
     "name": "stdout",
     "output_type": "stream",
     "text": [
      "[tensor(10.), tensor(8.)]\n",
      "[tensor(10.), tensor(7.5000)]\n"
     ]
    },
    {
     "name": "stderr",
     "output_type": "stream",
     "text": [
      "Epoch 1/1 Training:  37%|███▋      | 84/225 [07:41<08:53,  3.79s/it, loss=1.14, learning_rate=6.91e-6, global_step=21]"
     ]
    },
    {
     "name": "stdout",
     "output_type": "stream",
     "text": [
      "[tensor(9.), tensor(8.5000)]\n",
      "[tensor(8.5000), tensor(6.)]\n"
     ]
    },
    {
     "name": "stderr",
     "output_type": "stream",
     "text": [
      "Epoch 1/1 Training:  38%|███▊      | 85/225 [07:58<18:15,  7.83s/it, loss=1.14, learning_rate=6.91e-6, global_step=21]"
     ]
    },
    {
     "name": "stdout",
     "output_type": "stream",
     "text": [
      "[tensor(8.5000), tensor(8.5000)]\n",
      "[tensor(7.5000), tensor(6.5000)]\n"
     ]
    },
    {
     "name": "stderr",
     "output_type": "stream",
     "text": [
      "Epoch 1/1 Training:  38%|███▊      | 86/225 [08:01<14:54,  6.43s/it, loss=1.14, learning_rate=6.91e-6, global_step=21]"
     ]
    },
    {
     "name": "stdout",
     "output_type": "stream",
     "text": [
      "[tensor(8.), tensor(9.)]\n",
      "[tensor(8.), tensor(8.5000)]\n"
     ]
    },
    {
     "name": "stderr",
     "output_type": "stream",
     "text": [
      "Epoch 1/1 Training:  39%|███▊      | 87/225 [08:04<12:17,  5.34s/it, loss=1.14, learning_rate=6.91e-6, global_step=21]"
     ]
    },
    {
     "name": "stdout",
     "output_type": "stream",
     "text": [
      "[tensor(8.5000), tensor(8.5000)]\n",
      "[tensor(7.), tensor(2.)]\n"
     ]
    },
    {
     "name": "stderr",
     "output_type": "stream",
     "text": [
      "Epoch 1/1 Training:  39%|███▉      | 88/225 [08:07<10:37,  4.66s/it, loss=1.13, learning_rate=6.65e-6, global_step=22]"
     ]
    },
    {
     "name": "stdout",
     "output_type": "stream",
     "text": [
      "[tensor(8.5000), tensor(8.)]\n",
      "[tensor(7.5000), tensor(7.5000)]\n"
     ]
    },
    {
     "name": "stderr",
     "output_type": "stream",
     "text": [
      "Epoch 1/1 Training:  40%|███▉      | 89/225 [08:09<09:08,  4.03s/it, loss=1.13, learning_rate=6.65e-6, global_step=22]"
     ]
    },
    {
     "name": "stdout",
     "output_type": "stream",
     "text": [
      "[tensor(8.), tensor(8.)]\n",
      "[tensor(3.), tensor(7.)]\n"
     ]
    },
    {
     "name": "stderr",
     "output_type": "stream",
     "text": [
      "Epoch 1/1 Training:  40%|████      | 90/225 [08:12<08:21,  3.72s/it, loss=1.13, learning_rate=6.65e-6, global_step=22]"
     ]
    },
    {
     "name": "stdout",
     "output_type": "stream",
     "text": [
      "[tensor(7.5000), tensor(7.5000)]\n",
      "[tensor(3.), tensor(6.)]\n"
     ]
    },
    {
     "name": "stderr",
     "output_type": "stream",
     "text": [
      "Epoch 1/1 Training:  40%|████      | 91/225 [08:15<07:34,  3.39s/it, loss=1.13, learning_rate=6.65e-6, global_step=22]"
     ]
    },
    {
     "name": "stdout",
     "output_type": "stream",
     "text": [
      "[tensor(9.), tensor(9.)]\n",
      "[tensor(8.5000), tensor(7.)]\n"
     ]
    },
    {
     "name": "stderr",
     "output_type": "stream",
     "text": [
      "Epoch 1/1 Training:  41%|████      | 92/225 [08:18<07:15,  3.28s/it, loss=1.13, learning_rate=6.38e-6, global_step=23]"
     ]
    },
    {
     "name": "stdout",
     "output_type": "stream",
     "text": [
      "[tensor(9.), tensor(4.)]\n",
      "[tensor(8.5000), tensor(4.)]\n"
     ]
    },
    {
     "name": "stderr",
     "output_type": "stream",
     "text": [
      "Epoch 1/1 Training:  41%|████▏     | 93/225 [08:21<06:47,  3.09s/it, loss=1.13, learning_rate=6.38e-6, global_step=23]"
     ]
    },
    {
     "name": "stdout",
     "output_type": "stream",
     "text": [
      "[tensor(8.), tensor(9.)]\n",
      "[tensor(7.5000), tensor(2.)]\n"
     ]
    },
    {
     "name": "stderr",
     "output_type": "stream",
     "text": [
      "Epoch 1/1 Training:  42%|████▏     | 94/225 [08:24<06:35,  3.02s/it, loss=1.13, learning_rate=6.38e-6, global_step=23]"
     ]
    },
    {
     "name": "stdout",
     "output_type": "stream",
     "text": [
      "[tensor(7.5000), tensor(7.5000)]\n",
      "[tensor(7.), tensor(6.)]\n"
     ]
    },
    {
     "name": "stderr",
     "output_type": "stream",
     "text": [
      "Epoch 1/1 Training:  42%|████▏     | 95/225 [08:26<06:23,  2.95s/it, loss=1.13, learning_rate=6.38e-6, global_step=23]"
     ]
    },
    {
     "name": "stdout",
     "output_type": "stream",
     "text": [
      "[tensor(9.), tensor(7.5000)]\n",
      "[tensor(7.), tensor(6.)]\n"
     ]
    },
    {
     "name": "stderr",
     "output_type": "stream",
     "text": [
      "Epoch 1/1 Training:  43%|████▎     | 96/225 [08:29<06:22,  2.97s/it, loss=1.13, learning_rate=6.11e-6, global_step=24]"
     ]
    },
    {
     "name": "stdout",
     "output_type": "stream",
     "text": [
      "[tensor(8.5000), tensor(8.5000)]\n",
      "[tensor(8.), tensor(7.5000)]\n"
     ]
    },
    {
     "name": "stderr",
     "output_type": "stream",
     "text": [
      "Epoch 1/1 Training:  43%|████▎     | 97/225 [08:32<06:09,  2.89s/it, loss=1.13, learning_rate=6.11e-6, global_step=24]"
     ]
    },
    {
     "name": "stdout",
     "output_type": "stream",
     "text": [
      "[tensor(7.5000), tensor(10.)]\n",
      "[tensor(3.), tensor(6.)]\n"
     ]
    },
    {
     "name": "stderr",
     "output_type": "stream",
     "text": [
      "Epoch 1/1 Training:  44%|████▎     | 98/225 [08:51<16:36,  7.84s/it, loss=1.13, learning_rate=6.11e-6, global_step=24]"
     ]
    },
    {
     "name": "stdout",
     "output_type": "stream",
     "text": [
      "[tensor(9.), tensor(6.)]\n",
      "[tensor(8.5000), tensor(2.)]\n"
     ]
    },
    {
     "name": "stderr",
     "output_type": "stream",
     "text": [
      "Epoch 1/1 Training:  44%|████▍     | 99/225 [08:56<14:15,  6.79s/it, loss=1.13, learning_rate=6.11e-6, global_step=24]"
     ]
    },
    {
     "name": "stdout",
     "output_type": "stream",
     "text": [
      "[tensor(8.), tensor(8.5000)]\n",
      "[tensor(7.), tensor(7.)]\n"
     ]
    },
    {
     "name": "stderr",
     "output_type": "stream",
     "text": [
      "Epoch 1/1 Training:  44%|████▍     | 100/225 [09:00<12:13,  5.87s/it, loss=1.13, learning_rate=5.84e-6, global_step=25]"
     ]
    },
    {
     "name": "stdout",
     "output_type": "stream",
     "text": [
      "[tensor(9.), tensor(8.5000)]\n",
      "[tensor(8.), tensor(5.)]\n"
     ]
    },
    {
     "name": "stderr",
     "output_type": "stream",
     "text": [
      "Epoch 1/1 Training:  45%|████▍     | 101/225 [09:02<10:13,  4.95s/it, loss=1.13, learning_rate=5.84e-6, global_step=25]"
     ]
    },
    {
     "name": "stdout",
     "output_type": "stream",
     "text": [
      "[tensor(8.), tensor(8.5000)]\n",
      "[tensor(7.), tensor(7.)]\n"
     ]
    },
    {
     "name": "stderr",
     "output_type": "stream",
     "text": [
      "Epoch 1/1 Training:  45%|████▌     | 102/225 [09:05<08:53,  4.34s/it, loss=1.13, learning_rate=5.84e-6, global_step=25]"
     ]
    },
    {
     "name": "stdout",
     "output_type": "stream",
     "text": [
      "[tensor(7.5000), tensor(8.)]\n",
      "[tensor(3.), tensor(5.)]\n"
     ]
    },
    {
     "name": "stderr",
     "output_type": "stream",
     "text": [
      "Epoch 1/1 Training:  46%|████▌     | 103/225 [09:23<17:05,  8.40s/it, loss=1.13, learning_rate=5.84e-6, global_step=25]"
     ]
    },
    {
     "name": "stdout",
     "output_type": "stream",
     "text": [
      "[tensor(8.5000), tensor(8.)]\n",
      "[tensor(8.5000), tensor(8.)]\n"
     ]
    },
    {
     "name": "stderr",
     "output_type": "stream",
     "text": [
      "Epoch 1/1 Training:  46%|████▌     | 104/225 [09:26<13:47,  6.84s/it, loss=1.13, learning_rate=5.56e-6, global_step=26]"
     ]
    },
    {
     "name": "stdout",
     "output_type": "stream",
     "text": [
      "[tensor(8.5000), tensor(9.5000)]\n",
      "[tensor(3.), tensor(8.5000)]\n"
     ]
    },
    {
     "name": "stderr",
     "output_type": "stream",
     "text": [
      "Epoch 1/1 Training:  47%|████▋     | 105/225 [09:43<19:26,  9.72s/it, loss=1.13, learning_rate=5.56e-6, global_step=26]"
     ]
    },
    {
     "name": "stdout",
     "output_type": "stream",
     "text": [
      "[tensor(8.5000), tensor(8.5000)]\n",
      "[tensor(7.5000), tensor(8.)]\n"
     ]
    },
    {
     "name": "stderr",
     "output_type": "stream",
     "text": [
      "Epoch 1/1 Training:  47%|████▋     | 106/225 [09:46<15:40,  7.90s/it, loss=1.13, learning_rate=5.56e-6, global_step=26]"
     ]
    },
    {
     "name": "stdout",
     "output_type": "stream",
     "text": [
      "[tensor(8.5000), tensor(8.)]\n",
      "[tensor(7.), tensor(7.)]\n"
     ]
    },
    {
     "name": "stderr",
     "output_type": "stream",
     "text": [
      "Epoch 1/1 Training:  48%|████▊     | 107/225 [09:49<12:38,  6.43s/it, loss=1.13, learning_rate=5.56e-6, global_step=26]"
     ]
    },
    {
     "name": "stdout",
     "output_type": "stream",
     "text": [
      "[tensor(8.5000), tensor(7.5000)]\n",
      "[tensor(8.), tensor(7.)]\n"
     ]
    },
    {
     "name": "stderr",
     "output_type": "stream",
     "text": [
      "Epoch 1/1 Training:  48%|████▊     | 108/225 [09:53<10:37,  5.45s/it, loss=1.12, learning_rate=5.28e-6, global_step=27]"
     ]
    },
    {
     "name": "stdout",
     "output_type": "stream",
     "text": [
      "[tensor(6.), tensor(8.)]\n",
      "[tensor(3.), tensor(4.)]\n"
     ]
    },
    {
     "name": "stderr",
     "output_type": "stream",
     "text": [
      "Epoch 1/1 Training:  48%|████▊     | 109/225 [09:59<11:22,  5.88s/it, loss=1.12, learning_rate=5.28e-6, global_step=27]"
     ]
    },
    {
     "name": "stdout",
     "output_type": "stream",
     "text": [
      "[tensor(8.5000), tensor(5.)]\n",
      "[tensor(7.), tensor(2.)]\n"
     ]
    },
    {
     "name": "stderr",
     "output_type": "stream",
     "text": [
      "Epoch 1/1 Training:  49%|████▉     | 110/225 [10:02<09:37,  5.02s/it, loss=1.12, learning_rate=5.28e-6, global_step=27]"
     ]
    },
    {
     "name": "stdout",
     "output_type": "stream",
     "text": [
      "[tensor(9.), tensor(8.)]\n",
      "[tensor(2.), tensor(7.)]\n"
     ]
    },
    {
     "name": "stderr",
     "output_type": "stream",
     "text": [
      "Epoch 1/1 Training:  49%|████▉     | 111/225 [10:20<16:34,  8.72s/it, loss=1.12, learning_rate=5.28e-6, global_step=27]"
     ]
    },
    {
     "name": "stdout",
     "output_type": "stream",
     "text": [
      "[tensor(8.5000), tensor(7.5000)]\n",
      "[tensor(2.), tensor(6.5000)]\n"
     ]
    },
    {
     "name": "stderr",
     "output_type": "stream",
     "text": [
      "Epoch 1/1 Training:  50%|████▉     | 112/225 [10:23<13:18,  7.07s/it, loss=1.13, learning_rate=5e-6, global_step=28]   "
     ]
    },
    {
     "name": "stdout",
     "output_type": "stream",
     "text": [
      "[tensor(8.5000), tensor(7.5000)]\n",
      "[tensor(7.), tensor(7.5000)]\n"
     ]
    },
    {
     "name": "stderr",
     "output_type": "stream",
     "text": [
      "Epoch 1/1 Training:  50%|█████     | 113/225 [10:42<19:51, 10.64s/it, loss=1.13, learning_rate=5e-6, global_step=28]"
     ]
    },
    {
     "name": "stdout",
     "output_type": "stream",
     "text": [
      "[tensor(8.), tensor(8.5000)]\n",
      "[tensor(6.), tensor(6.)]\n"
     ]
    },
    {
     "name": "stderr",
     "output_type": "stream",
     "text": [
      "Epoch 1/1 Training:  51%|█████     | 114/225 [10:45<15:19,  8.29s/it, loss=1.13, learning_rate=5e-6, global_step=28]"
     ]
    },
    {
     "name": "stdout",
     "output_type": "stream",
     "text": [
      "[tensor(8.5000), tensor(7.5000)]\n",
      "[tensor(7.), tensor(6.)]\n"
     ]
    },
    {
     "name": "stderr",
     "output_type": "stream",
     "text": [
      "Epoch 1/1 Training:  51%|█████     | 115/225 [10:48<12:11,  6.65s/it, loss=1.13, learning_rate=5e-6, global_step=28]"
     ]
    },
    {
     "name": "stdout",
     "output_type": "stream",
     "text": [
      "[tensor(9.), tensor(7.5000)]\n",
      "[tensor(7.5000), tensor(5.)]\n"
     ]
    },
    {
     "name": "stderr",
     "output_type": "stream",
     "text": [
      "Epoch 1/1 Training:  52%|█████▏    | 116/225 [10:51<10:12,  5.62s/it, loss=1.13, learning_rate=4.72e-6, global_step=29]"
     ]
    },
    {
     "name": "stdout",
     "output_type": "stream",
     "text": [
      "[tensor(7.), tensor(8.)]\n",
      "[tensor(6.), tensor(5.)]\n"
     ]
    },
    {
     "name": "stderr",
     "output_type": "stream",
     "text": [
      "Epoch 1/1 Training:  52%|█████▏    | 117/225 [10:54<08:42,  4.83s/it, loss=1.13, learning_rate=4.72e-6, global_step=29]"
     ]
    },
    {
     "name": "stdout",
     "output_type": "stream",
     "text": [
      "[tensor(7.5000), tensor(8.)]\n",
      "[tensor(7.), tensor(3.)]\n"
     ]
    },
    {
     "name": "stderr",
     "output_type": "stream",
     "text": [
      "Epoch 1/1 Training:  52%|█████▏    | 118/225 [10:57<07:44,  4.34s/it, loss=1.13, learning_rate=4.72e-6, global_step=29]"
     ]
    },
    {
     "name": "stdout",
     "output_type": "stream",
     "text": [
      "[tensor(8.5000), tensor(8.5000)]\n",
      "[tensor(5.), tensor(8.)]\n"
     ]
    },
    {
     "name": "stderr",
     "output_type": "stream",
     "text": [
      "Epoch 1/1 Training:  53%|█████▎    | 119/225 [11:00<07:06,  4.02s/it, loss=1.13, learning_rate=4.72e-6, global_step=29]"
     ]
    },
    {
     "name": "stdout",
     "output_type": "stream",
     "text": [
      "[tensor(8.5000), tensor(8.)]\n",
      "[tensor(6.5000), tensor(7.5000)]\n"
     ]
    },
    {
     "name": "stderr",
     "output_type": "stream",
     "text": [
      "Epoch 1/1 Training:  53%|█████▎    | 120/225 [11:19<14:54,  8.52s/it, loss=1.13, learning_rate=4.44e-6, global_step=30]"
     ]
    },
    {
     "name": "stdout",
     "output_type": "stream",
     "text": [
      "[tensor(8.), tensor(8.5000)]\n",
      "[tensor(7.), tensor(8.)]\n"
     ]
    },
    {
     "name": "stderr",
     "output_type": "stream",
     "text": [
      "Epoch 1/1 Training:  54%|█████▍    | 121/225 [11:22<11:54,  6.87s/it, loss=1.13, learning_rate=4.44e-6, global_step=30]"
     ]
    },
    {
     "name": "stdout",
     "output_type": "stream",
     "text": [
      "[tensor(7.), tensor(7.5000)]\n",
      "[tensor(5.), tensor(7.)]\n"
     ]
    },
    {
     "name": "stderr",
     "output_type": "stream",
     "text": [
      "Epoch 1/1 Training:  54%|█████▍    | 122/225 [11:25<09:47,  5.70s/it, loss=1.13, learning_rate=4.44e-6, global_step=30]"
     ]
    },
    {
     "name": "stdout",
     "output_type": "stream",
     "text": [
      "[tensor(8.5000), tensor(8.5000)]\n",
      "[tensor(5.), tensor(7.5000)]\n"
     ]
    },
    {
     "name": "stderr",
     "output_type": "stream",
     "text": [
      "Epoch 1/1 Training:  55%|█████▍    | 123/225 [11:28<08:14,  4.85s/it, loss=1.13, learning_rate=4.44e-6, global_step=30]"
     ]
    },
    {
     "name": "stdout",
     "output_type": "stream",
     "text": [
      "[tensor(7.), tensor(6.)]\n",
      "[tensor(5.), tensor(3.)]\n"
     ]
    },
    {
     "name": "stderr",
     "output_type": "stream",
     "text": [
      "Epoch 1/1 Training:  55%|█████▌    | 124/225 [11:31<07:14,  4.30s/it, loss=1.13, learning_rate=4.16e-6, global_step=31]"
     ]
    },
    {
     "name": "stdout",
     "output_type": "stream",
     "text": [
      "[tensor(6.), tensor(9.)]\n",
      "[tensor(3.), tensor(7.5000)]\n"
     ]
    },
    {
     "name": "stderr",
     "output_type": "stream",
     "text": [
      "Epoch 1/1 Training:  56%|█████▌    | 125/225 [11:34<06:24,  3.85s/it, loss=1.13, learning_rate=4.16e-6, global_step=31]"
     ]
    },
    {
     "name": "stdout",
     "output_type": "stream",
     "text": [
      "[tensor(8.), tensor(8.5000)]\n",
      "[tensor(7.), tensor(7.)]\n"
     ]
    },
    {
     "name": "stderr",
     "output_type": "stream",
     "text": [
      "Epoch 1/1 Training:  56%|█████▌    | 126/225 [11:37<05:57,  3.61s/it, loss=1.13, learning_rate=4.16e-6, global_step=31]"
     ]
    },
    {
     "name": "stdout",
     "output_type": "stream",
     "text": [
      "[tensor(9.), tensor(8.)]\n",
      "[tensor(6.), tensor(7.)]\n"
     ]
    },
    {
     "name": "stderr",
     "output_type": "stream",
     "text": [
      "Epoch 1/1 Training:  56%|█████▋    | 127/225 [11:40<05:31,  3.38s/it, loss=1.13, learning_rate=4.16e-6, global_step=31]"
     ]
    },
    {
     "name": "stdout",
     "output_type": "stream",
     "text": [
      "[tensor(8.5000), tensor(10.)]\n",
      "[tensor(3.), tensor(6.5000)]\n"
     ]
    },
    {
     "name": "stderr",
     "output_type": "stream",
     "text": [
      "Epoch 1/1 Training:  57%|█████▋    | 128/225 [11:43<05:24,  3.34s/it, loss=1.13, learning_rate=3.89e-6, global_step=32]"
     ]
    },
    {
     "name": "stdout",
     "output_type": "stream",
     "text": [
      "[tensor(4.), tensor(9.5000)]\n",
      "[tensor(2.), tensor(7.5000)]\n"
     ]
    },
    {
     "name": "stderr",
     "output_type": "stream",
     "text": [
      "Epoch 1/1 Training:  57%|█████▋    | 129/225 [11:46<05:12,  3.25s/it, loss=1.13, learning_rate=3.89e-6, global_step=32]"
     ]
    },
    {
     "name": "stdout",
     "output_type": "stream",
     "text": [
      "[tensor(8.5000), tensor(8.5000)]\n",
      "[tensor(7.5000), tensor(8.)]\n"
     ]
    },
    {
     "name": "stderr",
     "output_type": "stream",
     "text": [
      "Epoch 1/1 Training:  58%|█████▊    | 130/225 [11:49<04:54,  3.10s/it, loss=1.13, learning_rate=3.89e-6, global_step=32]"
     ]
    },
    {
     "name": "stdout",
     "output_type": "stream",
     "text": [
      "[tensor(7.5000), tensor(7.5000)]\n",
      "[tensor(3.), tensor(5.)]\n"
     ]
    },
    {
     "name": "stderr",
     "output_type": "stream",
     "text": [
      "Epoch 1/1 Training:  58%|█████▊    | 131/225 [11:52<04:47,  3.05s/it, loss=1.13, learning_rate=3.89e-6, global_step=32]"
     ]
    },
    {
     "name": "stdout",
     "output_type": "stream",
     "text": [
      "[tensor(7.5000), tensor(8.5000)]\n",
      "[tensor(7.), tensor(8.5000)]\n"
     ]
    },
    {
     "name": "stderr",
     "output_type": "stream",
     "text": [
      "Epoch 1/1 Training:  59%|█████▊    | 132/225 [11:55<04:49,  3.11s/it, loss=1.13, learning_rate=3.62e-6, global_step=33]"
     ]
    },
    {
     "name": "stdout",
     "output_type": "stream",
     "text": [
      "[tensor(7.5000), tensor(7.)]\n",
      "[tensor(3.), tensor(7.)]\n"
     ]
    },
    {
     "name": "stderr",
     "output_type": "stream",
     "text": [
      "Epoch 1/1 Training:  59%|█████▉    | 133/225 [11:58<04:32,  2.97s/it, loss=1.13, learning_rate=3.62e-6, global_step=33]"
     ]
    },
    {
     "name": "stdout",
     "output_type": "stream",
     "text": [
      "[tensor(8.5000), tensor(8.5000)]\n",
      "[tensor(8.), tensor(3.)]\n"
     ]
    },
    {
     "name": "stderr",
     "output_type": "stream",
     "text": [
      "Epoch 1/1 Training:  60%|█████▉    | 134/225 [12:01<04:29,  2.96s/it, loss=1.13, learning_rate=3.62e-6, global_step=33]"
     ]
    },
    {
     "name": "stdout",
     "output_type": "stream",
     "text": [
      "[tensor(8.5000), tensor(8.)]\n",
      "[tensor(7.5000), tensor(2.)]\n"
     ]
    },
    {
     "name": "stderr",
     "output_type": "stream",
     "text": [
      "Epoch 1/1 Training:  60%|██████    | 135/225 [12:04<04:22,  2.91s/it, loss=1.13, learning_rate=3.62e-6, global_step=33]"
     ]
    },
    {
     "name": "stdout",
     "output_type": "stream",
     "text": [
      "[tensor(8.5000), tensor(8.)]\n",
      "[tensor(7.), tensor(5.)]\n"
     ]
    },
    {
     "name": "stderr",
     "output_type": "stream",
     "text": [
      "Epoch 1/1 Training:  60%|██████    | 136/225 [12:07<04:27,  3.00s/it, loss=1.13, learning_rate=3.35e-6, global_step=34]"
     ]
    },
    {
     "name": "stdout",
     "output_type": "stream",
     "text": [
      "[tensor(8.5000), tensor(7.5000)]\n",
      "[tensor(7.), tensor(6.5000)]\n"
     ]
    },
    {
     "name": "stderr",
     "output_type": "stream",
     "text": [
      "Epoch 1/1 Training:  61%|██████    | 137/225 [12:09<04:15,  2.90s/it, loss=1.13, learning_rate=3.35e-6, global_step=34]"
     ]
    },
    {
     "name": "stdout",
     "output_type": "stream",
     "text": [
      "[tensor(8.5000), tensor(9.)]\n",
      "[tensor(7.5000), tensor(8.)]\n"
     ]
    },
    {
     "name": "stderr",
     "output_type": "stream",
     "text": [
      "Epoch 1/1 Training:  61%|██████▏   | 138/225 [12:12<04:13,  2.91s/it, loss=1.13, learning_rate=3.35e-6, global_step=34]"
     ]
    },
    {
     "name": "stdout",
     "output_type": "stream",
     "text": [
      "[tensor(8.5000), tensor(9.)]\n",
      "[tensor(3.), tensor(4.)]\n"
     ]
    },
    {
     "name": "stderr",
     "output_type": "stream",
     "text": [
      "Epoch 1/1 Training:  62%|██████▏   | 139/225 [12:15<04:00,  2.80s/it, loss=1.13, learning_rate=3.35e-6, global_step=34]"
     ]
    },
    {
     "name": "stdout",
     "output_type": "stream",
     "text": [
      "[tensor(7.5000), tensor(8.)]\n",
      "[tensor(6.), tensor(7.5000)]\n"
     ]
    },
    {
     "name": "stderr",
     "output_type": "stream",
     "text": [
      "Epoch 1/1 Training:  62%|██████▏   | 140/225 [12:18<04:15,  3.00s/it, loss=1.13, learning_rate=3.09e-6, global_step=35]"
     ]
    },
    {
     "name": "stdout",
     "output_type": "stream",
     "text": [
      "[tensor(8.5000), tensor(7.)]\n",
      "[tensor(8.), tensor(5.)]\n"
     ]
    },
    {
     "name": "stderr",
     "output_type": "stream",
     "text": [
      "Epoch 1/1 Training:  63%|██████▎   | 141/225 [12:21<04:15,  3.04s/it, loss=1.13, learning_rate=3.09e-6, global_step=35]"
     ]
    },
    {
     "name": "stdout",
     "output_type": "stream",
     "text": [
      "[tensor(8.), tensor(7.5000)]\n",
      "[tensor(7.5000), tensor(7.)]\n"
     ]
    },
    {
     "name": "stderr",
     "output_type": "stream",
     "text": [
      "Epoch 1/1 Training:  63%|██████▎   | 142/225 [12:39<10:13,  7.39s/it, loss=1.13, learning_rate=3.09e-6, global_step=35]"
     ]
    },
    {
     "name": "stdout",
     "output_type": "stream",
     "text": [
      "[tensor(7.), tensor(8.)]\n",
      "[tensor(3.), tensor(7.)]\n"
     ]
    },
    {
     "name": "stderr",
     "output_type": "stream",
     "text": [
      "Epoch 1/1 Training:  64%|██████▎   | 143/225 [12:43<08:36,  6.30s/it, loss=1.13, learning_rate=3.09e-6, global_step=35]"
     ]
    },
    {
     "name": "stdout",
     "output_type": "stream",
     "text": [
      "[tensor(7.), tensor(8.)]\n",
      "[tensor(2.), tensor(3.)]\n"
     ]
    },
    {
     "name": "stderr",
     "output_type": "stream",
     "text": [
      "Epoch 1/1 Training:  64%|██████▍   | 144/225 [12:46<07:13,  5.35s/it, loss=1.13, learning_rate=2.83e-6, global_step=36]"
     ]
    },
    {
     "name": "stdout",
     "output_type": "stream",
     "text": [
      "[tensor(4.), tensor(8.)]\n",
      "[tensor(2.), tensor(8.)]\n"
     ]
    },
    {
     "name": "stderr",
     "output_type": "stream",
     "text": [
      "Epoch 1/1 Training:  64%|██████▍   | 145/225 [12:49<06:19,  4.74s/it, loss=1.13, learning_rate=2.83e-6, global_step=36]"
     ]
    },
    {
     "name": "stdout",
     "output_type": "stream",
     "text": [
      "[tensor(9.), tensor(7.)]\n",
      "[tensor(7.), tensor(6.)]\n"
     ]
    },
    {
     "name": "stderr",
     "output_type": "stream",
     "text": [
      "Epoch 1/1 Training:  65%|██████▍   | 146/225 [12:52<05:27,  4.15s/it, loss=1.13, learning_rate=2.83e-6, global_step=36]"
     ]
    },
    {
     "name": "stdout",
     "output_type": "stream",
     "text": [
      "[tensor(9.), tensor(7.)]\n",
      "[tensor(7.), tensor(7.)]\n"
     ]
    },
    {
     "name": "stderr",
     "output_type": "stream",
     "text": [
      "Epoch 1/1 Training:  65%|██████▌   | 147/225 [12:55<04:54,  3.78s/it, loss=1.13, learning_rate=2.83e-6, global_step=36]"
     ]
    },
    {
     "name": "stdout",
     "output_type": "stream",
     "text": [
      "[tensor(9.), tensor(7.)]\n",
      "[tensor(7.), tensor(7.)]\n"
     ]
    },
    {
     "name": "stderr",
     "output_type": "stream",
     "text": [
      "Epoch 1/1 Training:  66%|██████▌   | 148/225 [13:12<09:59,  7.79s/it, loss=1.13, learning_rate=2.58e-6, global_step=37]"
     ]
    },
    {
     "name": "stdout",
     "output_type": "stream",
     "text": [
      "[tensor(8.5000), tensor(8.5000)]\n",
      "[tensor(5.), tensor(4.)]\n"
     ]
    },
    {
     "name": "stderr",
     "output_type": "stream",
     "text": [
      "Epoch 1/1 Training:  66%|██████▌   | 149/225 [13:30<13:35, 10.73s/it, loss=1.13, learning_rate=2.58e-6, global_step=37]"
     ]
    },
    {
     "name": "stdout",
     "output_type": "stream",
     "text": [
      "[tensor(8.), tensor(6.5000)]\n",
      "[tensor(4.), tensor(6.)]\n"
     ]
    },
    {
     "name": "stderr",
     "output_type": "stream",
     "text": [
      "Epoch 1/1 Training:  67%|██████▋   | 150/225 [13:48<16:16, 13.03s/it, loss=1.13, learning_rate=2.58e-6, global_step=37]"
     ]
    },
    {
     "name": "stdout",
     "output_type": "stream",
     "text": [
      "[tensor(7.5000), tensor(8.5000)]\n",
      "[tensor(7.5000), tensor(6.5000)]\n"
     ]
    },
    {
     "name": "stderr",
     "output_type": "stream",
     "text": [
      "Epoch 1/1 Training:  67%|██████▋   | 151/225 [13:51<12:24, 10.06s/it, loss=1.13, learning_rate=2.58e-6, global_step=37]"
     ]
    },
    {
     "name": "stdout",
     "output_type": "stream",
     "text": [
      "[tensor(8.), tensor(7.5000)]\n",
      "[tensor(7.), tensor(5.)]\n"
     ]
    },
    {
     "name": "stderr",
     "output_type": "stream",
     "text": [
      "Epoch 1/1 Training:  68%|██████▊   | 152/225 [13:54<09:42,  7.98s/it, loss=1.13, learning_rate=2.34e-6, global_step=38]"
     ]
    },
    {
     "name": "stdout",
     "output_type": "stream",
     "text": [
      "[tensor(9.), tensor(7.5000)]\n",
      "[tensor(3.), tensor(3.)]\n"
     ]
    },
    {
     "name": "stderr",
     "output_type": "stream",
     "text": [
      "Epoch 1/1 Training:  68%|██████▊   | 153/225 [14:11<12:53, 10.74s/it, loss=1.13, learning_rate=2.34e-6, global_step=38]"
     ]
    },
    {
     "name": "stdout",
     "output_type": "stream",
     "text": [
      "[tensor(7.), tensor(8.)]\n",
      "[tensor(7.), tensor(7.)]\n"
     ]
    },
    {
     "name": "stderr",
     "output_type": "stream",
     "text": [
      "Epoch 1/1 Training:  68%|██████▊   | 154/225 [14:14<09:57,  8.42s/it, loss=1.13, learning_rate=2.34e-6, global_step=38]"
     ]
    },
    {
     "name": "stdout",
     "output_type": "stream",
     "text": [
      "[tensor(8.), tensor(7.5000)]\n",
      "[tensor(6.), tensor(4.)]\n"
     ]
    },
    {
     "name": "stderr",
     "output_type": "stream",
     "text": [
      "Epoch 1/1 Training:  69%|██████▉   | 155/225 [14:17<07:51,  6.73s/it, loss=1.13, learning_rate=2.34e-6, global_step=38]"
     ]
    },
    {
     "name": "stdout",
     "output_type": "stream",
     "text": [
      "[tensor(8.5000), tensor(7.5000)]\n",
      "[tensor(7.), tensor(7.)]\n"
     ]
    },
    {
     "name": "stderr",
     "output_type": "stream",
     "text": [
      "Epoch 1/1 Training:  69%|██████▉   | 156/225 [14:21<06:33,  5.71s/it, loss=1.13, learning_rate=2.11e-6, global_step=39]"
     ]
    },
    {
     "name": "stdout",
     "output_type": "stream",
     "text": [
      "[tensor(8.5000), tensor(9.)]\n",
      "[tensor(7.5000), tensor(8.5000)]\n"
     ]
    },
    {
     "name": "stderr",
     "output_type": "stream",
     "text": [
      "Epoch 1/1 Training:  70%|██████▉   | 157/225 [14:24<05:38,  4.98s/it, loss=1.13, learning_rate=2.11e-6, global_step=39]"
     ]
    },
    {
     "name": "stdout",
     "output_type": "stream",
     "text": [
      "[tensor(8.5000), tensor(8.)]\n",
      "[tensor(8.), tensor(7.)]\n"
     ]
    },
    {
     "name": "stderr",
     "output_type": "stream",
     "text": [
      "Epoch 1/1 Training:  70%|███████   | 158/225 [14:27<04:48,  4.30s/it, loss=1.13, learning_rate=2.11e-6, global_step=39]"
     ]
    },
    {
     "name": "stdout",
     "output_type": "stream",
     "text": [
      "[tensor(8.5000), tensor(8.5000)]\n",
      "[tensor(6.), tensor(7.)]\n"
     ]
    },
    {
     "name": "stderr",
     "output_type": "stream",
     "text": [
      "Epoch 1/1 Training:  71%|███████   | 159/225 [14:29<04:13,  3.85s/it, loss=1.13, learning_rate=2.11e-6, global_step=39]"
     ]
    },
    {
     "name": "stdout",
     "output_type": "stream",
     "text": [
      "[tensor(8.5000), tensor(6.5000)]\n",
      "[tensor(6.), tensor(5.)]\n"
     ]
    },
    {
     "name": "stderr",
     "output_type": "stream",
     "text": [
      "Epoch 1/1 Training:  71%|███████   | 160/225 [14:32<03:54,  3.61s/it, loss=1.13, learning_rate=1.88e-6, global_step=40]"
     ]
    },
    {
     "name": "stdout",
     "output_type": "stream",
     "text": [
      "[tensor(8.), tensor(7.)]\n",
      "[tensor(7.), tensor(6.5000)]\n"
     ]
    },
    {
     "name": "stderr",
     "output_type": "stream",
     "text": [
      "Epoch 1/1 Training:  72%|███████▏  | 161/225 [14:35<03:37,  3.40s/it, loss=1.13, learning_rate=1.88e-6, global_step=40]"
     ]
    },
    {
     "name": "stdout",
     "output_type": "stream",
     "text": [
      "[tensor(8.), tensor(7.5000)]\n",
      "[tensor(3.), tensor(4.)]\n"
     ]
    },
    {
     "name": "stderr",
     "output_type": "stream",
     "text": [
      "Epoch 1/1 Training:  72%|███████▏  | 162/225 [14:38<03:21,  3.20s/it, loss=1.13, learning_rate=1.88e-6, global_step=40]"
     ]
    },
    {
     "name": "stdout",
     "output_type": "stream",
     "text": [
      "[tensor(8.), tensor(7.5000)]\n",
      "[tensor(6.), tensor(6.)]\n"
     ]
    },
    {
     "name": "stderr",
     "output_type": "stream",
     "text": [
      "Epoch 1/1 Training:  72%|███████▏  | 163/225 [14:43<03:42,  3.59s/it, loss=1.13, learning_rate=1.88e-6, global_step=40]"
     ]
    },
    {
     "name": "stdout",
     "output_type": "stream",
     "text": [
      "[tensor(8.5000), tensor(8.5000)]\n",
      "[tensor(7.), tensor(7.)]\n"
     ]
    },
    {
     "name": "stderr",
     "output_type": "stream",
     "text": [
      "Epoch 1/1 Training:  73%|███████▎  | 164/225 [14:46<03:29,  3.44s/it, loss=1.13, learning_rate=1.67e-6, global_step=41]"
     ]
    },
    {
     "name": "stdout",
     "output_type": "stream",
     "text": [
      "[tensor(8.5000), tensor(8.)]\n",
      "[tensor(8.), tensor(8.)]\n"
     ]
    },
    {
     "name": "stderr",
     "output_type": "stream",
     "text": [
      "Epoch 1/1 Training:  73%|███████▎  | 165/225 [15:04<07:49,  7.82s/it, loss=1.13, learning_rate=1.67e-6, global_step=41]"
     ]
    },
    {
     "name": "stdout",
     "output_type": "stream",
     "text": [
      "[tensor(8.5000), tensor(7.5000)]\n",
      "[tensor(3.), tensor(6.)]\n"
     ]
    }
   ],
   "source": [
    "\n",
    "def preprocess_function(examples):\n",
    "    processed = {\n",
    "        \"prompt_input_ids\": [],\n",
    "        \"chosen_input_ids\": [],\n",
    "        \"rejected_input_ids\": [],\n",
    "        \"prompt_attention_mask\": [],\n",
    "        \"chosen_attention_mask\": [],\n",
    "        \"rejected_attention_mask\": [],\n",
    "        \"prompt_len\": [],\n",
    "        \"score_chosen\": [],\n",
    "        \"score_rejected\": []\n",
    "    }\n",
    "\n",
    "    for i in range(len(examples['prompt'])):\n",
    "        current_prompt_messages = examples['prompt'][i]\n",
    "        current_chosen_messages = examples['chosen'][i]\n",
    "        current_rejected_messages = examples['rejected'][i]\n",
    "        current_chosen_score = examples['score_chosen'][i]\n",
    "        current_rejected_score = examples['score_rejected'][i]\n",
    "\n",
    "        def ensure_message_list(messages, is_prompt=False, idx=i):\n",
    "            if isinstance(messages, list) and all(isinstance(m, dict) and 'role' in m and 'content' in m for m in messages):\n",
    "                return messages\n",
    "            elif isinstance(messages, str):\n",
    "                # If it's a string, try to wrap it as a simple user message.\n",
    "                # This is a heuristic for malformed data; assumes the string is the user's input.\n",
    "                if is_prompt:\n",
    "                    print(f\"Warning: Prompt entry {idx} is a string. Wrapping as 'user' message.\")\n",
    "                    return [{\"role\": \"user\", \"content\": messages}]\n",
    "                else: # Chosen/rejected responses should not be simple strings\n",
    "                    print(f\"Warning: Chosen/Rejected entry {idx} is a string, which is unexpected. Skipping example.\")\n",
    "                    return None\n",
    "            else:\n",
    "                # If it's not a list or a string, it's an unrecognized format.\n",
    "                print(f\"Warning: Malformed entry {idx} (type: {type(messages)}). Skipping example.\")\n",
    "                return None\n",
    "        \n",
    "\n",
    "        current_prompt_messages = ensure_message_list(current_prompt_messages, is_prompt=True)\n",
    "        current_chosen_messages = ensure_message_list(current_chosen_messages)\n",
    "        current_rejected_messages = ensure_message_list(current_rejected_messages)\n",
    "\n",
    "        if current_prompt_messages is None or current_chosen_messages is None or current_rejected_messages is None:\n",
    "            continue \n",
    "\n",
    "\n",
    "        # Format prompt for DPO: add empty assistant turn\n",
    "        prompt_with_assistant_turn = current_prompt_messages + [{\"role\": \"assistant\", \"content\": \"\"}]\n",
    "\n",
    "        prompt_str = tokenizer.apply_chat_template(\n",
    "            prompt_with_assistant_turn,\n",
    "            tokenize=False,\n",
    "            add_generation_prompt=True\n",
    "        )\n",
    "        \n",
    "        # Format chosen and rejected responses (full conversation)\n",
    "        chosen_str = tokenizer.apply_chat_template(\n",
    "            current_chosen_messages,\n",
    "            tokenize=False\n",
    "        )\n",
    "        rejected_str = tokenizer.apply_chat_template(\n",
    "            current_rejected_messages,\n",
    "            tokenize=False\n",
    "        )\n",
    "\n",
    "        # Tokenize (don't pad here, DataCollator will handle it)\n",
    "        prompt_encoded = tokenizer(prompt_str, truncation=True, max_length=MAX_PROMPT_LENGTH)\n",
    "        chosen_encoded = tokenizer(chosen_str, truncation=True, max_length=MAX_LENGTH)\n",
    "        rejected_encoded = tokenizer(rejected_str, truncation=True, max_length=MAX_LENGTH)\n",
    "        \n",
    "        # Filter out examples that are too long after tokenization\n",
    "        if (len(prompt_encoded['input_ids']) >= MAX_PROMPT_LENGTH or\n",
    "            len(chosen_encoded['input_ids']) >= MAX_LENGTH or\n",
    "            len(rejected_encoded['input_ids']) >= MAX_LENGTH):\n",
    "            # print(f\"Skipping example due to length: Prompt {len(prompt_encoded['input_ids'])}, Chosen {len(chosen_encoded['input_ids'])}, Rejected {len(rejected_encoded['input_ids'])}\")\n",
    "            continue\n",
    "\n",
    "        processed[\"prompt_input_ids\"].append(prompt_encoded[\"input_ids\"])\n",
    "        processed[\"chosen_input_ids\"].append(chosen_encoded[\"input_ids\"])\n",
    "        processed[\"rejected_input_ids\"].append(rejected_encoded[\"input_ids\"])\n",
    "        processed[\"prompt_attention_mask\"].append(prompt_encoded[\"attention_mask\"])\n",
    "        processed[\"chosen_attention_mask\"].append(chosen_encoded[\"attention_mask\"])\n",
    "        processed[\"rejected_attention_mask\"].append(rejected_encoded[\"attention_mask\"])\n",
    "        processed[\"prompt_len\"].append(len(prompt_encoded[\"input_ids\"]))\n",
    "        processed[\"score_chosen\"].append(current_chosen_score)\n",
    "        processed[\"score_rejected\"].append(current_rejected_score)\n",
    "    return processed\n",
    "\n",
    "\n",
    "print(\"Preprocessing dataset (applying chat template and tokenizing)...\")\n",
    "train_dataset = train_dataset_raw.map(\n",
    "    preprocess_function,\n",
    "    batched=True,\n",
    "    remove_columns=train_dataset_raw.column_names,\n",
    "    num_proc=os.cpu_count(),\n",
    "    desc=\"Preprocessing train dataset\"\n",
    ")\n",
    "eval_dataset = eval_dataset_raw.map(\n",
    "    preprocess_function,\n",
    "    batched=True,\n",
    "    remove_columns=eval_dataset_raw.column_names,\n",
    "    num_proc=os.cpu_count(),\n",
    "    desc=\"Preprocessing eval dataset\"\n",
    ")\n",
    "\n",
    "# Convert lists to tensors for DataLoader\n",
    "train_dataset.set_format(type=\"torch\", columns=['prompt_input_ids', 'chosen_input_ids', 'rejected_input_ids',\n",
    "                                                'prompt_attention_mask', 'chosen_attention_mask', 'rejected_attention_mask', 'prompt_len', 'score_chosen', 'score_rejected'])\n",
    "eval_dataset.set_format(type=\"torch\", columns=['prompt_input_ids', 'chosen_input_ids', 'rejected_input_ids',\n",
    "                                               'prompt_attention_mask', 'chosen_attention_mask', 'rejected_attention_mask', 'prompt_len', 'score_chosen', 'score_rejected'])\n",
    "print('Print score rejected')\n",
    "print(train_dataset['score_rejected'])\n",
    "print(f\"After preprocessing: {len(train_dataset)} training examples and {len(eval_dataset)} evaluation examples.\")\n",
    "\n",
    "# Custom Data Collator for DPO\n",
    "class DPODataCollator:\n",
    "    def __init__(self, tokenizer, max_length=MAX_LENGTH, max_prompt_length=MAX_PROMPT_LENGTH):\n",
    "        self.tokenizer = tokenizer\n",
    "        self.max_length = max_length\n",
    "        self.max_prompt_length = max_prompt_length\n",
    "\n",
    "    def __call__(self, features):\n",
    "        batch = {}\n",
    "        for key in features[0].keys():\n",
    "            batch[key] = [f[key] for f in features]\n",
    "\n",
    "        # Pad sequences\n",
    "        batch['prompt_input_ids'] = self.tokenizer.pad(\n",
    "            {'input_ids': batch['prompt_input_ids'], 'attention_mask': batch['prompt_attention_mask']},\n",
    "            padding='longest',\n",
    "            max_length=self.max_prompt_length,\n",
    "            return_tensors='pt',\n",
    "        )['input_ids']\n",
    "        batch['chosen_input_ids'] = self.tokenizer.pad(\n",
    "            {'input_ids': batch['chosen_input_ids'], 'attention_mask': batch['chosen_attention_mask']},\n",
    "            padding='longest',\n",
    "            max_length=self.max_length,\n",
    "            return_tensors='pt',\n",
    "        )['input_ids']\n",
    "        batch['rejected_input_ids'] = self.tokenizer.pad(\n",
    "            {'input_ids': batch['rejected_input_ids'], 'attention_mask': batch['rejected_attention_mask']},\n",
    "            padding='longest',\n",
    "            max_length=self.max_length,\n",
    "            return_tensors='pt',\n",
    "        )['input_ids']\n",
    "\n",
    "        # Also pad attention masks\n",
    "        batch['prompt_attention_mask'] = self.tokenizer.pad(\n",
    "            {'input_ids': [torch.ones(len(ids), dtype=torch.long) for ids in [f['prompt_input_ids'] for f in features]], 'attention_mask': batch['prompt_attention_mask']}, # Use actual lengths here\n",
    "            padding='longest',\n",
    "            max_length=self.max_prompt_length,\n",
    "            return_tensors='pt',\n",
    "        )['attention_mask']\n",
    "        batch['chosen_attention_mask'] = self.tokenizer.pad(\n",
    "            {'input_ids': [torch.ones(len(ids), dtype=torch.long) for ids in [f['chosen_input_ids'] for f in features]], 'attention_mask': batch['chosen_attention_mask']},\n",
    "            padding='longest',\n",
    "            max_length=self.max_length,\n",
    "            return_tensors='pt',\n",
    "        )['attention_mask']\n",
    "        batch['rejected_attention_mask'] = self.tokenizer.pad(\n",
    "            {'input_ids': [torch.ones(len(ids), dtype=torch.long) for ids in [f['rejected_input_ids'] for f in features]], 'attention_mask': batch['rejected_attention_mask']},\n",
    "            padding='longest',\n",
    "            max_length=self.max_length,\n",
    "            return_tensors='pt',\n",
    "        )['attention_mask']\n",
    "\n",
    "        # Convert prompt_len to tensor\n",
    "        batch['prompt_len'] = torch.tensor(batch['prompt_len'], dtype=torch.long)\n",
    "        print(batch['score_chosen'])\n",
    "        print(batch['score_rejected'])\n",
    "        batch['score_chosen'] = torch.tensor(batch['score_chosen'], dtype=DTYPE)\n",
    "        batch['score_rejected'] = torch.tensor(batch['score_rejected'], dtype=DTYPE)\n",
    "        \n",
    "\n",
    "        return batch\n",
    "\n",
    "data_collator = DPODataCollator(tokenizer)\n",
    "\n",
    "train_dataloader = DataLoader(\n",
    "    train_dataset,\n",
    "    batch_size=BATCH_SIZE,\n",
    "    shuffle=True,\n",
    "    collate_fn=data_collator\n",
    ")\n",
    "eval_dataloader = DataLoader(\n",
    "    eval_dataset,\n",
    "    batch_size=BATCH_SIZE,\n",
    "    shuffle=False,\n",
    "    collate_fn=data_collator\n",
    ")\n",
    "\n",
    "# --- 3. Helper Function to Calculate Log Probabilities ---\n",
    "def get_log_probs(model, input_ids, attention_mask, prompt_len):\n",
    "    \"\"\"\n",
    "    Calculates the log probability of a sequence of tokens given a model,\n",
    "    masking out the prompt part and padding.\n",
    "\n",
    "    Args:\n",
    "        model: The language model (policy or reference).\n",
    "        input_ids: Tensor of tokenized sequence (prompt + response).\n",
    "        attention_mask: Tensor of attention mask for the sequence.\n",
    "        prompt_len: Tensor of lengths of the prompt for each example in batch.\n",
    "\n",
    "    Returns:\n",
    "        A tensor of shape (batch_size,) containing the sum of log probabilities\n",
    "        for the response tokens only.\n",
    "    \"\"\"\n",
    "    with torch.no_grad() if model.training is False else torch.enable_grad():\n",
    "        outputs = model(input_ids=input_ids, attention_mask=attention_mask)\n",
    "        logits = outputs.logits # (batch_size, sequence_length, vocab_size)\n",
    "\n",
    "    # Shift logits and labels for causal LM\n",
    "    # The loss is computed for token_i given token_0 to token_{i-1}\n",
    "    # So, logits[:, :-1, :] corresponds to predicting token_1 to token_{length-1}\n",
    "    # And input_ids[:, 1:] are the actual token_1 to token_{length-1}\n",
    "    logits = logits[:, :-1, :]\n",
    "    labels = input_ids[:, 1:]\n",
    "    \n",
    "    # Calculate log_softmax over the vocabulary dimension\n",
    "    log_probs = F.log_softmax(logits, dim=-1) # (batch_size, sequence_length - 1, vocab_size)\n",
    "\n",
    "    # Gather the log probabilities for the actual next tokens\n",
    "    # `labels.unsqueeze(-1)` makes it (batch_size, sequence_length - 1, 1)\n",
    "    # `log_probs.gather(dim=-1, index=...)` picks the log_prob at the label index\n",
    "    # `squeeze(-1)` removes the last dimension, resulting in (batch_size, sequence_length - 1)\n",
    "    token_log_probs = torch.gather(log_probs, dim=-1, index=labels.unsqueeze(-1)).squeeze(-1)\n",
    "\n",
    "    # Create a mask to only consider response tokens\n",
    "    # tokens corresponding to prompt_len[i] up to the end of the sequence.\n",
    "    # The mask needs to be shifted by 1 because `token_log_probs` is also shifted.\n",
    "    sequence_lengths = attention_mask.sum(dim=-1) # Actual length of each sequence before padding\n",
    "    \n",
    "    # Create an index tensor for each position in the shifted sequence\n",
    "    indices = torch.arange(token_log_probs.shape[1], device=token_log_probs.device).unsqueeze(0) # (1, seq_len-1)\n",
    "\n",
    "    # Mask for response tokens: True if index >= prompt_len (shifted by 1) AND index < sequence_length (shifted by 1)\n",
    "    response_mask = (indices >= (prompt_len - 1).unsqueeze(1)) & \\\n",
    "                    (indices < (sequence_lengths - 1).unsqueeze(1)) & \\\n",
    "                    (labels != tokenizer.pad_token_id) # Also exclude padding tokens explicitly\n",
    "\n",
    "    # Apply the mask\n",
    "    masked_log_probs = token_log_probs * response_mask.float()\n",
    "    \n",
    "    # Sum the log probabilities for each example\n",
    "    return masked_log_probs.sum(dim=-1) # (batch_size,)\n",
    "\n",
    "# --- 4. Optimizer and Scheduler ---\n",
    "optimizer = AdamW(policy_model.parameters(), lr=LEARNING_RATE)\n",
    "\n",
    "num_training_steps = (len(train_dataloader) // GRADIENT_ACCUMULATION_STEPS) * EPOCHS\n",
    "lr_scheduler = get_scheduler(\n",
    "    name=\"cosine\",\n",
    "    optimizer=optimizer,\n",
    "    num_warmup_steps=0,\n",
    "    num_training_steps=num_training_steps,\n",
    ")\n",
    "\n",
    "# --- 5. Training Loop ---\n",
    "print(\"Starting DPO with ratings training loop...\")\n",
    "global_step = 0\n",
    "policy_model.zero_grad()\n",
    "\n",
    "for epoch in range(EPOCHS):\n",
    "    policy_model.train() # Ensure policy model is in train mode\n",
    "    total_loss = 0\n",
    "    progress_bar = tqdm(train_dataloader, desc=f\"Epoch {epoch+1}/{EPOCHS} Training\")\n",
    "\n",
    "    for step, batch in enumerate(progress_bar):\n",
    "        # Move batch to device\n",
    "        batch = {k: v.to(DEVICE) for k, v in batch.items()}\n",
    "\n",
    "        # Compute log probabilities for chosen responses\n",
    "        log_prob_chosen_policy = get_log_probs(policy_model, batch['chosen_input_ids'], batch['chosen_attention_mask'], batch['prompt_len'])\n",
    "        with torch.no_grad(): # Ensure no gradients for reference model\n",
    "            log_prob_chosen_ref = get_log_probs(ref_model, batch['chosen_input_ids'], batch['chosen_attention_mask'], batch['prompt_len'])\n",
    "\n",
    "        # Compute log probabilities for rejected responses\n",
    "        log_prob_rejected_policy = get_log_probs(policy_model, batch['rejected_input_ids'], batch['rejected_attention_mask'], batch['prompt_len'])\n",
    "        with torch.no_grad():\n",
    "            log_prob_rejected_ref = get_log_probs(ref_model, batch['rejected_input_ids'], batch['rejected_attention_mask'], batch['prompt_len'])\n",
    "\n",
    "        # Calculate the DPO loss components\n",
    "        pi_log_ratio = log_prob_chosen_policy - log_prob_rejected_policy\n",
    "        ref_log_ratio = log_prob_chosen_ref - log_prob_rejected_ref\n",
    "\n",
    "        dpo_loss_components = -F.logsigmoid(BETA * (pi_log_ratio - ref_log_ratio - 1/BETA1*(batch['score_chosen'] - batch['score_rejected'])))\n",
    "        \n",
    "        # Average loss over the batch\n",
    "        loss = dpo_loss_components.mean()\n",
    "        \n",
    "        # Backward pass with gradient accumulation\n",
    "        loss = loss / GRADIENT_ACCUMULATION_STEPS\n",
    "        loss.backward()\n",
    "\n",
    "        total_loss += loss.item() * GRADIENT_ACCUMULATION_STEPS # Scale back up for logging\n",
    "\n",
    "        if (step + 1) % GRADIENT_ACCUMULATION_STEPS == 0 or (step + 1) == len(train_dataloader):\n",
    "            # Clip gradients to prevent exploding gradients\n",
    "            torch.nn.utils.clip_grad_norm_(policy_model.parameters(), 1.0)\n",
    "            \n",
    "            optimizer.step()\n",
    "            lr_scheduler.step()\n",
    "            policy_model.zero_grad()\n",
    "            global_step += 1\n",
    "            \n",
    "            progress_bar.set_postfix({\n",
    "                \"loss\": total_loss / (step + 1),\n",
    "                \"learning_rate\": lr_scheduler.get_last_lr()[0],\n",
    "                \"global_step\": global_step\n",
    "            })\n",
    "\n",
    "    print(f\"Epoch {epoch+1} finished. Average Training Loss: {total_loss / len(train_dataloader)}\")\n",
    "\n",
    "    # --- Evaluation ---\n",
    "    policy_model.eval()\n",
    "    eval_loss = 0\n",
    "    eval_progress_bar = tqdm(eval_dataloader, desc=f\"Epoch {epoch+1}/{EPOCHS} Evaluation\")\n",
    "    with torch.no_grad():\n",
    "        for batch in eval_progress_bar:\n",
    "            batch = {k: v.to(DEVICE) for k, v in batch.items()}\n",
    "\n",
    "            log_prob_chosen_policy = get_log_probs(policy_model, batch['chosen_input_ids'], batch['chosen_attention_mask'], batch['prompt_len'])\n",
    "            log_prob_chosen_ref = get_log_probs(ref_model, batch['chosen_input_ids'], batch['chosen_attention_mask'], batch['prompt_len'])\n",
    "\n",
    "            log_prob_rejected_policy = get_log_probs(policy_model, batch['rejected_input_ids'], batch['rejected_attention_mask'], batch['prompt_len'])\n",
    "            log_prob_rejected_ref = get_log_probs(ref_model, batch['rejected_input_ids'], batch['rejected_attention_mask'], batch['prompt_len'])\n",
    "\n",
    "            pi_log_ratio = log_prob_chosen_policy - log_prob_rejected_policy\n",
    "            ref_log_ratio = log_prob_chosen_ref - log_prob_rejected_ref\n",
    "\n",
    "            dpo_loss_components = -F.logsigmoid(BETA * (pi_log_ratio - ref_log_ratio - 1/BETA1*(batch['score_chosen'] - batch['score_rejected'])))\n",
    "            eval_loss += dpo_loss_components.mean().item()\n",
    "            eval_progress_bar.set_postfix({\"eval_loss\": eval_loss / (eval_progress_bar.n + 1)})\n",
    "            \n",
    "    print(f\"Epoch {epoch+1} finished. Average Evaluation Loss: {eval_loss / len(eval_dataloader)}\")\n",
    "\n",
    "# --- Save the fine-tuned model ---\n",
    "# Save the LoRA adapter\n",
    "final_model_path = os.path.join(OUTPUT_DIR, \"final_checkpoint\")\n",
    "policy_model.save_pretrained(final_model_path)\n",
    "tokenizer.save_pretrained(final_model_path)\n",
    "print(f\"Model saved to {final_model_path}\")\n",
    "\n",
    "print(\"DPO with ratings training complete!\")\n",
    "\n",
    "# --- Optional: Test the trained model ---\n",
    "if DEVICE == \"cuda\":\n",
    "    print(\"\\n--- Testing the trained model ---\")\n",
    "    from transformers import pipeline\n",
    "    from peft import PeftModel\n",
    "\n",
    "    # Load the base model\n",
    "    test_model = AutoModelForCausalLM.from_pretrained(\n",
    "        MODEL_ID,\n",
    "        torch_dtype=DTYPE,\n",
    "        device_map=DEVICE\n",
    "    )\n",
    "    # Load the LoRA adapter and merge\n",
    "    test_model = PeftModel.from_pretrained(test_model, final_model_path)\n",
    "    test_model = test_model.merge_and_unload() # Merge LoRA weights into base model\n",
    "    test_model.eval()\n",
    "\n",
    "    pipe = pipeline(\n",
    "        \"text-generation\",\n",
    "        model=test_model,\n",
    "        tokenizer=tokenizer,\n",
    "        torch_dtype=DTYPE,\n",
    "        device=0\n",
    "    )\n",
    "\n",
    "    test_prompt_message = [{\"role\": \"user\", \"content\": \"Write a short, heartwarming story about an old cat.\"}]\n",
    "    test_prompt = tokenizer.apply_chat_template(\n",
    "        test_prompt_message,\n",
    "        tokenize=False,\n",
    "        add_generation_prompt=True\n",
    "    )\n",
    "\n",
    "    print(f\"Generating response for prompt:\\n{test_prompt}\")\n",
    "    \n",
    "    outputs = pipe(\n",
    "        test_prompt,\n",
    "        max_new_tokens=100,\n",
    "        do_sample=True,\n",
    "        temperature=0.7,\n",
    "        top_k=50,\n",
    "        top_p=0.95,\n",
    "        repetition_penalty=1.1,\n",
    "        eos_token_id=tokenizer.eos_token_id\n",
    "    )\n",
    "    print(\"\\nGenerated Response (full):\")\n",
    "    print(outputs[0]['generated_text'])\n",
    "    \n",
    "    generated_text_only = outputs[0]['generated_text'].replace(test_prompt, '').strip()\n",
    "    print(\"\\nGenerated Response (clean):\")\n",
    "    print(generated_text_only)\n",
    "else:\n",
    "    print(\"\\nSkipping model testing: CUDA not available. Run on GPU for testing.\")"
   ]
  },
  {
   "cell_type": "code",
   "execution_count": null,
   "metadata": {},
   "outputs": [],
   "source": []
  }
 ],
 "metadata": {
  "accelerator": "GPU",
  "colab": {
   "gpuType": "A100",
   "machine_shape": "hm",
   "provenance": []
  },
  "kernelspec": {
   "display_name": "amazon",
   "language": "python",
   "name": "amazon"
  },
  "language_info": {
   "codemirror_mode": {
    "name": "ipython",
    "version": 3
   },
   "file_extension": ".py",
   "mimetype": "text/x-python",
   "name": "python",
   "nbconvert_exporter": "python",
   "pygments_lexer": "ipython3",
   "version": "3.9.12"
  },
  "widgets": {
   "application/vnd.jupyter.widget-state+json": {
    "00c320491e8a4c968b1c43248e0a7a4f": {
     "model_module": "@jupyter-widgets/controls",
     "model_module_version": "1.5.0",
     "model_name": "FloatProgressModel",
     "state": {
      "_dom_classes": [],
      "_model_module": "@jupyter-widgets/controls",
      "_model_module_version": "1.5.0",
      "_model_name": "FloatProgressModel",
      "_view_count": null,
      "_view_module": "@jupyter-widgets/controls",
      "_view_module_version": "1.5.0",
      "_view_name": "ProgressView",
      "bar_style": "success",
      "description": "",
      "description_tooltip": null,
      "layout": "IPY_MODEL_752ab188972f43e8abd7b4cfbd371270",
      "max": 3,
      "min": 0,
      "orientation": "horizontal",
      "style": "IPY_MODEL_b2a52f9dd2954c0d92610a6775297013",
      "value": 3
     }
    },
    "01142f6f9baa45238f99aefe4bd0017b": {
     "model_module": "@jupyter-widgets/controls",
     "model_module_version": "1.5.0",
     "model_name": "DescriptionStyleModel",
     "state": {
      "_model_module": "@jupyter-widgets/controls",
      "_model_module_version": "1.5.0",
      "_model_name": "DescriptionStyleModel",
      "_view_count": null,
      "_view_module": "@jupyter-widgets/base",
      "_view_module_version": "1.2.0",
      "_view_name": "StyleView",
      "description_width": ""
     }
    },
    "01fd144758bb4e68acd6bae76917c105": {
     "model_module": "@jupyter-widgets/controls",
     "model_module_version": "1.5.0",
     "model_name": "HBoxModel",
     "state": {
      "_dom_classes": [],
      "_model_module": "@jupyter-widgets/controls",
      "_model_module_version": "1.5.0",
      "_model_name": "HBoxModel",
      "_view_count": null,
      "_view_module": "@jupyter-widgets/controls",
      "_view_module_version": "1.5.0",
      "_view_name": "HBoxView",
      "box_style": "",
      "children": [
       "IPY_MODEL_04718b90b8ef4261b29f646a9048cf97",
       "IPY_MODEL_d382d964dfbc4f2fb4028a903247eb53",
       "IPY_MODEL_372bddf9785c4409ab946e6ff0b19270"
      ],
      "layout": "IPY_MODEL_4acdc178199f465f851944c4cf3c3496"
     }
    },
    "02a6d0b3cfc14824a0629c7b93ca6341": {
     "model_module": "@jupyter-widgets/controls",
     "model_module_version": "1.5.0",
     "model_name": "HBoxModel",
     "state": {
      "_dom_classes": [],
      "_model_module": "@jupyter-widgets/controls",
      "_model_module_version": "1.5.0",
      "_model_name": "HBoxModel",
      "_view_count": null,
      "_view_module": "@jupyter-widgets/controls",
      "_view_module_version": "1.5.0",
      "_view_name": "HBoxView",
      "box_style": "",
      "children": [
       "IPY_MODEL_189a2305890f49708027e92473179ac1",
       "IPY_MODEL_547fed1b552f40f1a5730d43f6358e21",
       "IPY_MODEL_670b53a1460542dbbce5cee662a1d966"
      ],
      "layout": "IPY_MODEL_132e3ea125074e27805988bf8afc2dce"
     }
    },
    "03b7c019a56e47629cee780acec7f3bf": {
     "model_module": "@jupyter-widgets/controls",
     "model_module_version": "1.5.0",
     "model_name": "DescriptionStyleModel",
     "state": {
      "_model_module": "@jupyter-widgets/controls",
      "_model_module_version": "1.5.0",
      "_model_name": "DescriptionStyleModel",
      "_view_count": null,
      "_view_module": "@jupyter-widgets/base",
      "_view_module_version": "1.2.0",
      "_view_name": "StyleView",
      "description_width": ""
     }
    },
    "04718b90b8ef4261b29f646a9048cf97": {
     "model_module": "@jupyter-widgets/controls",
     "model_module_version": "1.5.0",
     "model_name": "HTMLModel",
     "state": {
      "_dom_classes": [],
      "_model_module": "@jupyter-widgets/controls",
      "_model_module_version": "1.5.0",
      "_model_name": "HTMLModel",
      "_view_count": null,
      "_view_module": "@jupyter-widgets/controls",
      "_view_module_version": "1.5.0",
      "_view_name": "HTMLView",
      "description": "",
      "description_tooltip": null,
      "layout": "IPY_MODEL_dda91956110a49e7823cb7011d833bb5",
      "placeholder": "​",
      "style": "IPY_MODEL_78c7d259011244219e5f767353374b44",
      "value": "model-00002-of-00003.safetensors: 100%"
     }
    },
    "0984446b0f424ca08238e26f7da10857": {
     "model_module": "@jupyter-widgets/controls",
     "model_module_version": "1.5.0",
     "model_name": "DescriptionStyleModel",
     "state": {
      "_model_module": "@jupyter-widgets/controls",
      "_model_module_version": "1.5.0",
      "_model_name": "DescriptionStyleModel",
      "_view_count": null,
      "_view_module": "@jupyter-widgets/base",
      "_view_module_version": "1.2.0",
      "_view_name": "StyleView",
      "description_width": ""
     }
    },
    "0a85cb6a5af34372872de507c70f2686": {
     "model_module": "@jupyter-widgets/controls",
     "model_module_version": "1.5.0",
     "model_name": "HTMLModel",
     "state": {
      "_dom_classes": [],
      "_model_module": "@jupyter-widgets/controls",
      "_model_module_version": "1.5.0",
      "_model_name": "HTMLModel",
      "_view_count": null,
      "_view_module": "@jupyter-widgets/controls",
      "_view_module_version": "1.5.0",
      "_view_name": "HTMLView",
      "description": "",
      "description_tooltip": null,
      "layout": "IPY_MODEL_d4c068a9822f4547b816cc28723447b1",
      "placeholder": "​",
      "style": "IPY_MODEL_a8a6d51cd7944538ae2395556f3f05e1",
      "value": "Loading checkpoint shards: 100%"
     }
    },
    "0aae86a8b6564b8995da02649253ca26": {
     "model_module": "@jupyter-widgets/controls",
     "model_module_version": "1.5.0",
     "model_name": "ProgressStyleModel",
     "state": {
      "_model_module": "@jupyter-widgets/controls",
      "_model_module_version": "1.5.0",
      "_model_name": "ProgressStyleModel",
      "_view_count": null,
      "_view_module": "@jupyter-widgets/base",
      "_view_module_version": "1.2.0",
      "_view_name": "StyleView",
      "bar_color": null,
      "description_width": ""
     }
    },
    "11ca0fc166474fb3bb5d9797dd614abb": {
     "model_module": "@jupyter-widgets/controls",
     "model_module_version": "1.5.0",
     "model_name": "HTMLModel",
     "state": {
      "_dom_classes": [],
      "_model_module": "@jupyter-widgets/controls",
      "_model_module_version": "1.5.0",
      "_model_name": "HTMLModel",
      "_view_count": null,
      "_view_module": "@jupyter-widgets/controls",
      "_view_module_version": "1.5.0",
      "_view_name": "HTMLView",
      "description": "",
      "description_tooltip": null,
      "layout": "IPY_MODEL_3a3b30e691664f25b1e4bd5f45530c96",
      "placeholder": "​",
      "style": "IPY_MODEL_c9affa50167046de91759b67b215185e",
      "value": "Downloading shards: 100%"
     }
    },
    "11ed3d83b9aa4c4e87b5dc903a110369": {
     "model_module": "@jupyter-widgets/controls",
     "model_module_version": "1.5.0",
     "model_name": "FloatProgressModel",
     "state": {
      "_dom_classes": [],
      "_model_module": "@jupyter-widgets/controls",
      "_model_module_version": "1.5.0",
      "_model_name": "FloatProgressModel",
      "_view_count": null,
      "_view_module": "@jupyter-widgets/controls",
      "_view_module_version": "1.5.0",
      "_view_name": "ProgressView",
      "bar_style": "success",
      "description": "",
      "description_tooltip": null,
      "layout": "IPY_MODEL_3dbca9443ef44eafb3cf57789b7479f4",
      "max": 2,
      "min": 0,
      "orientation": "horizontal",
      "style": "IPY_MODEL_d7cd50acced74374afda20aca7619d1e",
      "value": 2
     }
    },
    "12fcd6881f83422f8c2c802e97d4e4e1": {
     "model_module": "@jupyter-widgets/controls",
     "model_module_version": "1.5.0",
     "model_name": "FloatProgressModel",
     "state": {
      "_dom_classes": [],
      "_model_module": "@jupyter-widgets/controls",
      "_model_module_version": "1.5.0",
      "_model_name": "FloatProgressModel",
      "_view_count": null,
      "_view_module": "@jupyter-widgets/controls",
      "_view_module_version": "1.5.0",
      "_view_name": "ProgressView",
      "bar_style": "success",
      "description": "",
      "description_tooltip": null,
      "layout": "IPY_MODEL_6db2ac361b4e4327a0ae0bf5e5fc114e",
      "max": 4943162240,
      "min": 0,
      "orientation": "horizontal",
      "style": "IPY_MODEL_bae1768c65ce4d89ac5870ba5234b412",
      "value": 4943162240
     }
    },
    "132e3ea125074e27805988bf8afc2dce": {
     "model_module": "@jupyter-widgets/base",
     "model_module_version": "1.2.0",
     "model_name": "LayoutModel",
     "state": {
      "_model_module": "@jupyter-widgets/base",
      "_model_module_version": "1.2.0",
      "_model_name": "LayoutModel",
      "_view_count": null,
      "_view_module": "@jupyter-widgets/base",
      "_view_module_version": "1.2.0",
      "_view_name": "LayoutView",
      "align_content": null,
      "align_items": null,
      "align_self": null,
      "border": null,
      "bottom": null,
      "display": null,
      "flex": null,
      "flex_flow": null,
      "grid_area": null,
      "grid_auto_columns": null,
      "grid_auto_flow": null,
      "grid_auto_rows": null,
      "grid_column": null,
      "grid_gap": null,
      "grid_row": null,
      "grid_template_areas": null,
      "grid_template_columns": null,
      "grid_template_rows": null,
      "height": null,
      "justify_content": null,
      "justify_items": null,
      "left": null,
      "margin": null,
      "max_height": null,
      "max_width": null,
      "min_height": null,
      "min_width": null,
      "object_fit": null,
      "object_position": null,
      "order": null,
      "overflow": null,
      "overflow_x": null,
      "overflow_y": null,
      "padding": null,
      "right": null,
      "top": null,
      "visibility": null,
      "width": null
     }
    },
    "1467b37858f945be813dc8c5a3343fa6": {
     "model_module": "@jupyter-widgets/controls",
     "model_module_version": "1.5.0",
     "model_name": "HBoxModel",
     "state": {
      "_dom_classes": [],
      "_model_module": "@jupyter-widgets/controls",
      "_model_module_version": "1.5.0",
      "_model_name": "HBoxModel",
      "_view_count": null,
      "_view_module": "@jupyter-widgets/controls",
      "_view_module_version": "1.5.0",
      "_view_name": "HBoxView",
      "box_style": "",
      "children": [
       "IPY_MODEL_233902408b4b4c3fb0357a3c60fa416c",
       "IPY_MODEL_cd5ee07f8f314fb998ff8d06c8d4756e",
       "IPY_MODEL_d90f06953eac4bd0af61d50c644376ae"
      ],
      "layout": "IPY_MODEL_6b1527c7f1744f7ea5fc668902c9b6c7"
     }
    },
    "14dd042c0f5343c9bb458fe583b4c630": {
     "model_module": "@jupyter-widgets/base",
     "model_module_version": "1.2.0",
     "model_name": "LayoutModel",
     "state": {
      "_model_module": "@jupyter-widgets/base",
      "_model_module_version": "1.2.0",
      "_model_name": "LayoutModel",
      "_view_count": null,
      "_view_module": "@jupyter-widgets/base",
      "_view_module_version": "1.2.0",
      "_view_name": "LayoutView",
      "align_content": null,
      "align_items": null,
      "align_self": null,
      "border": null,
      "bottom": null,
      "display": null,
      "flex": null,
      "flex_flow": null,
      "grid_area": null,
      "grid_auto_columns": null,
      "grid_auto_flow": null,
      "grid_auto_rows": null,
      "grid_column": null,
      "grid_gap": null,
      "grid_row": null,
      "grid_template_areas": null,
      "grid_template_columns": null,
      "grid_template_rows": null,
      "height": null,
      "justify_content": null,
      "justify_items": null,
      "left": null,
      "margin": null,
      "max_height": null,
      "max_width": null,
      "min_height": null,
      "min_width": null,
      "object_fit": null,
      "object_position": null,
      "order": null,
      "overflow": null,
      "overflow_x": null,
      "overflow_y": null,
      "padding": null,
      "right": null,
      "top": null,
      "visibility": null,
      "width": null
     }
    },
    "15150a42ef3c42fc89b9988854ceff34": {
     "model_module": "@jupyter-widgets/controls",
     "model_module_version": "1.5.0",
     "model_name": "HBoxModel",
     "state": {
      "_dom_classes": [],
      "_model_module": "@jupyter-widgets/controls",
      "_model_module_version": "1.5.0",
      "_model_name": "HBoxModel",
      "_view_count": null,
      "_view_module": "@jupyter-widgets/controls",
      "_view_module_version": "1.5.0",
      "_view_name": "HBoxView",
      "box_style": "",
      "children": [
       "IPY_MODEL_eae52b7dc91e42d09040f7a294f59770",
       "IPY_MODEL_af2fbc70ff2e41529aec0975337a47fd",
       "IPY_MODEL_9d835d8b50ac476ba640656bd18fb33a"
      ],
      "layout": "IPY_MODEL_2c6f146bd0ce4b89868d0ff5e85c6103"
     }
    },
    "160e9e562a7249baa93de46d76ca493c": {
     "model_module": "@jupyter-widgets/controls",
     "model_module_version": "1.5.0",
     "model_name": "ProgressStyleModel",
     "state": {
      "_model_module": "@jupyter-widgets/controls",
      "_model_module_version": "1.5.0",
      "_model_name": "ProgressStyleModel",
      "_view_count": null,
      "_view_module": "@jupyter-widgets/base",
      "_view_module_version": "1.2.0",
      "_view_name": "StyleView",
      "bar_color": null,
      "description_width": ""
     }
    },
    "189a2305890f49708027e92473179ac1": {
     "model_module": "@jupyter-widgets/controls",
     "model_module_version": "1.5.0",
     "model_name": "HTMLModel",
     "state": {
      "_dom_classes": [],
      "_model_module": "@jupyter-widgets/controls",
      "_model_module_version": "1.5.0",
      "_model_name": "HTMLModel",
      "_view_count": null,
      "_view_module": "@jupyter-widgets/controls",
      "_view_module_version": "1.5.0",
      "_view_name": "HTMLView",
      "description": "",
      "description_tooltip": null,
      "layout": "IPY_MODEL_8ba4e739ef6847f1bdd231fed9c4afa4",
      "placeholder": "​",
      "style": "IPY_MODEL_aed37e74ddc542a0befea2bf782e8666",
      "value": "tokenizer.model: 100%"
     }
    },
    "19d626fe87b746daa1a40538c0077b1c": {
     "model_module": "@jupyter-widgets/base",
     "model_module_version": "1.2.0",
     "model_name": "LayoutModel",
     "state": {
      "_model_module": "@jupyter-widgets/base",
      "_model_module_version": "1.2.0",
      "_model_name": "LayoutModel",
      "_view_count": null,
      "_view_module": "@jupyter-widgets/base",
      "_view_module_version": "1.2.0",
      "_view_name": "LayoutView",
      "align_content": null,
      "align_items": null,
      "align_self": null,
      "border": null,
      "bottom": null,
      "display": null,
      "flex": null,
      "flex_flow": null,
      "grid_area": null,
      "grid_auto_columns": null,
      "grid_auto_flow": null,
      "grid_auto_rows": null,
      "grid_column": null,
      "grid_gap": null,
      "grid_row": null,
      "grid_template_areas": null,
      "grid_template_columns": null,
      "grid_template_rows": null,
      "height": null,
      "justify_content": null,
      "justify_items": null,
      "left": null,
      "margin": null,
      "max_height": null,
      "max_width": null,
      "min_height": null,
      "min_width": null,
      "object_fit": null,
      "object_position": null,
      "order": null,
      "overflow": null,
      "overflow_x": null,
      "overflow_y": null,
      "padding": null,
      "right": null,
      "top": null,
      "visibility": null,
      "width": null
     }
    },
    "1cd72cc7fe044e628ad3c3d72c50f6c9": {
     "model_module": "@jupyter-widgets/base",
     "model_module_version": "1.2.0",
     "model_name": "LayoutModel",
     "state": {
      "_model_module": "@jupyter-widgets/base",
      "_model_module_version": "1.2.0",
      "_model_name": "LayoutModel",
      "_view_count": null,
      "_view_module": "@jupyter-widgets/base",
      "_view_module_version": "1.2.0",
      "_view_name": "LayoutView",
      "align_content": null,
      "align_items": null,
      "align_self": null,
      "border": null,
      "bottom": null,
      "display": null,
      "flex": null,
      "flex_flow": null,
      "grid_area": null,
      "grid_auto_columns": null,
      "grid_auto_flow": null,
      "grid_auto_rows": null,
      "grid_column": null,
      "grid_gap": null,
      "grid_row": null,
      "grid_template_areas": null,
      "grid_template_columns": null,
      "grid_template_rows": null,
      "height": null,
      "justify_content": null,
      "justify_items": null,
      "left": null,
      "margin": null,
      "max_height": null,
      "max_width": null,
      "min_height": null,
      "min_width": null,
      "object_fit": null,
      "object_position": null,
      "order": null,
      "overflow": null,
      "overflow_x": null,
      "overflow_y": null,
      "padding": null,
      "right": null,
      "top": null,
      "visibility": null,
      "width": null
     }
    },
    "1faaa4b0a8934ae9ac1467bf645c2969": {
     "model_module": "@jupyter-widgets/controls",
     "model_module_version": "1.5.0",
     "model_name": "ProgressStyleModel",
     "state": {
      "_model_module": "@jupyter-widgets/controls",
      "_model_module_version": "1.5.0",
      "_model_name": "ProgressStyleModel",
      "_view_count": null,
      "_view_module": "@jupyter-widgets/base",
      "_view_module_version": "1.2.0",
      "_view_name": "StyleView",
      "bar_color": null,
      "description_width": ""
     }
    },
    "20289fd2f59f4cc48a8334edc3b2a6d6": {
     "model_module": "@jupyter-widgets/base",
     "model_module_version": "1.2.0",
     "model_name": "LayoutModel",
     "state": {
      "_model_module": "@jupyter-widgets/base",
      "_model_module_version": "1.2.0",
      "_model_name": "LayoutModel",
      "_view_count": null,
      "_view_module": "@jupyter-widgets/base",
      "_view_module_version": "1.2.0",
      "_view_name": "LayoutView",
      "align_content": null,
      "align_items": null,
      "align_self": null,
      "border": null,
      "bottom": null,
      "display": null,
      "flex": null,
      "flex_flow": null,
      "grid_area": null,
      "grid_auto_columns": null,
      "grid_auto_flow": null,
      "grid_auto_rows": null,
      "grid_column": null,
      "grid_gap": null,
      "grid_row": null,
      "grid_template_areas": null,
      "grid_template_columns": null,
      "grid_template_rows": null,
      "height": null,
      "justify_content": null,
      "justify_items": null,
      "left": null,
      "margin": null,
      "max_height": null,
      "max_width": null,
      "min_height": null,
      "min_width": null,
      "object_fit": null,
      "object_position": null,
      "order": null,
      "overflow": null,
      "overflow_x": null,
      "overflow_y": null,
      "padding": null,
      "right": null,
      "top": null,
      "visibility": null,
      "width": null
     }
    },
    "233902408b4b4c3fb0357a3c60fa416c": {
     "model_module": "@jupyter-widgets/controls",
     "model_module_version": "1.5.0",
     "model_name": "HTMLModel",
     "state": {
      "_dom_classes": [],
      "_model_module": "@jupyter-widgets/controls",
      "_model_module_version": "1.5.0",
      "_model_name": "HTMLModel",
      "_view_count": null,
      "_view_module": "@jupyter-widgets/controls",
      "_view_module_version": "1.5.0",
      "_view_name": "HTMLView",
      "description": "",
      "description_tooltip": null,
      "layout": "IPY_MODEL_39d48bd98f4d45b5a1092b4b3a1656c6",
      "placeholder": "​",
      "style": "IPY_MODEL_40f1fc8880dc44039eb1a4443f3c83bf",
      "value": "Upload 3 LFS files: 100%"
     }
    },
    "235fb6e2977045d399e9710bf8899ed2": {
     "model_module": "@jupyter-widgets/base",
     "model_module_version": "1.2.0",
     "model_name": "LayoutModel",
     "state": {
      "_model_module": "@jupyter-widgets/base",
      "_model_module_version": "1.2.0",
      "_model_name": "LayoutModel",
      "_view_count": null,
      "_view_module": "@jupyter-widgets/base",
      "_view_module_version": "1.2.0",
      "_view_name": "LayoutView",
      "align_content": null,
      "align_items": null,
      "align_self": null,
      "border": null,
      "bottom": null,
      "display": null,
      "flex": null,
      "flex_flow": null,
      "grid_area": null,
      "grid_auto_columns": null,
      "grid_auto_flow": null,
      "grid_auto_rows": null,
      "grid_column": null,
      "grid_gap": null,
      "grid_row": null,
      "grid_template_areas": null,
      "grid_template_columns": null,
      "grid_template_rows": null,
      "height": null,
      "justify_content": null,
      "justify_items": null,
      "left": null,
      "margin": null,
      "max_height": null,
      "max_width": null,
      "min_height": null,
      "min_width": null,
      "object_fit": null,
      "object_position": null,
      "order": null,
      "overflow": null,
      "overflow_x": null,
      "overflow_y": null,
      "padding": null,
      "right": null,
      "top": null,
      "visibility": null,
      "width": null
     }
    },
    "23b530519ac342529c0397edfdb98400": {
     "model_module": "@jupyter-widgets/base",
     "model_module_version": "1.2.0",
     "model_name": "LayoutModel",
     "state": {
      "_model_module": "@jupyter-widgets/base",
      "_model_module_version": "1.2.0",
      "_model_name": "LayoutModel",
      "_view_count": null,
      "_view_module": "@jupyter-widgets/base",
      "_view_module_version": "1.2.0",
      "_view_name": "LayoutView",
      "align_content": null,
      "align_items": null,
      "align_self": null,
      "border": null,
      "bottom": null,
      "display": null,
      "flex": null,
      "flex_flow": null,
      "grid_area": null,
      "grid_auto_columns": null,
      "grid_auto_flow": null,
      "grid_auto_rows": null,
      "grid_column": null,
      "grid_gap": null,
      "grid_row": null,
      "grid_template_areas": null,
      "grid_template_columns": null,
      "grid_template_rows": null,
      "height": null,
      "justify_content": null,
      "justify_items": null,
      "left": null,
      "margin": null,
      "max_height": null,
      "max_width": null,
      "min_height": null,
      "min_width": null,
      "object_fit": null,
      "object_position": null,
      "order": null,
      "overflow": null,
      "overflow_x": null,
      "overflow_y": null,
      "padding": null,
      "right": null,
      "top": null,
      "visibility": null,
      "width": null
     }
    },
    "25110f1263784609bb3c0b331209e850": {
     "model_module": "@jupyter-widgets/controls",
     "model_module_version": "1.5.0",
     "model_name": "ProgressStyleModel",
     "state": {
      "_model_module": "@jupyter-widgets/controls",
      "_model_module_version": "1.5.0",
      "_model_name": "ProgressStyleModel",
      "_view_count": null,
      "_view_module": "@jupyter-widgets/base",
      "_view_module_version": "1.2.0",
      "_view_name": "StyleView",
      "bar_color": null,
      "description_width": ""
     }
    },
    "25532004a6014bffa1066203a3fea5c2": {
     "model_module": "@jupyter-widgets/controls",
     "model_module_version": "1.5.0",
     "model_name": "HTMLModel",
     "state": {
      "_dom_classes": [],
      "_model_module": "@jupyter-widgets/controls",
      "_model_module_version": "1.5.0",
      "_model_name": "HTMLModel",
      "_view_count": null,
      "_view_module": "@jupyter-widgets/controls",
      "_view_module_version": "1.5.0",
      "_view_name": "HTMLView",
      "description": "",
      "description_tooltip": null,
      "layout": "IPY_MODEL_9355a6876679488b8ce55fba98c692b1",
      "placeholder": "​",
      "style": "IPY_MODEL_03b7c019a56e47629cee780acec7f3bf",
      "value": "Map: 100%"
     }
    },
    "298cf5267d384f619054ecf48c685096": {
     "model_module": "@jupyter-widgets/controls",
     "model_module_version": "1.5.0",
     "model_name": "ProgressStyleModel",
     "state": {
      "_model_module": "@jupyter-widgets/controls",
      "_model_module_version": "1.5.0",
      "_model_name": "ProgressStyleModel",
      "_view_count": null,
      "_view_module": "@jupyter-widgets/base",
      "_view_module_version": "1.2.0",
      "_view_name": "StyleView",
      "bar_color": null,
      "description_width": ""
     }
    },
    "2b379e9fd44344d0b332b13d126b6233": {
     "model_module": "@jupyter-widgets/controls",
     "model_module_version": "1.5.0",
     "model_name": "HTMLModel",
     "state": {
      "_dom_classes": [],
      "_model_module": "@jupyter-widgets/controls",
      "_model_module_version": "1.5.0",
      "_model_name": "HTMLModel",
      "_view_count": null,
      "_view_module": "@jupyter-widgets/controls",
      "_view_module_version": "1.5.0",
      "_view_name": "HTMLView",
      "description": "",
      "description_tooltip": null,
      "layout": "IPY_MODEL_f1c8fa69353b44fc8238be2c4a4b9d08",
      "placeholder": "​",
      "style": "IPY_MODEL_68f5797a151a4f3f8916b49a7c104229",
      "value": "model-00001-of-00002.safetensors: 100%"
     }
    },
    "2be8b6691d4e44c780c86274b2df5d14": {
     "model_module": "@jupyter-widgets/controls",
     "model_module_version": "1.5.0",
     "model_name": "HBoxModel",
     "state": {
      "_dom_classes": [],
      "_model_module": "@jupyter-widgets/controls",
      "_model_module_version": "1.5.0",
      "_model_name": "HBoxModel",
      "_view_count": null,
      "_view_module": "@jupyter-widgets/controls",
      "_view_module_version": "1.5.0",
      "_view_name": "HBoxView",
      "box_style": "",
      "children": [
       "IPY_MODEL_11ca0fc166474fb3bb5d9797dd614abb",
       "IPY_MODEL_11ed3d83b9aa4c4e87b5dc903a110369",
       "IPY_MODEL_57900b0b1c774c73a1544902b4dbceae"
      ],
      "layout": "IPY_MODEL_75c6fbaa862e413eb376fa2a40465ba8"
     }
    },
    "2c6f146bd0ce4b89868d0ff5e85c6103": {
     "model_module": "@jupyter-widgets/base",
     "model_module_version": "1.2.0",
     "model_name": "LayoutModel",
     "state": {
      "_model_module": "@jupyter-widgets/base",
      "_model_module_version": "1.2.0",
      "_model_name": "LayoutModel",
      "_view_count": null,
      "_view_module": "@jupyter-widgets/base",
      "_view_module_version": "1.2.0",
      "_view_name": "LayoutView",
      "align_content": null,
      "align_items": null,
      "align_self": null,
      "border": null,
      "bottom": null,
      "display": null,
      "flex": null,
      "flex_flow": null,
      "grid_area": null,
      "grid_auto_columns": null,
      "grid_auto_flow": null,
      "grid_auto_rows": null,
      "grid_column": null,
      "grid_gap": null,
      "grid_row": null,
      "grid_template_areas": null,
      "grid_template_columns": null,
      "grid_template_rows": null,
      "height": null,
      "justify_content": null,
      "justify_items": null,
      "left": null,
      "margin": null,
      "max_height": null,
      "max_width": null,
      "min_height": null,
      "min_width": null,
      "object_fit": null,
      "object_position": null,
      "order": null,
      "overflow": null,
      "overflow_x": null,
      "overflow_y": null,
      "padding": null,
      "right": null,
      "top": null,
      "visibility": null,
      "width": null
     }
    },
    "2cbedb839d9c430abab16220a7fdcba8": {
     "model_module": "@jupyter-widgets/base",
     "model_module_version": "1.2.0",
     "model_name": "LayoutModel",
     "state": {
      "_model_module": "@jupyter-widgets/base",
      "_model_module_version": "1.2.0",
      "_model_name": "LayoutModel",
      "_view_count": null,
      "_view_module": "@jupyter-widgets/base",
      "_view_module_version": "1.2.0",
      "_view_name": "LayoutView",
      "align_content": null,
      "align_items": null,
      "align_self": null,
      "border": null,
      "bottom": null,
      "display": null,
      "flex": null,
      "flex_flow": null,
      "grid_area": null,
      "grid_auto_columns": null,
      "grid_auto_flow": null,
      "grid_auto_rows": null,
      "grid_column": null,
      "grid_gap": null,
      "grid_row": null,
      "grid_template_areas": null,
      "grid_template_columns": null,
      "grid_template_rows": null,
      "height": null,
      "justify_content": null,
      "justify_items": null,
      "left": null,
      "margin": null,
      "max_height": null,
      "max_width": null,
      "min_height": null,
      "min_width": null,
      "object_fit": null,
      "object_position": null,
      "order": null,
      "overflow": null,
      "overflow_x": null,
      "overflow_y": null,
      "padding": null,
      "right": null,
      "top": null,
      "visibility": null,
      "width": null
     }
    },
    "2d3e9beb90a74374b30f337521dbf13a": {
     "model_module": "@jupyter-widgets/controls",
     "model_module_version": "1.5.0",
     "model_name": "DescriptionStyleModel",
     "state": {
      "_model_module": "@jupyter-widgets/controls",
      "_model_module_version": "1.5.0",
      "_model_name": "DescriptionStyleModel",
      "_view_count": null,
      "_view_module": "@jupyter-widgets/base",
      "_view_module_version": "1.2.0",
      "_view_name": "StyleView",
      "description_width": ""
     }
    },
    "2dce4e55c88e46a09ab402e4fd9ea5a7": {
     "model_module": "@jupyter-widgets/controls",
     "model_module_version": "1.5.0",
     "model_name": "HTMLModel",
     "state": {
      "_dom_classes": [],
      "_model_module": "@jupyter-widgets/controls",
      "_model_module_version": "1.5.0",
      "_model_name": "HTMLModel",
      "_view_count": null,
      "_view_module": "@jupyter-widgets/controls",
      "_view_module_version": "1.5.0",
      "_view_name": "HTMLView",
      "description": "",
      "description_tooltip": null,
      "layout": "IPY_MODEL_fd1e29c93ec9483e8137639a4dc7556e",
      "placeholder": "​",
      "style": "IPY_MODEL_fe137a8403544de2a8b63b1c6a169590",
      "value": "Loading checkpoint shards: 100%"
     }
    },
    "2fba384808dd41babbfd28d0f8928e5a": {
     "model_module": "@jupyter-widgets/base",
     "model_module_version": "1.2.0",
     "model_name": "LayoutModel",
     "state": {
      "_model_module": "@jupyter-widgets/base",
      "_model_module_version": "1.2.0",
      "_model_name": "LayoutModel",
      "_view_count": null,
      "_view_module": "@jupyter-widgets/base",
      "_view_module_version": "1.2.0",
      "_view_name": "LayoutView",
      "align_content": null,
      "align_items": null,
      "align_self": null,
      "border": null,
      "bottom": null,
      "display": null,
      "flex": null,
      "flex_flow": null,
      "grid_area": null,
      "grid_auto_columns": null,
      "grid_auto_flow": null,
      "grid_auto_rows": null,
      "grid_column": null,
      "grid_gap": null,
      "grid_row": null,
      "grid_template_areas": null,
      "grid_template_columns": null,
      "grid_template_rows": null,
      "height": null,
      "justify_content": null,
      "justify_items": null,
      "left": null,
      "margin": null,
      "max_height": null,
      "max_width": null,
      "min_height": null,
      "min_width": null,
      "object_fit": null,
      "object_position": null,
      "order": null,
      "overflow": null,
      "overflow_x": null,
      "overflow_y": null,
      "padding": null,
      "right": null,
      "top": null,
      "visibility": null,
      "width": null
     }
    },
    "300970d2430f4247887ecf4c28b8369d": {
     "model_module": "@jupyter-widgets/base",
     "model_module_version": "1.2.0",
     "model_name": "LayoutModel",
     "state": {
      "_model_module": "@jupyter-widgets/base",
      "_model_module_version": "1.2.0",
      "_model_name": "LayoutModel",
      "_view_count": null,
      "_view_module": "@jupyter-widgets/base",
      "_view_module_version": "1.2.0",
      "_view_name": "LayoutView",
      "align_content": null,
      "align_items": null,
      "align_self": null,
      "border": null,
      "bottom": null,
      "display": null,
      "flex": null,
      "flex_flow": null,
      "grid_area": null,
      "grid_auto_columns": null,
      "grid_auto_flow": null,
      "grid_auto_rows": null,
      "grid_column": null,
      "grid_gap": null,
      "grid_row": null,
      "grid_template_areas": null,
      "grid_template_columns": null,
      "grid_template_rows": null,
      "height": null,
      "justify_content": null,
      "justify_items": null,
      "left": null,
      "margin": null,
      "max_height": null,
      "max_width": null,
      "min_height": null,
      "min_width": null,
      "object_fit": null,
      "object_position": null,
      "order": null,
      "overflow": null,
      "overflow_x": null,
      "overflow_y": null,
      "padding": null,
      "right": null,
      "top": null,
      "visibility": null,
      "width": null
     }
    },
    "31f392e924b744fa8561f285114e7da0": {
     "model_module": "@jupyter-widgets/base",
     "model_module_version": "1.2.0",
     "model_name": "LayoutModel",
     "state": {
      "_model_module": "@jupyter-widgets/base",
      "_model_module_version": "1.2.0",
      "_model_name": "LayoutModel",
      "_view_count": null,
      "_view_module": "@jupyter-widgets/base",
      "_view_module_version": "1.2.0",
      "_view_name": "LayoutView",
      "align_content": null,
      "align_items": null,
      "align_self": null,
      "border": null,
      "bottom": null,
      "display": null,
      "flex": null,
      "flex_flow": null,
      "grid_area": null,
      "grid_auto_columns": null,
      "grid_auto_flow": null,
      "grid_auto_rows": null,
      "grid_column": null,
      "grid_gap": null,
      "grid_row": null,
      "grid_template_areas": null,
      "grid_template_columns": null,
      "grid_template_rows": null,
      "height": null,
      "justify_content": null,
      "justify_items": null,
      "left": null,
      "margin": null,
      "max_height": null,
      "max_width": null,
      "min_height": null,
      "min_width": null,
      "object_fit": null,
      "object_position": null,
      "order": null,
      "overflow": null,
      "overflow_x": null,
      "overflow_y": null,
      "padding": null,
      "right": null,
      "top": null,
      "visibility": null,
      "width": null
     }
    },
    "3448dd61bf554afb850305867b85a50b": {
     "model_module": "@jupyter-widgets/base",
     "model_module_version": "1.2.0",
     "model_name": "LayoutModel",
     "state": {
      "_model_module": "@jupyter-widgets/base",
      "_model_module_version": "1.2.0",
      "_model_name": "LayoutModel",
      "_view_count": null,
      "_view_module": "@jupyter-widgets/base",
      "_view_module_version": "1.2.0",
      "_view_name": "LayoutView",
      "align_content": null,
      "align_items": null,
      "align_self": null,
      "border": null,
      "bottom": null,
      "display": null,
      "flex": null,
      "flex_flow": null,
      "grid_area": null,
      "grid_auto_columns": null,
      "grid_auto_flow": null,
      "grid_auto_rows": null,
      "grid_column": null,
      "grid_gap": null,
      "grid_row": null,
      "grid_template_areas": null,
      "grid_template_columns": null,
      "grid_template_rows": null,
      "height": null,
      "justify_content": null,
      "justify_items": null,
      "left": null,
      "margin": null,
      "max_height": null,
      "max_width": null,
      "min_height": null,
      "min_width": null,
      "object_fit": null,
      "object_position": null,
      "order": null,
      "overflow": null,
      "overflow_x": null,
      "overflow_y": null,
      "padding": null,
      "right": null,
      "top": null,
      "visibility": null,
      "width": null
     }
    },
    "372bddf9785c4409ab946e6ff0b19270": {
     "model_module": "@jupyter-widgets/controls",
     "model_module_version": "1.5.0",
     "model_name": "HTMLModel",
     "state": {
      "_dom_classes": [],
      "_model_module": "@jupyter-widgets/controls",
      "_model_module_version": "1.5.0",
      "_model_name": "HTMLModel",
      "_view_count": null,
      "_view_module": "@jupyter-widgets/controls",
      "_view_module_version": "1.5.0",
      "_view_name": "HTMLView",
      "description": "",
      "description_tooltip": null,
      "layout": "IPY_MODEL_20289fd2f59f4cc48a8334edc3b2a6d6",
      "placeholder": "​",
      "style": "IPY_MODEL_96234592faad4b0aacc2173f682f6ce4",
      "value": " 5.00G/5.00G [04:02&lt;00:00, 21.4MB/s]"
     }
    },
    "39d48bd98f4d45b5a1092b4b3a1656c6": {
     "model_module": "@jupyter-widgets/base",
     "model_module_version": "1.2.0",
     "model_name": "LayoutModel",
     "state": {
      "_model_module": "@jupyter-widgets/base",
      "_model_module_version": "1.2.0",
      "_model_name": "LayoutModel",
      "_view_count": null,
      "_view_module": "@jupyter-widgets/base",
      "_view_module_version": "1.2.0",
      "_view_name": "LayoutView",
      "align_content": null,
      "align_items": null,
      "align_self": null,
      "border": null,
      "bottom": null,
      "display": null,
      "flex": null,
      "flex_flow": null,
      "grid_area": null,
      "grid_auto_columns": null,
      "grid_auto_flow": null,
      "grid_auto_rows": null,
      "grid_column": null,
      "grid_gap": null,
      "grid_row": null,
      "grid_template_areas": null,
      "grid_template_columns": null,
      "grid_template_rows": null,
      "height": null,
      "justify_content": null,
      "justify_items": null,
      "left": null,
      "margin": null,
      "max_height": null,
      "max_width": null,
      "min_height": null,
      "min_width": null,
      "object_fit": null,
      "object_position": null,
      "order": null,
      "overflow": null,
      "overflow_x": null,
      "overflow_y": null,
      "padding": null,
      "right": null,
      "top": null,
      "visibility": null,
      "width": null
     }
    },
    "3a3b30e691664f25b1e4bd5f45530c96": {
     "model_module": "@jupyter-widgets/base",
     "model_module_version": "1.2.0",
     "model_name": "LayoutModel",
     "state": {
      "_model_module": "@jupyter-widgets/base",
      "_model_module_version": "1.2.0",
      "_model_name": "LayoutModel",
      "_view_count": null,
      "_view_module": "@jupyter-widgets/base",
      "_view_module_version": "1.2.0",
      "_view_name": "LayoutView",
      "align_content": null,
      "align_items": null,
      "align_self": null,
      "border": null,
      "bottom": null,
      "display": null,
      "flex": null,
      "flex_flow": null,
      "grid_area": null,
      "grid_auto_columns": null,
      "grid_auto_flow": null,
      "grid_auto_rows": null,
      "grid_column": null,
      "grid_gap": null,
      "grid_row": null,
      "grid_template_areas": null,
      "grid_template_columns": null,
      "grid_template_rows": null,
      "height": null,
      "justify_content": null,
      "justify_items": null,
      "left": null,
      "margin": null,
      "max_height": null,
      "max_width": null,
      "min_height": null,
      "min_width": null,
      "object_fit": null,
      "object_position": null,
      "order": null,
      "overflow": null,
      "overflow_x": null,
      "overflow_y": null,
      "padding": null,
      "right": null,
      "top": null,
      "visibility": null,
      "width": null
     }
    },
    "3b2ed52920e04cc58622868c9e090390": {
     "model_module": "@jupyter-widgets/controls",
     "model_module_version": "1.5.0",
     "model_name": "FloatProgressModel",
     "state": {
      "_dom_classes": [],
      "_model_module": "@jupyter-widgets/controls",
      "_model_module_version": "1.5.0",
      "_model_name": "FloatProgressModel",
      "_view_count": null,
      "_view_module": "@jupyter-widgets/controls",
      "_view_module_version": "1.5.0",
      "_view_name": "ProgressView",
      "bar_style": "success",
      "description": "",
      "description_tooltip": null,
      "layout": "IPY_MODEL_5056af7877ee412fa934e20b8f7e96a1",
      "max": 4540516344,
      "min": 0,
      "orientation": "horizontal",
      "style": "IPY_MODEL_1faaa4b0a8934ae9ac1467bf645c2969",
      "value": 4540516344
     }
    },
    "3b51daea0b5a4ff591f4c5dc67a31b30": {
     "model_module": "@jupyter-widgets/base",
     "model_module_version": "1.2.0",
     "model_name": "LayoutModel",
     "state": {
      "_model_module": "@jupyter-widgets/base",
      "_model_module_version": "1.2.0",
      "_model_name": "LayoutModel",
      "_view_count": null,
      "_view_module": "@jupyter-widgets/base",
      "_view_module_version": "1.2.0",
      "_view_name": "LayoutView",
      "align_content": null,
      "align_items": null,
      "align_self": null,
      "border": null,
      "bottom": null,
      "display": null,
      "flex": null,
      "flex_flow": null,
      "grid_area": null,
      "grid_auto_columns": null,
      "grid_auto_flow": null,
      "grid_auto_rows": null,
      "grid_column": null,
      "grid_gap": null,
      "grid_row": null,
      "grid_template_areas": null,
      "grid_template_columns": null,
      "grid_template_rows": null,
      "height": null,
      "justify_content": null,
      "justify_items": null,
      "left": null,
      "margin": null,
      "max_height": null,
      "max_width": null,
      "min_height": null,
      "min_width": null,
      "object_fit": null,
      "object_position": null,
      "order": null,
      "overflow": null,
      "overflow_x": null,
      "overflow_y": null,
      "padding": null,
      "right": null,
      "top": null,
      "visibility": null,
      "width": null
     }
    },
    "3dbca9443ef44eafb3cf57789b7479f4": {
     "model_module": "@jupyter-widgets/base",
     "model_module_version": "1.2.0",
     "model_name": "LayoutModel",
     "state": {
      "_model_module": "@jupyter-widgets/base",
      "_model_module_version": "1.2.0",
      "_model_name": "LayoutModel",
      "_view_count": null,
      "_view_module": "@jupyter-widgets/base",
      "_view_module_version": "1.2.0",
      "_view_name": "LayoutView",
      "align_content": null,
      "align_items": null,
      "align_self": null,
      "border": null,
      "bottom": null,
      "display": null,
      "flex": null,
      "flex_flow": null,
      "grid_area": null,
      "grid_auto_columns": null,
      "grid_auto_flow": null,
      "grid_auto_rows": null,
      "grid_column": null,
      "grid_gap": null,
      "grid_row": null,
      "grid_template_areas": null,
      "grid_template_columns": null,
      "grid_template_rows": null,
      "height": null,
      "justify_content": null,
      "justify_items": null,
      "left": null,
      "margin": null,
      "max_height": null,
      "max_width": null,
      "min_height": null,
      "min_width": null,
      "object_fit": null,
      "object_position": null,
      "order": null,
      "overflow": null,
      "overflow_x": null,
      "overflow_y": null,
      "padding": null,
      "right": null,
      "top": null,
      "visibility": null,
      "width": null
     }
    },
    "3e2d4356bdbc49948139a2bd9cc73756": {
     "model_module": "@jupyter-widgets/controls",
     "model_module_version": "1.5.0",
     "model_name": "HTMLModel",
     "state": {
      "_dom_classes": [],
      "_model_module": "@jupyter-widgets/controls",
      "_model_module_version": "1.5.0",
      "_model_name": "HTMLModel",
      "_view_count": null,
      "_view_module": "@jupyter-widgets/controls",
      "_view_module_version": "1.5.0",
      "_view_name": "HTMLView",
      "description": "",
      "description_tooltip": null,
      "layout": "IPY_MODEL_857d5beab6cf4aebaaff37b465a62b97",
      "placeholder": "​",
      "style": "IPY_MODEL_d32aa9ac023643468cb0db1851c5298c",
      "value": "model-00003-of-00003.safetensors: 100%"
     }
    },
    "40006adccdac495ba9ef528a068df5b8": {
     "model_module": "@jupyter-widgets/controls",
     "model_module_version": "1.5.0",
     "model_name": "HTMLModel",
     "state": {
      "_dom_classes": [],
      "_model_module": "@jupyter-widgets/controls",
      "_model_module_version": "1.5.0",
      "_model_name": "HTMLModel",
      "_view_count": null,
      "_view_module": "@jupyter-widgets/controls",
      "_view_module_version": "1.5.0",
      "_view_name": "HTMLView",
      "description": "",
      "description_tooltip": null,
      "layout": "IPY_MODEL_dd028ef4f2b94495a38c97acdf64ebe6",
      "placeholder": "​",
      "style": "IPY_MODEL_5dc2e8336495406b8cf01a2e15959a4e",
      "value": " 640/640 [00:00&lt;00:00, 58.0kB/s]"
     }
    },
    "40f1fc8880dc44039eb1a4443f3c83bf": {
     "model_module": "@jupyter-widgets/controls",
     "model_module_version": "1.5.0",
     "model_name": "DescriptionStyleModel",
     "state": {
      "_model_module": "@jupyter-widgets/controls",
      "_model_module_version": "1.5.0",
      "_model_name": "DescriptionStyleModel",
      "_view_count": null,
      "_view_module": "@jupyter-widgets/base",
      "_view_module_version": "1.2.0",
      "_view_name": "StyleView",
      "description_width": ""
     }
    },
    "42c941bc25b64bc7bdea893034c4713d": {
     "model_module": "@jupyter-widgets/base",
     "model_module_version": "1.2.0",
     "model_name": "LayoutModel",
     "state": {
      "_model_module": "@jupyter-widgets/base",
      "_model_module_version": "1.2.0",
      "_model_name": "LayoutModel",
      "_view_count": null,
      "_view_module": "@jupyter-widgets/base",
      "_view_module_version": "1.2.0",
      "_view_name": "LayoutView",
      "align_content": null,
      "align_items": null,
      "align_self": null,
      "border": null,
      "bottom": null,
      "display": null,
      "flex": null,
      "flex_flow": null,
      "grid_area": null,
      "grid_auto_columns": null,
      "grid_auto_flow": null,
      "grid_auto_rows": null,
      "grid_column": null,
      "grid_gap": null,
      "grid_row": null,
      "grid_template_areas": null,
      "grid_template_columns": null,
      "grid_template_rows": null,
      "height": null,
      "justify_content": null,
      "justify_items": null,
      "left": null,
      "margin": null,
      "max_height": null,
      "max_width": null,
      "min_height": null,
      "min_width": null,
      "object_fit": null,
      "object_position": null,
      "order": null,
      "overflow": null,
      "overflow_x": null,
      "overflow_y": null,
      "padding": null,
      "right": null,
      "top": null,
      "visibility": null,
      "width": null
     }
    },
    "434a2a07f3304c06a198dff182d7046a": {
     "model_module": "@jupyter-widgets/controls",
     "model_module_version": "1.5.0",
     "model_name": "HTMLModel",
     "state": {
      "_dom_classes": [],
      "_model_module": "@jupyter-widgets/controls",
      "_model_module_version": "1.5.0",
      "_model_name": "HTMLModel",
      "_view_count": null,
      "_view_module": "@jupyter-widgets/controls",
      "_view_module_version": "1.5.0",
      "_view_name": "HTMLView",
      "description": "",
      "description_tooltip": null,
      "layout": "IPY_MODEL_ecce321a6cc747228d902f71e0b4e177",
      "placeholder": "​",
      "style": "IPY_MODEL_92d7e59d617649e6a7369eb70f52307c",
      "value": " 4.54G/4.54G [03:38&lt;00:00, 27.3MB/s]"
     }
    },
    "47f81592cb0c47109c25ee41af59f9b1": {
     "model_module": "@jupyter-widgets/controls",
     "model_module_version": "1.5.0",
     "model_name": "DescriptionStyleModel",
     "state": {
      "_model_module": "@jupyter-widgets/controls",
      "_model_module_version": "1.5.0",
      "_model_name": "DescriptionStyleModel",
      "_view_count": null,
      "_view_module": "@jupyter-widgets/base",
      "_view_module_version": "1.2.0",
      "_view_name": "StyleView",
      "description_width": ""
     }
    },
    "48f543566f27464782ff75c16b4f28ee": {
     "model_module": "@jupyter-widgets/base",
     "model_module_version": "1.2.0",
     "model_name": "LayoutModel",
     "state": {
      "_model_module": "@jupyter-widgets/base",
      "_model_module_version": "1.2.0",
      "_model_name": "LayoutModel",
      "_view_count": null,
      "_view_module": "@jupyter-widgets/base",
      "_view_module_version": "1.2.0",
      "_view_name": "LayoutView",
      "align_content": null,
      "align_items": null,
      "align_self": null,
      "border": null,
      "bottom": null,
      "display": null,
      "flex": null,
      "flex_flow": null,
      "grid_area": null,
      "grid_auto_columns": null,
      "grid_auto_flow": null,
      "grid_auto_rows": null,
      "grid_column": null,
      "grid_gap": null,
      "grid_row": null,
      "grid_template_areas": null,
      "grid_template_columns": null,
      "grid_template_rows": null,
      "height": null,
      "justify_content": null,
      "justify_items": null,
      "left": null,
      "margin": null,
      "max_height": null,
      "max_width": null,
      "min_height": null,
      "min_width": null,
      "object_fit": null,
      "object_position": null,
      "order": null,
      "overflow": null,
      "overflow_x": null,
      "overflow_y": null,
      "padding": null,
      "right": null,
      "top": null,
      "visibility": null,
      "width": null
     }
    },
    "4acdc178199f465f851944c4cf3c3496": {
     "model_module": "@jupyter-widgets/base",
     "model_module_version": "1.2.0",
     "model_name": "LayoutModel",
     "state": {
      "_model_module": "@jupyter-widgets/base",
      "_model_module_version": "1.2.0",
      "_model_name": "LayoutModel",
      "_view_count": null,
      "_view_module": "@jupyter-widgets/base",
      "_view_module_version": "1.2.0",
      "_view_name": "LayoutView",
      "align_content": null,
      "align_items": null,
      "align_self": null,
      "border": null,
      "bottom": null,
      "display": null,
      "flex": null,
      "flex_flow": null,
      "grid_area": null,
      "grid_auto_columns": null,
      "grid_auto_flow": null,
      "grid_auto_rows": null,
      "grid_column": null,
      "grid_gap": null,
      "grid_row": null,
      "grid_template_areas": null,
      "grid_template_columns": null,
      "grid_template_rows": null,
      "height": null,
      "justify_content": null,
      "justify_items": null,
      "left": null,
      "margin": null,
      "max_height": null,
      "max_width": null,
      "min_height": null,
      "min_width": null,
      "object_fit": null,
      "object_position": null,
      "order": null,
      "overflow": null,
      "overflow_x": null,
      "overflow_y": null,
      "padding": null,
      "right": null,
      "top": null,
      "visibility": null,
      "width": null
     }
    },
    "4c59358b83074af58537a6ce962ded82": {
     "model_module": "@jupyter-widgets/controls",
     "model_module_version": "1.5.0",
     "model_name": "HTMLModel",
     "state": {
      "_dom_classes": [],
      "_model_module": "@jupyter-widgets/controls",
      "_model_module_version": "1.5.0",
      "_model_name": "HTMLModel",
      "_view_count": null,
      "_view_module": "@jupyter-widgets/controls",
      "_view_module_version": "1.5.0",
      "_view_name": "HTMLView",
      "description": "",
      "description_tooltip": null,
      "layout": "IPY_MODEL_e16999df7c3f480fa71e96532218e7c3",
      "placeholder": "​",
      "style": "IPY_MODEL_0984446b0f424ca08238e26f7da10857",
      "value": " 3/3 [00:06&lt;00:00,  2.14s/it]"
     }
    },
    "5056af7877ee412fa934e20b8f7e96a1": {
     "model_module": "@jupyter-widgets/base",
     "model_module_version": "1.2.0",
     "model_name": "LayoutModel",
     "state": {
      "_model_module": "@jupyter-widgets/base",
      "_model_module_version": "1.2.0",
      "_model_name": "LayoutModel",
      "_view_count": null,
      "_view_module": "@jupyter-widgets/base",
      "_view_module_version": "1.2.0",
      "_view_name": "LayoutView",
      "align_content": null,
      "align_items": null,
      "align_self": null,
      "border": null,
      "bottom": null,
      "display": null,
      "flex": null,
      "flex_flow": null,
      "grid_area": null,
      "grid_auto_columns": null,
      "grid_auto_flow": null,
      "grid_auto_rows": null,
      "grid_column": null,
      "grid_gap": null,
      "grid_row": null,
      "grid_template_areas": null,
      "grid_template_columns": null,
      "grid_template_rows": null,
      "height": null,
      "justify_content": null,
      "justify_items": null,
      "left": null,
      "margin": null,
      "max_height": null,
      "max_width": null,
      "min_height": null,
      "min_width": null,
      "object_fit": null,
      "object_position": null,
      "order": null,
      "overflow": null,
      "overflow_x": null,
      "overflow_y": null,
      "padding": null,
      "right": null,
      "top": null,
      "visibility": null,
      "width": null
     }
    },
    "51f1a3568cf74af79e456076a2cf5bd7": {
     "model_module": "@jupyter-widgets/controls",
     "model_module_version": "1.5.0",
     "model_name": "DescriptionStyleModel",
     "state": {
      "_model_module": "@jupyter-widgets/controls",
      "_model_module_version": "1.5.0",
      "_model_name": "DescriptionStyleModel",
      "_view_count": null,
      "_view_module": "@jupyter-widgets/base",
      "_view_module_version": "1.2.0",
      "_view_name": "StyleView",
      "description_width": ""
     }
    },
    "543f213675d742d781bb75f681eadea8": {
     "model_module": "@jupyter-widgets/controls",
     "model_module_version": "1.5.0",
     "model_name": "DescriptionStyleModel",
     "state": {
      "_model_module": "@jupyter-widgets/controls",
      "_model_module_version": "1.5.0",
      "_model_name": "DescriptionStyleModel",
      "_view_count": null,
      "_view_module": "@jupyter-widgets/base",
      "_view_module_version": "1.2.0",
      "_view_name": "StyleView",
      "description_width": ""
     }
    },
    "547fed1b552f40f1a5730d43f6358e21": {
     "model_module": "@jupyter-widgets/controls",
     "model_module_version": "1.5.0",
     "model_name": "FloatProgressModel",
     "state": {
      "_dom_classes": [],
      "_model_module": "@jupyter-widgets/controls",
      "_model_module_version": "1.5.0",
      "_model_name": "FloatProgressModel",
      "_view_count": null,
      "_view_module": "@jupyter-widgets/controls",
      "_view_module_version": "1.5.0",
      "_view_name": "ProgressView",
      "bar_style": "success",
      "description": "",
      "description_tooltip": null,
      "layout": "IPY_MODEL_c3edcf3035d1485cbc3c442cfe6bb027",
      "max": 493443,
      "min": 0,
      "orientation": "horizontal",
      "style": "IPY_MODEL_160e9e562a7249baa93de46d76ca493c",
      "value": 493443
     }
    },
    "5536622559b344239cc293b3d3d528b0": {
     "model_module": "@jupyter-widgets/controls",
     "model_module_version": "1.5.0",
     "model_name": "DescriptionStyleModel",
     "state": {
      "_model_module": "@jupyter-widgets/controls",
      "_model_module_version": "1.5.0",
      "_model_name": "DescriptionStyleModel",
      "_view_count": null,
      "_view_module": "@jupyter-widgets/base",
      "_view_module_version": "1.2.0",
      "_view_name": "StyleView",
      "description_width": ""
     }
    },
    "57900b0b1c774c73a1544902b4dbceae": {
     "model_module": "@jupyter-widgets/controls",
     "model_module_version": "1.5.0",
     "model_name": "HTMLModel",
     "state": {
      "_dom_classes": [],
      "_model_module": "@jupyter-widgets/controls",
      "_model_module_version": "1.5.0",
      "_model_name": "HTMLModel",
      "_view_count": null,
      "_view_module": "@jupyter-widgets/controls",
      "_view_module_version": "1.5.0",
      "_view_name": "HTMLView",
      "description": "",
      "description_tooltip": null,
      "layout": "IPY_MODEL_31f392e924b744fa8561f285114e7da0",
      "placeholder": "​",
      "style": "IPY_MODEL_fb6762a63a274a4d8105ca05ec8ae4aa",
      "value": " 2/2 [00:53&lt;00:00, 25.62s/it]"
     }
    },
    "5aea6bbc9252444488fc0e330723bc05": {
     "model_module": "@jupyter-widgets/controls",
     "model_module_version": "1.5.0",
     "model_name": "FloatProgressModel",
     "state": {
      "_dom_classes": [],
      "_model_module": "@jupyter-widgets/controls",
      "_model_module_version": "1.5.0",
      "_model_name": "FloatProgressModel",
      "_view_count": null,
      "_view_module": "@jupyter-widgets/controls",
      "_view_module_version": "1.5.0",
      "_view_name": "ProgressView",
      "bar_style": "success",
      "description": "",
      "description_tooltip": null,
      "layout": "IPY_MODEL_2cbedb839d9c430abab16220a7fdcba8",
      "max": 12859,
      "min": 0,
      "orientation": "horizontal",
      "style": "IPY_MODEL_98cd18a2f4cd4ae99b2e118e4e39bd32",
      "value": 12859
     }
    },
    "5d9c626a932f47359522918c7855d54a": {
     "model_module": "@jupyter-widgets/controls",
     "model_module_version": "1.5.0",
     "model_name": "FloatProgressModel",
     "state": {
      "_dom_classes": [],
      "_model_module": "@jupyter-widgets/controls",
      "_model_module_version": "1.5.0",
      "_model_name": "FloatProgressModel",
      "_view_count": null,
      "_view_module": "@jupyter-widgets/controls",
      "_view_module_version": "1.5.0",
      "_view_name": "ProgressView",
      "bar_style": "success",
      "description": "",
      "description_tooltip": null,
      "layout": "IPY_MODEL_611f1bef3ab542be99e10559a59ccfe8",
      "max": 9942981696,
      "min": 0,
      "orientation": "horizontal",
      "style": "IPY_MODEL_de1708b187084e34b77e9ba3dc35d7c8",
      "value": 9942981696
     }
    },
    "5dc2e8336495406b8cf01a2e15959a4e": {
     "model_module": "@jupyter-widgets/controls",
     "model_module_version": "1.5.0",
     "model_name": "DescriptionStyleModel",
     "state": {
      "_model_module": "@jupyter-widgets/controls",
      "_model_module_version": "1.5.0",
      "_model_name": "DescriptionStyleModel",
      "_view_count": null,
      "_view_module": "@jupyter-widgets/base",
      "_view_module_version": "1.2.0",
      "_view_name": "StyleView",
      "description_width": ""
     }
    },
    "611f1bef3ab542be99e10559a59ccfe8": {
     "model_module": "@jupyter-widgets/base",
     "model_module_version": "1.2.0",
     "model_name": "LayoutModel",
     "state": {
      "_model_module": "@jupyter-widgets/base",
      "_model_module_version": "1.2.0",
      "_model_name": "LayoutModel",
      "_view_count": null,
      "_view_module": "@jupyter-widgets/base",
      "_view_module_version": "1.2.0",
      "_view_name": "LayoutView",
      "align_content": null,
      "align_items": null,
      "align_self": null,
      "border": null,
      "bottom": null,
      "display": null,
      "flex": null,
      "flex_flow": null,
      "grid_area": null,
      "grid_auto_columns": null,
      "grid_auto_flow": null,
      "grid_auto_rows": null,
      "grid_column": null,
      "grid_gap": null,
      "grid_row": null,
      "grid_template_areas": null,
      "grid_template_columns": null,
      "grid_template_rows": null,
      "height": null,
      "justify_content": null,
      "justify_items": null,
      "left": null,
      "margin": null,
      "max_height": null,
      "max_width": null,
      "min_height": null,
      "min_width": null,
      "object_fit": null,
      "object_position": null,
      "order": null,
      "overflow": null,
      "overflow_x": null,
      "overflow_y": null,
      "padding": null,
      "right": null,
      "top": null,
      "visibility": null,
      "width": null
     }
    },
    "670b53a1460542dbbce5cee662a1d966": {
     "model_module": "@jupyter-widgets/controls",
     "model_module_version": "1.5.0",
     "model_name": "HTMLModel",
     "state": {
      "_dom_classes": [],
      "_model_module": "@jupyter-widgets/controls",
      "_model_module_version": "1.5.0",
      "_model_name": "HTMLModel",
      "_view_count": null,
      "_view_module": "@jupyter-widgets/controls",
      "_view_module_version": "1.5.0",
      "_view_name": "HTMLView",
      "description": "",
      "description_tooltip": null,
      "layout": "IPY_MODEL_23b530519ac342529c0397edfdb98400",
      "placeholder": "​",
      "style": "IPY_MODEL_2d3e9beb90a74374b30f337521dbf13a",
      "value": " 493k/493k [00:01&lt;00:00, 371kB/s]"
     }
    },
    "677a5028427a43d4ab544760faa9d0ca": {
     "model_module": "@jupyter-widgets/base",
     "model_module_version": "1.2.0",
     "model_name": "LayoutModel",
     "state": {
      "_model_module": "@jupyter-widgets/base",
      "_model_module_version": "1.2.0",
      "_model_name": "LayoutModel",
      "_view_count": null,
      "_view_module": "@jupyter-widgets/base",
      "_view_module_version": "1.2.0",
      "_view_name": "LayoutView",
      "align_content": null,
      "align_items": null,
      "align_self": null,
      "border": null,
      "bottom": null,
      "display": null,
      "flex": null,
      "flex_flow": null,
      "grid_area": null,
      "grid_auto_columns": null,
      "grid_auto_flow": null,
      "grid_auto_rows": null,
      "grid_column": null,
      "grid_gap": null,
      "grid_row": null,
      "grid_template_areas": null,
      "grid_template_columns": null,
      "grid_template_rows": null,
      "height": null,
      "justify_content": null,
      "justify_items": null,
      "left": null,
      "margin": null,
      "max_height": null,
      "max_width": null,
      "min_height": null,
      "min_width": null,
      "object_fit": null,
      "object_position": null,
      "order": null,
      "overflow": null,
      "overflow_x": null,
      "overflow_y": null,
      "padding": null,
      "right": null,
      "top": null,
      "visibility": null,
      "width": null
     }
    },
    "68f5797a151a4f3f8916b49a7c104229": {
     "model_module": "@jupyter-widgets/controls",
     "model_module_version": "1.5.0",
     "model_name": "DescriptionStyleModel",
     "state": {
      "_model_module": "@jupyter-widgets/controls",
      "_model_module_version": "1.5.0",
      "_model_name": "DescriptionStyleModel",
      "_view_count": null,
      "_view_module": "@jupyter-widgets/base",
      "_view_module_version": "1.2.0",
      "_view_name": "StyleView",
      "description_width": ""
     }
    },
    "6b1527c7f1744f7ea5fc668902c9b6c7": {
     "model_module": "@jupyter-widgets/base",
     "model_module_version": "1.2.0",
     "model_name": "LayoutModel",
     "state": {
      "_model_module": "@jupyter-widgets/base",
      "_model_module_version": "1.2.0",
      "_model_name": "LayoutModel",
      "_view_count": null,
      "_view_module": "@jupyter-widgets/base",
      "_view_module_version": "1.2.0",
      "_view_name": "LayoutView",
      "align_content": null,
      "align_items": null,
      "align_self": null,
      "border": null,
      "bottom": null,
      "display": null,
      "flex": null,
      "flex_flow": null,
      "grid_area": null,
      "grid_auto_columns": null,
      "grid_auto_flow": null,
      "grid_auto_rows": null,
      "grid_column": null,
      "grid_gap": null,
      "grid_row": null,
      "grid_template_areas": null,
      "grid_template_columns": null,
      "grid_template_rows": null,
      "height": null,
      "justify_content": null,
      "justify_items": null,
      "left": null,
      "margin": null,
      "max_height": null,
      "max_width": null,
      "min_height": null,
      "min_width": null,
      "object_fit": null,
      "object_position": null,
      "order": null,
      "overflow": null,
      "overflow_x": null,
      "overflow_y": null,
      "padding": null,
      "right": null,
      "top": null,
      "visibility": null,
      "width": null
     }
    },
    "6c6713223e6c43c49f24a30fdf938fc4": {
     "model_module": "@jupyter-widgets/controls",
     "model_module_version": "1.5.0",
     "model_name": "HTMLModel",
     "state": {
      "_dom_classes": [],
      "_model_module": "@jupyter-widgets/controls",
      "_model_module_version": "1.5.0",
      "_model_name": "HTMLModel",
      "_view_count": null,
      "_view_module": "@jupyter-widgets/controls",
      "_view_module_version": "1.5.0",
      "_view_name": "HTMLView",
      "description": "",
      "description_tooltip": null,
      "layout": "IPY_MODEL_48f543566f27464782ff75c16b4f28ee",
      "placeholder": "​",
      "style": "IPY_MODEL_cd20c5638dab4cd592398306a737160b",
      "value": "Loading checkpoint shards: 100%"
     }
    },
    "6db2ac361b4e4327a0ae0bf5e5fc114e": {
     "model_module": "@jupyter-widgets/base",
     "model_module_version": "1.2.0",
     "model_name": "LayoutModel",
     "state": {
      "_model_module": "@jupyter-widgets/base",
      "_model_module_version": "1.2.0",
      "_model_name": "LayoutModel",
      "_view_count": null,
      "_view_module": "@jupyter-widgets/base",
      "_view_module_version": "1.2.0",
      "_view_name": "LayoutView",
      "align_content": null,
      "align_items": null,
      "align_self": null,
      "border": null,
      "bottom": null,
      "display": null,
      "flex": null,
      "flex_flow": null,
      "grid_area": null,
      "grid_auto_columns": null,
      "grid_auto_flow": null,
      "grid_auto_rows": null,
      "grid_column": null,
      "grid_gap": null,
      "grid_row": null,
      "grid_template_areas": null,
      "grid_template_columns": null,
      "grid_template_rows": null,
      "height": null,
      "justify_content": null,
      "justify_items": null,
      "left": null,
      "margin": null,
      "max_height": null,
      "max_width": null,
      "min_height": null,
      "min_width": null,
      "object_fit": null,
      "object_position": null,
      "order": null,
      "overflow": null,
      "overflow_x": null,
      "overflow_y": null,
      "padding": null,
      "right": null,
      "top": null,
      "visibility": null,
      "width": null
     }
    },
    "6e10d8624f9c4558b7952c595e9a42f0": {
     "model_module": "@jupyter-widgets/controls",
     "model_module_version": "1.5.0",
     "model_name": "HBoxModel",
     "state": {
      "_dom_classes": [],
      "_model_module": "@jupyter-widgets/controls",
      "_model_module_version": "1.5.0",
      "_model_name": "HBoxModel",
      "_view_count": null,
      "_view_module": "@jupyter-widgets/controls",
      "_view_module_version": "1.5.0",
      "_view_name": "HBoxView",
      "box_style": "",
      "children": [
       "IPY_MODEL_7b8e99581c4548239080a879b08bf9fe",
       "IPY_MODEL_7819118806e146e6b909a29c4753fb8e",
       "IPY_MODEL_40006adccdac495ba9ef528a068df5b8"
      ],
      "layout": "IPY_MODEL_2fba384808dd41babbfd28d0f8928e5a"
     }
    },
    "6ee624ae06b6499c9b442cc229ec1132": {
     "model_module": "@jupyter-widgets/base",
     "model_module_version": "1.2.0",
     "model_name": "LayoutModel",
     "state": {
      "_model_module": "@jupyter-widgets/base",
      "_model_module_version": "1.2.0",
      "_model_name": "LayoutModel",
      "_view_count": null,
      "_view_module": "@jupyter-widgets/base",
      "_view_module_version": "1.2.0",
      "_view_name": "LayoutView",
      "align_content": null,
      "align_items": null,
      "align_self": null,
      "border": null,
      "bottom": null,
      "display": null,
      "flex": null,
      "flex_flow": null,
      "grid_area": null,
      "grid_auto_columns": null,
      "grid_auto_flow": null,
      "grid_auto_rows": null,
      "grid_column": null,
      "grid_gap": null,
      "grid_row": null,
      "grid_template_areas": null,
      "grid_template_columns": null,
      "grid_template_rows": null,
      "height": null,
      "justify_content": null,
      "justify_items": null,
      "left": null,
      "margin": null,
      "max_height": null,
      "max_width": null,
      "min_height": null,
      "min_width": null,
      "object_fit": null,
      "object_position": null,
      "order": null,
      "overflow": null,
      "overflow_x": null,
      "overflow_y": null,
      "padding": null,
      "right": null,
      "top": null,
      "visibility": null,
      "width": null
     }
    },
    "6ef39823e113429fa24910feb61f3add": {
     "model_module": "@jupyter-widgets/base",
     "model_module_version": "1.2.0",
     "model_name": "LayoutModel",
     "state": {
      "_model_module": "@jupyter-widgets/base",
      "_model_module_version": "1.2.0",
      "_model_name": "LayoutModel",
      "_view_count": null,
      "_view_module": "@jupyter-widgets/base",
      "_view_module_version": "1.2.0",
      "_view_name": "LayoutView",
      "align_content": null,
      "align_items": null,
      "align_self": null,
      "border": null,
      "bottom": null,
      "display": null,
      "flex": null,
      "flex_flow": null,
      "grid_area": null,
      "grid_auto_columns": null,
      "grid_auto_flow": null,
      "grid_auto_rows": null,
      "grid_column": null,
      "grid_gap": null,
      "grid_row": null,
      "grid_template_areas": null,
      "grid_template_columns": null,
      "grid_template_rows": null,
      "height": null,
      "justify_content": null,
      "justify_items": null,
      "left": null,
      "margin": null,
      "max_height": null,
      "max_width": null,
      "min_height": null,
      "min_width": null,
      "object_fit": null,
      "object_position": null,
      "order": null,
      "overflow": null,
      "overflow_x": null,
      "overflow_y": null,
      "padding": null,
      "right": null,
      "top": null,
      "visibility": null,
      "width": null
     }
    },
    "72c3779da3c94fe0b928e312ab9eabb3": {
     "model_module": "@jupyter-widgets/controls",
     "model_module_version": "1.5.0",
     "model_name": "FloatProgressModel",
     "state": {
      "_dom_classes": [],
      "_model_module": "@jupyter-widgets/controls",
      "_model_module_version": "1.5.0",
      "_model_name": "FloatProgressModel",
      "_view_count": null,
      "_view_module": "@jupyter-widgets/controls",
      "_view_module_version": "1.5.0",
      "_view_name": "ProgressView",
      "bar_style": "success",
      "description": "",
      "description_tooltip": null,
      "layout": "IPY_MODEL_af39e08ef2bf47dfb804f409bed89f44",
      "max": 2,
      "min": 0,
      "orientation": "horizontal",
      "style": "IPY_MODEL_74d3826d99924debb2ca52f00bd4f928",
      "value": 2
     }
    },
    "73e949c8567e495b9fe52456fd3af562": {
     "model_module": "@jupyter-widgets/controls",
     "model_module_version": "1.5.0",
     "model_name": "ProgressStyleModel",
     "state": {
      "_model_module": "@jupyter-widgets/controls",
      "_model_module_version": "1.5.0",
      "_model_name": "ProgressStyleModel",
      "_view_count": null,
      "_view_module": "@jupyter-widgets/base",
      "_view_module_version": "1.2.0",
      "_view_name": "StyleView",
      "bar_color": null,
      "description_width": ""
     }
    },
    "74d3826d99924debb2ca52f00bd4f928": {
     "model_module": "@jupyter-widgets/controls",
     "model_module_version": "1.5.0",
     "model_name": "ProgressStyleModel",
     "state": {
      "_model_module": "@jupyter-widgets/controls",
      "_model_module_version": "1.5.0",
      "_model_name": "ProgressStyleModel",
      "_view_count": null,
      "_view_module": "@jupyter-widgets/base",
      "_view_module_version": "1.2.0",
      "_view_name": "StyleView",
      "bar_color": null,
      "description_width": ""
     }
    },
    "752ab188972f43e8abd7b4cfbd371270": {
     "model_module": "@jupyter-widgets/base",
     "model_module_version": "1.2.0",
     "model_name": "LayoutModel",
     "state": {
      "_model_module": "@jupyter-widgets/base",
      "_model_module_version": "1.2.0",
      "_model_name": "LayoutModel",
      "_view_count": null,
      "_view_module": "@jupyter-widgets/base",
      "_view_module_version": "1.2.0",
      "_view_name": "LayoutView",
      "align_content": null,
      "align_items": null,
      "align_self": null,
      "border": null,
      "bottom": null,
      "display": null,
      "flex": null,
      "flex_flow": null,
      "grid_area": null,
      "grid_auto_columns": null,
      "grid_auto_flow": null,
      "grid_auto_rows": null,
      "grid_column": null,
      "grid_gap": null,
      "grid_row": null,
      "grid_template_areas": null,
      "grid_template_columns": null,
      "grid_template_rows": null,
      "height": null,
      "justify_content": null,
      "justify_items": null,
      "left": null,
      "margin": null,
      "max_height": null,
      "max_width": null,
      "min_height": null,
      "min_width": null,
      "object_fit": null,
      "object_position": null,
      "order": null,
      "overflow": null,
      "overflow_x": null,
      "overflow_y": null,
      "padding": null,
      "right": null,
      "top": null,
      "visibility": null,
      "width": null
     }
    },
    "75c6fbaa862e413eb376fa2a40465ba8": {
     "model_module": "@jupyter-widgets/base",
     "model_module_version": "1.2.0",
     "model_name": "LayoutModel",
     "state": {
      "_model_module": "@jupyter-widgets/base",
      "_model_module_version": "1.2.0",
      "_model_name": "LayoutModel",
      "_view_count": null,
      "_view_module": "@jupyter-widgets/base",
      "_view_module_version": "1.2.0",
      "_view_name": "LayoutView",
      "align_content": null,
      "align_items": null,
      "align_self": null,
      "border": null,
      "bottom": null,
      "display": null,
      "flex": null,
      "flex_flow": null,
      "grid_area": null,
      "grid_auto_columns": null,
      "grid_auto_flow": null,
      "grid_auto_rows": null,
      "grid_column": null,
      "grid_gap": null,
      "grid_row": null,
      "grid_template_areas": null,
      "grid_template_columns": null,
      "grid_template_rows": null,
      "height": null,
      "justify_content": null,
      "justify_items": null,
      "left": null,
      "margin": null,
      "max_height": null,
      "max_width": null,
      "min_height": null,
      "min_width": null,
      "object_fit": null,
      "object_position": null,
      "order": null,
      "overflow": null,
      "overflow_x": null,
      "overflow_y": null,
      "padding": null,
      "right": null,
      "top": null,
      "visibility": null,
      "width": null
     }
    },
    "75d0f571f7514e97b38bc799a99d870f": {
     "model_module": "@jupyter-widgets/base",
     "model_module_version": "1.2.0",
     "model_name": "LayoutModel",
     "state": {
      "_model_module": "@jupyter-widgets/base",
      "_model_module_version": "1.2.0",
      "_model_name": "LayoutModel",
      "_view_count": null,
      "_view_module": "@jupyter-widgets/base",
      "_view_module_version": "1.2.0",
      "_view_name": "LayoutView",
      "align_content": null,
      "align_items": null,
      "align_self": null,
      "border": null,
      "bottom": null,
      "display": null,
      "flex": null,
      "flex_flow": null,
      "grid_area": null,
      "grid_auto_columns": null,
      "grid_auto_flow": null,
      "grid_auto_rows": null,
      "grid_column": null,
      "grid_gap": null,
      "grid_row": null,
      "grid_template_areas": null,
      "grid_template_columns": null,
      "grid_template_rows": null,
      "height": null,
      "justify_content": null,
      "justify_items": null,
      "left": null,
      "margin": null,
      "max_height": null,
      "max_width": null,
      "min_height": null,
      "min_width": null,
      "object_fit": null,
      "object_position": null,
      "order": null,
      "overflow": null,
      "overflow_x": null,
      "overflow_y": null,
      "padding": null,
      "right": null,
      "top": null,
      "visibility": null,
      "width": null
     }
    },
    "778a696094794fe69ce215c2e9a45760": {
     "model_module": "@jupyter-widgets/controls",
     "model_module_version": "1.5.0",
     "model_name": "HTMLModel",
     "state": {
      "_dom_classes": [],
      "_model_module": "@jupyter-widgets/controls",
      "_model_module_version": "1.5.0",
      "_model_name": "HTMLModel",
      "_view_count": null,
      "_view_module": "@jupyter-widgets/controls",
      "_view_module_version": "1.5.0",
      "_view_name": "HTMLView",
      "description": "",
      "description_tooltip": null,
      "layout": "IPY_MODEL_3448dd61bf554afb850305867b85a50b",
      "placeholder": "​",
      "style": "IPY_MODEL_543f213675d742d781bb75f681eadea8",
      "value": " 4.94G/4.94G [03:57&lt;00:00, 24.0MB/s]"
     }
    },
    "7819118806e146e6b909a29c4753fb8e": {
     "model_module": "@jupyter-widgets/controls",
     "model_module_version": "1.5.0",
     "model_name": "FloatProgressModel",
     "state": {
      "_dom_classes": [],
      "_model_module": "@jupyter-widgets/controls",
      "_model_module_version": "1.5.0",
      "_model_name": "FloatProgressModel",
      "_view_count": null,
      "_view_module": "@jupyter-widgets/controls",
      "_view_module_version": "1.5.0",
      "_view_name": "ProgressView",
      "bar_style": "success",
      "description": "",
      "description_tooltip": null,
      "layout": "IPY_MODEL_14dd042c0f5343c9bb458fe583b4c630",
      "max": 640,
      "min": 0,
      "orientation": "horizontal",
      "style": "IPY_MODEL_ce76fbbdf7794d65871a71bd98a96986",
      "value": 640
     }
    },
    "784e48401be94209b8bbd45931db09ed": {
     "model_module": "@jupyter-widgets/controls",
     "model_module_version": "1.5.0",
     "model_name": "DescriptionStyleModel",
     "state": {
      "_model_module": "@jupyter-widgets/controls",
      "_model_module_version": "1.5.0",
      "_model_name": "DescriptionStyleModel",
      "_view_count": null,
      "_view_module": "@jupyter-widgets/base",
      "_view_module_version": "1.2.0",
      "_view_name": "StyleView",
      "description_width": ""
     }
    },
    "78c7d259011244219e5f767353374b44": {
     "model_module": "@jupyter-widgets/controls",
     "model_module_version": "1.5.0",
     "model_name": "DescriptionStyleModel",
     "state": {
      "_model_module": "@jupyter-widgets/controls",
      "_model_module_version": "1.5.0",
      "_model_name": "DescriptionStyleModel",
      "_view_count": null,
      "_view_module": "@jupyter-widgets/base",
      "_view_module_version": "1.2.0",
      "_view_name": "StyleView",
      "description_width": ""
     }
    },
    "7aa93013e0e04f6aab7bfd7b9fa2a26a": {
     "model_module": "@jupyter-widgets/controls",
     "model_module_version": "1.5.0",
     "model_name": "HTMLModel",
     "state": {
      "_dom_classes": [],
      "_model_module": "@jupyter-widgets/controls",
      "_model_module_version": "1.5.0",
      "_model_name": "HTMLModel",
      "_view_count": null,
      "_view_module": "@jupyter-widgets/controls",
      "_view_module_version": "1.5.0",
      "_view_name": "HTMLView",
      "description": "",
      "description_tooltip": null,
      "layout": "IPY_MODEL_6ef39823e113429fa24910feb61f3add",
      "placeholder": "​",
      "style": "IPY_MODEL_92cad220707344e99707f33d65962f38",
      "value": " 2/2 [00:08&lt;00:00,  3.99s/it]"
     }
    },
    "7b8e99581c4548239080a879b08bf9fe": {
     "model_module": "@jupyter-widgets/controls",
     "model_module_version": "1.5.0",
     "model_name": "HTMLModel",
     "state": {
      "_dom_classes": [],
      "_model_module": "@jupyter-widgets/controls",
      "_model_module_version": "1.5.0",
      "_model_name": "HTMLModel",
      "_view_count": null,
      "_view_module": "@jupyter-widgets/controls",
      "_view_module_version": "1.5.0",
      "_view_name": "HTMLView",
      "description": "",
      "description_tooltip": null,
      "layout": "IPY_MODEL_9543e66a5edd4cbbb241c1edb319fb2e",
      "placeholder": "​",
      "style": "IPY_MODEL_b5be2a8ad41445b59e67a82b1742d9a9",
      "value": "config.json: 100%"
     }
    },
    "7f27326ea66649f4aa3529f1e2dd48bf": {
     "model_module": "@jupyter-widgets/base",
     "model_module_version": "1.2.0",
     "model_name": "LayoutModel",
     "state": {
      "_model_module": "@jupyter-widgets/base",
      "_model_module_version": "1.2.0",
      "_model_name": "LayoutModel",
      "_view_count": null,
      "_view_module": "@jupyter-widgets/base",
      "_view_module_version": "1.2.0",
      "_view_name": "LayoutView",
      "align_content": null,
      "align_items": null,
      "align_self": null,
      "border": null,
      "bottom": null,
      "display": null,
      "flex": null,
      "flex_flow": null,
      "grid_area": null,
      "grid_auto_columns": null,
      "grid_auto_flow": null,
      "grid_auto_rows": null,
      "grid_column": null,
      "grid_gap": null,
      "grid_row": null,
      "grid_template_areas": null,
      "grid_template_columns": null,
      "grid_template_rows": null,
      "height": null,
      "justify_content": null,
      "justify_items": null,
      "left": null,
      "margin": null,
      "max_height": null,
      "max_width": null,
      "min_height": null,
      "min_width": null,
      "object_fit": null,
      "object_position": null,
      "order": null,
      "overflow": null,
      "overflow_x": null,
      "overflow_y": null,
      "padding": null,
      "right": null,
      "top": null,
      "visibility": null,
      "width": null
     }
    },
    "8221831a698e46a7b3bbafac6741a1b3": {
     "model_module": "@jupyter-widgets/controls",
     "model_module_version": "1.5.0",
     "model_name": "HTMLModel",
     "state": {
      "_dom_classes": [],
      "_model_module": "@jupyter-widgets/controls",
      "_model_module_version": "1.5.0",
      "_model_name": "HTMLModel",
      "_view_count": null,
      "_view_module": "@jupyter-widgets/controls",
      "_view_module_version": "1.5.0",
      "_view_name": "HTMLView",
      "description": "",
      "description_tooltip": null,
      "layout": "IPY_MODEL_a37d415006a94468b8aa074cc912ee3b",
      "placeholder": "​",
      "style": "IPY_MODEL_e02fbf343da64405a2c86c70c5da17b5",
      "value": " 2/2 [00:05&lt;00:00,  2.42s/it]"
     }
    },
    "83154fa440b24307921a007d41dee27c": {
     "model_module": "@jupyter-widgets/controls",
     "model_module_version": "1.5.0",
     "model_name": "HBoxModel",
     "state": {
      "_dom_classes": [],
      "_model_module": "@jupyter-widgets/controls",
      "_model_module_version": "1.5.0",
      "_model_name": "HBoxModel",
      "_view_count": null,
      "_view_module": "@jupyter-widgets/controls",
      "_view_module_version": "1.5.0",
      "_view_name": "HBoxView",
      "box_style": "",
      "children": [
       "IPY_MODEL_2dce4e55c88e46a09ab402e4fd9ea5a7",
       "IPY_MODEL_00c320491e8a4c968b1c43248e0a7a4f",
       "IPY_MODEL_4c59358b83074af58537a6ce962ded82"
      ],
      "layout": "IPY_MODEL_677a5028427a43d4ab544760faa9d0ca"
     }
    },
    "857d5beab6cf4aebaaff37b465a62b97": {
     "model_module": "@jupyter-widgets/base",
     "model_module_version": "1.2.0",
     "model_name": "LayoutModel",
     "state": {
      "_model_module": "@jupyter-widgets/base",
      "_model_module_version": "1.2.0",
      "_model_name": "LayoutModel",
      "_view_count": null,
      "_view_module": "@jupyter-widgets/base",
      "_view_module_version": "1.2.0",
      "_view_name": "LayoutView",
      "align_content": null,
      "align_items": null,
      "align_self": null,
      "border": null,
      "bottom": null,
      "display": null,
      "flex": null,
      "flex_flow": null,
      "grid_area": null,
      "grid_auto_columns": null,
      "grid_auto_flow": null,
      "grid_auto_rows": null,
      "grid_column": null,
      "grid_gap": null,
      "grid_row": null,
      "grid_template_areas": null,
      "grid_template_columns": null,
      "grid_template_rows": null,
      "height": null,
      "justify_content": null,
      "justify_items": null,
      "left": null,
      "margin": null,
      "max_height": null,
      "max_width": null,
      "min_height": null,
      "min_width": null,
      "object_fit": null,
      "object_position": null,
      "order": null,
      "overflow": null,
      "overflow_x": null,
      "overflow_y": null,
      "padding": null,
      "right": null,
      "top": null,
      "visibility": null,
      "width": null
     }
    },
    "8702ad3f267c4271ba684f137756d15b": {
     "model_module": "@jupyter-widgets/controls",
     "model_module_version": "1.5.0",
     "model_name": "DescriptionStyleModel",
     "state": {
      "_model_module": "@jupyter-widgets/controls",
      "_model_module_version": "1.5.0",
      "_model_name": "DescriptionStyleModel",
      "_view_count": null,
      "_view_module": "@jupyter-widgets/base",
      "_view_module_version": "1.2.0",
      "_view_name": "StyleView",
      "description_width": ""
     }
    },
    "87f6e7b31ae8490b838ae9c630665168": {
     "model_module": "@jupyter-widgets/base",
     "model_module_version": "1.2.0",
     "model_name": "LayoutModel",
     "state": {
      "_model_module": "@jupyter-widgets/base",
      "_model_module_version": "1.2.0",
      "_model_name": "LayoutModel",
      "_view_count": null,
      "_view_module": "@jupyter-widgets/base",
      "_view_module_version": "1.2.0",
      "_view_name": "LayoutView",
      "align_content": null,
      "align_items": null,
      "align_self": null,
      "border": null,
      "bottom": null,
      "display": null,
      "flex": null,
      "flex_flow": null,
      "grid_area": null,
      "grid_auto_columns": null,
      "grid_auto_flow": null,
      "grid_auto_rows": null,
      "grid_column": null,
      "grid_gap": null,
      "grid_row": null,
      "grid_template_areas": null,
      "grid_template_columns": null,
      "grid_template_rows": null,
      "height": null,
      "justify_content": null,
      "justify_items": null,
      "left": null,
      "margin": null,
      "max_height": null,
      "max_width": null,
      "min_height": null,
      "min_width": null,
      "object_fit": null,
      "object_position": null,
      "order": null,
      "overflow": null,
      "overflow_x": null,
      "overflow_y": null,
      "padding": null,
      "right": null,
      "top": null,
      "visibility": null,
      "width": null
     }
    },
    "8ba4e739ef6847f1bdd231fed9c4afa4": {
     "model_module": "@jupyter-widgets/base",
     "model_module_version": "1.2.0",
     "model_name": "LayoutModel",
     "state": {
      "_model_module": "@jupyter-widgets/base",
      "_model_module_version": "1.2.0",
      "_model_name": "LayoutModel",
      "_view_count": null,
      "_view_module": "@jupyter-widgets/base",
      "_view_module_version": "1.2.0",
      "_view_name": "LayoutView",
      "align_content": null,
      "align_items": null,
      "align_self": null,
      "border": null,
      "bottom": null,
      "display": null,
      "flex": null,
      "flex_flow": null,
      "grid_area": null,
      "grid_auto_columns": null,
      "grid_auto_flow": null,
      "grid_auto_rows": null,
      "grid_column": null,
      "grid_gap": null,
      "grid_row": null,
      "grid_template_areas": null,
      "grid_template_columns": null,
      "grid_template_rows": null,
      "height": null,
      "justify_content": null,
      "justify_items": null,
      "left": null,
      "margin": null,
      "max_height": null,
      "max_width": null,
      "min_height": null,
      "min_width": null,
      "object_fit": null,
      "object_position": null,
      "order": null,
      "overflow": null,
      "overflow_x": null,
      "overflow_y": null,
      "padding": null,
      "right": null,
      "top": null,
      "visibility": null,
      "width": null
     }
    },
    "91fbc28b8c5147ddad1d555f0d819a13": {
     "model_module": "@jupyter-widgets/controls",
     "model_module_version": "1.5.0",
     "model_name": "HBoxModel",
     "state": {
      "_dom_classes": [],
      "_model_module": "@jupyter-widgets/controls",
      "_model_module_version": "1.5.0",
      "_model_name": "HBoxModel",
      "_view_count": null,
      "_view_module": "@jupyter-widgets/controls",
      "_view_module_version": "1.5.0",
      "_view_name": "HBoxView",
      "box_style": "",
      "children": [
       "IPY_MODEL_25532004a6014bffa1066203a3fea5c2",
       "IPY_MODEL_5aea6bbc9252444488fc0e330723bc05",
       "IPY_MODEL_da9771aae58a48dc890038c3428c7866"
      ],
      "layout": "IPY_MODEL_f47e36ecb0e9450f978b880023ce1c0c"
     }
    },
    "92cad220707344e99707f33d65962f38": {
     "model_module": "@jupyter-widgets/controls",
     "model_module_version": "1.5.0",
     "model_name": "DescriptionStyleModel",
     "state": {
      "_model_module": "@jupyter-widgets/controls",
      "_model_module_version": "1.5.0",
      "_model_name": "DescriptionStyleModel",
      "_view_count": null,
      "_view_module": "@jupyter-widgets/base",
      "_view_module_version": "1.2.0",
      "_view_name": "StyleView",
      "description_width": ""
     }
    },
    "92d7e59d617649e6a7369eb70f52307c": {
     "model_module": "@jupyter-widgets/controls",
     "model_module_version": "1.5.0",
     "model_name": "DescriptionStyleModel",
     "state": {
      "_model_module": "@jupyter-widgets/controls",
      "_model_module_version": "1.5.0",
      "_model_name": "DescriptionStyleModel",
      "_view_count": null,
      "_view_module": "@jupyter-widgets/base",
      "_view_module_version": "1.2.0",
      "_view_name": "StyleView",
      "description_width": ""
     }
    },
    "9355a6876679488b8ce55fba98c692b1": {
     "model_module": "@jupyter-widgets/base",
     "model_module_version": "1.2.0",
     "model_name": "LayoutModel",
     "state": {
      "_model_module": "@jupyter-widgets/base",
      "_model_module_version": "1.2.0",
      "_model_name": "LayoutModel",
      "_view_count": null,
      "_view_module": "@jupyter-widgets/base",
      "_view_module_version": "1.2.0",
      "_view_name": "LayoutView",
      "align_content": null,
      "align_items": null,
      "align_self": null,
      "border": null,
      "bottom": null,
      "display": null,
      "flex": null,
      "flex_flow": null,
      "grid_area": null,
      "grid_auto_columns": null,
      "grid_auto_flow": null,
      "grid_auto_rows": null,
      "grid_column": null,
      "grid_gap": null,
      "grid_row": null,
      "grid_template_areas": null,
      "grid_template_columns": null,
      "grid_template_rows": null,
      "height": null,
      "justify_content": null,
      "justify_items": null,
      "left": null,
      "margin": null,
      "max_height": null,
      "max_width": null,
      "min_height": null,
      "min_width": null,
      "object_fit": null,
      "object_position": null,
      "order": null,
      "overflow": null,
      "overflow_x": null,
      "overflow_y": null,
      "padding": null,
      "right": null,
      "top": null,
      "visibility": null,
      "width": null
     }
    },
    "9543e66a5edd4cbbb241c1edb319fb2e": {
     "model_module": "@jupyter-widgets/base",
     "model_module_version": "1.2.0",
     "model_name": "LayoutModel",
     "state": {
      "_model_module": "@jupyter-widgets/base",
      "_model_module_version": "1.2.0",
      "_model_name": "LayoutModel",
      "_view_count": null,
      "_view_module": "@jupyter-widgets/base",
      "_view_module_version": "1.2.0",
      "_view_name": "LayoutView",
      "align_content": null,
      "align_items": null,
      "align_self": null,
      "border": null,
      "bottom": null,
      "display": null,
      "flex": null,
      "flex_flow": null,
      "grid_area": null,
      "grid_auto_columns": null,
      "grid_auto_flow": null,
      "grid_auto_rows": null,
      "grid_column": null,
      "grid_gap": null,
      "grid_row": null,
      "grid_template_areas": null,
      "grid_template_columns": null,
      "grid_template_rows": null,
      "height": null,
      "justify_content": null,
      "justify_items": null,
      "left": null,
      "margin": null,
      "max_height": null,
      "max_width": null,
      "min_height": null,
      "min_width": null,
      "object_fit": null,
      "object_position": null,
      "order": null,
      "overflow": null,
      "overflow_x": null,
      "overflow_y": null,
      "padding": null,
      "right": null,
      "top": null,
      "visibility": null,
      "width": null
     }
    },
    "96234592faad4b0aacc2173f682f6ce4": {
     "model_module": "@jupyter-widgets/controls",
     "model_module_version": "1.5.0",
     "model_name": "DescriptionStyleModel",
     "state": {
      "_model_module": "@jupyter-widgets/controls",
      "_model_module_version": "1.5.0",
      "_model_name": "DescriptionStyleModel",
      "_view_count": null,
      "_view_module": "@jupyter-widgets/base",
      "_view_module_version": "1.2.0",
      "_view_name": "StyleView",
      "description_width": ""
     }
    },
    "97e7addb91ea4bf680206bf573222771": {
     "model_module": "@jupyter-widgets/base",
     "model_module_version": "1.2.0",
     "model_name": "LayoutModel",
     "state": {
      "_model_module": "@jupyter-widgets/base",
      "_model_module_version": "1.2.0",
      "_model_name": "LayoutModel",
      "_view_count": null,
      "_view_module": "@jupyter-widgets/base",
      "_view_module_version": "1.2.0",
      "_view_name": "LayoutView",
      "align_content": null,
      "align_items": null,
      "align_self": null,
      "border": null,
      "bottom": null,
      "display": null,
      "flex": null,
      "flex_flow": null,
      "grid_area": null,
      "grid_auto_columns": null,
      "grid_auto_flow": null,
      "grid_auto_rows": null,
      "grid_column": null,
      "grid_gap": null,
      "grid_row": null,
      "grid_template_areas": null,
      "grid_template_columns": null,
      "grid_template_rows": null,
      "height": null,
      "justify_content": null,
      "justify_items": null,
      "left": null,
      "margin": null,
      "max_height": null,
      "max_width": null,
      "min_height": null,
      "min_width": null,
      "object_fit": null,
      "object_position": null,
      "order": null,
      "overflow": null,
      "overflow_x": null,
      "overflow_y": null,
      "padding": null,
      "right": null,
      "top": null,
      "visibility": null,
      "width": null
     }
    },
    "98cd18a2f4cd4ae99b2e118e4e39bd32": {
     "model_module": "@jupyter-widgets/controls",
     "model_module_version": "1.5.0",
     "model_name": "ProgressStyleModel",
     "state": {
      "_model_module": "@jupyter-widgets/controls",
      "_model_module_version": "1.5.0",
      "_model_name": "ProgressStyleModel",
      "_view_count": null,
      "_view_module": "@jupyter-widgets/base",
      "_view_module_version": "1.2.0",
      "_view_name": "StyleView",
      "bar_color": null,
      "description_width": ""
     }
    },
    "9ab1e45d96574fdba2d0eed6d1ec6312": {
     "model_module": "@jupyter-widgets/controls",
     "model_module_version": "1.5.0",
     "model_name": "HBoxModel",
     "state": {
      "_dom_classes": [],
      "_model_module": "@jupyter-widgets/controls",
      "_model_module_version": "1.5.0",
      "_model_name": "HBoxModel",
      "_view_count": null,
      "_view_module": "@jupyter-widgets/controls",
      "_view_module_version": "1.5.0",
      "_view_name": "HBoxView",
      "box_style": "",
      "children": [
       "IPY_MODEL_6c6713223e6c43c49f24a30fdf938fc4",
       "IPY_MODEL_aeb1df63b60f4da2ab64bf45bfb78bb3",
       "IPY_MODEL_8221831a698e46a7b3bbafac6741a1b3"
      ],
      "layout": "IPY_MODEL_75d0f571f7514e97b38bc799a99d870f"
     }
    },
    "9d03b11c92f442f8bbc078d4dd17c534": {
     "model_module": "@jupyter-widgets/base",
     "model_module_version": "1.2.0",
     "model_name": "LayoutModel",
     "state": {
      "_model_module": "@jupyter-widgets/base",
      "_model_module_version": "1.2.0",
      "_model_name": "LayoutModel",
      "_view_count": null,
      "_view_module": "@jupyter-widgets/base",
      "_view_module_version": "1.2.0",
      "_view_name": "LayoutView",
      "align_content": null,
      "align_items": null,
      "align_self": null,
      "border": null,
      "bottom": null,
      "display": null,
      "flex": null,
      "flex_flow": null,
      "grid_area": null,
      "grid_auto_columns": null,
      "grid_auto_flow": null,
      "grid_auto_rows": null,
      "grid_column": null,
      "grid_gap": null,
      "grid_row": null,
      "grid_template_areas": null,
      "grid_template_columns": null,
      "grid_template_rows": null,
      "height": null,
      "justify_content": null,
      "justify_items": null,
      "left": null,
      "margin": null,
      "max_height": null,
      "max_width": null,
      "min_height": null,
      "min_width": null,
      "object_fit": null,
      "object_position": null,
      "order": null,
      "overflow": null,
      "overflow_x": null,
      "overflow_y": null,
      "padding": null,
      "right": null,
      "top": null,
      "visibility": null,
      "width": null
     }
    },
    "9d835d8b50ac476ba640656bd18fb33a": {
     "model_module": "@jupyter-widgets/controls",
     "model_module_version": "1.5.0",
     "model_name": "HTMLModel",
     "state": {
      "_dom_classes": [],
      "_model_module": "@jupyter-widgets/controls",
      "_model_module_version": "1.5.0",
      "_model_name": "HTMLModel",
      "_view_count": null,
      "_view_module": "@jupyter-widgets/controls",
      "_view_module_version": "1.5.0",
      "_view_name": "HTMLView",
      "description": "",
      "description_tooltip": null,
      "layout": "IPY_MODEL_f86c14bd1d1c41d382de4068d58121c5",
      "placeholder": "​",
      "style": "IPY_MODEL_51f1a3568cf74af79e456076a2cf5bd7",
      "value": " 22.8k/22.8k [00:00&lt;00:00, 1.70MB/s]"
     }
    },
    "9dae1a6503094e34b30deef120dfec23": {
     "model_module": "@jupyter-widgets/base",
     "model_module_version": "1.2.0",
     "model_name": "LayoutModel",
     "state": {
      "_model_module": "@jupyter-widgets/base",
      "_model_module_version": "1.2.0",
      "_model_name": "LayoutModel",
      "_view_count": null,
      "_view_module": "@jupyter-widgets/base",
      "_view_module_version": "1.2.0",
      "_view_name": "LayoutView",
      "align_content": null,
      "align_items": null,
      "align_self": null,
      "border": null,
      "bottom": null,
      "display": null,
      "flex": null,
      "flex_flow": null,
      "grid_area": null,
      "grid_auto_columns": null,
      "grid_auto_flow": null,
      "grid_auto_rows": null,
      "grid_column": null,
      "grid_gap": null,
      "grid_row": null,
      "grid_template_areas": null,
      "grid_template_columns": null,
      "grid_template_rows": null,
      "height": null,
      "justify_content": null,
      "justify_items": null,
      "left": null,
      "margin": null,
      "max_height": null,
      "max_width": null,
      "min_height": null,
      "min_width": null,
      "object_fit": null,
      "object_position": null,
      "order": null,
      "overflow": null,
      "overflow_x": null,
      "overflow_y": null,
      "padding": null,
      "right": null,
      "top": null,
      "visibility": null,
      "width": null
     }
    },
    "9dfc4886753f4420b421ed7072760eb2": {
     "model_module": "@jupyter-widgets/base",
     "model_module_version": "1.2.0",
     "model_name": "LayoutModel",
     "state": {
      "_model_module": "@jupyter-widgets/base",
      "_model_module_version": "1.2.0",
      "_model_name": "LayoutModel",
      "_view_count": null,
      "_view_module": "@jupyter-widgets/base",
      "_view_module_version": "1.2.0",
      "_view_name": "LayoutView",
      "align_content": null,
      "align_items": null,
      "align_self": null,
      "border": null,
      "bottom": null,
      "display": null,
      "flex": null,
      "flex_flow": null,
      "grid_area": null,
      "grid_auto_columns": null,
      "grid_auto_flow": null,
      "grid_auto_rows": null,
      "grid_column": null,
      "grid_gap": null,
      "grid_row": null,
      "grid_template_areas": null,
      "grid_template_columns": null,
      "grid_template_rows": null,
      "height": null,
      "justify_content": null,
      "justify_items": null,
      "left": null,
      "margin": null,
      "max_height": null,
      "max_width": null,
      "min_height": null,
      "min_width": null,
      "object_fit": null,
      "object_position": null,
      "order": null,
      "overflow": null,
      "overflow_x": null,
      "overflow_y": null,
      "padding": null,
      "right": null,
      "top": null,
      "visibility": null,
      "width": null
     }
    },
    "9e4e6406ca4d4ec6b25b5cf6c008291f": {
     "model_module": "@jupyter-widgets/controls",
     "model_module_version": "1.5.0",
     "model_name": "DescriptionStyleModel",
     "state": {
      "_model_module": "@jupyter-widgets/controls",
      "_model_module_version": "1.5.0",
      "_model_name": "DescriptionStyleModel",
      "_view_count": null,
      "_view_module": "@jupyter-widgets/base",
      "_view_module_version": "1.2.0",
      "_view_name": "StyleView",
      "description_width": ""
     }
    },
    "9fb957ed41a04847b86cda79f4749cce": {
     "model_module": "@jupyter-widgets/controls",
     "model_module_version": "1.5.0",
     "model_name": "DescriptionStyleModel",
     "state": {
      "_model_module": "@jupyter-widgets/controls",
      "_model_module_version": "1.5.0",
      "_model_name": "DescriptionStyleModel",
      "_view_count": null,
      "_view_module": "@jupyter-widgets/base",
      "_view_module_version": "1.2.0",
      "_view_name": "StyleView",
      "description_width": ""
     }
    },
    "a37d415006a94468b8aa074cc912ee3b": {
     "model_module": "@jupyter-widgets/base",
     "model_module_version": "1.2.0",
     "model_name": "LayoutModel",
     "state": {
      "_model_module": "@jupyter-widgets/base",
      "_model_module_version": "1.2.0",
      "_model_name": "LayoutModel",
      "_view_count": null,
      "_view_module": "@jupyter-widgets/base",
      "_view_module_version": "1.2.0",
      "_view_name": "LayoutView",
      "align_content": null,
      "align_items": null,
      "align_self": null,
      "border": null,
      "bottom": null,
      "display": null,
      "flex": null,
      "flex_flow": null,
      "grid_area": null,
      "grid_auto_columns": null,
      "grid_auto_flow": null,
      "grid_auto_rows": null,
      "grid_column": null,
      "grid_gap": null,
      "grid_row": null,
      "grid_template_areas": null,
      "grid_template_columns": null,
      "grid_template_rows": null,
      "height": null,
      "justify_content": null,
      "justify_items": null,
      "left": null,
      "margin": null,
      "max_height": null,
      "max_width": null,
      "min_height": null,
      "min_width": null,
      "object_fit": null,
      "object_position": null,
      "order": null,
      "overflow": null,
      "overflow_x": null,
      "overflow_y": null,
      "padding": null,
      "right": null,
      "top": null,
      "visibility": null,
      "width": null
     }
    },
    "a3bdf2d015d04bd6bd8baa4fa9da1c7b": {
     "model_module": "@jupyter-widgets/controls",
     "model_module_version": "1.5.0",
     "model_name": "HBoxModel",
     "state": {
      "_dom_classes": [],
      "_model_module": "@jupyter-widgets/controls",
      "_model_module_version": "1.5.0",
      "_model_name": "HBoxModel",
      "_view_count": null,
      "_view_module": "@jupyter-widgets/controls",
      "_view_module_version": "1.5.0",
      "_view_name": "HBoxView",
      "box_style": "",
      "children": [
       "IPY_MODEL_dedeeb203983407387d1729cbf5c04bd",
       "IPY_MODEL_ff50fde20bf740f991a7157880ccef24",
       "IPY_MODEL_cff2510013ba4280870a6da2bb07dd43"
      ],
      "layout": "IPY_MODEL_300970d2430f4247887ecf4c28b8369d"
     }
    },
    "a5cc039233ba44deb2eb4ebb91688d1e": {
     "model_module": "@jupyter-widgets/controls",
     "model_module_version": "1.5.0",
     "model_name": "HTMLModel",
     "state": {
      "_dom_classes": [],
      "_model_module": "@jupyter-widgets/controls",
      "_model_module_version": "1.5.0",
      "_model_name": "HTMLModel",
      "_view_count": null,
      "_view_module": "@jupyter-widgets/controls",
      "_view_module_version": "1.5.0",
      "_view_name": "HTMLView",
      "description": "",
      "description_tooltip": null,
      "layout": "IPY_MODEL_3b51daea0b5a4ff591f4c5dc67a31b30",
      "placeholder": "​",
      "style": "IPY_MODEL_9e4e6406ca4d4ec6b25b5cf6c008291f",
      "value": " 9.94G/9.94G [00:29&lt;00:00, 284MB/s]"
     }
    },
    "a65480f46986457e81b2696a419252aa": {
     "model_module": "@jupyter-widgets/controls",
     "model_module_version": "1.5.0",
     "model_name": "HTMLModel",
     "state": {
      "_dom_classes": [],
      "_model_module": "@jupyter-widgets/controls",
      "_model_module_version": "1.5.0",
      "_model_name": "HTMLModel",
      "_view_count": null,
      "_view_module": "@jupyter-widgets/controls",
      "_view_module_version": "1.5.0",
      "_view_name": "HTMLView",
      "description": "",
      "description_tooltip": null,
      "layout": "IPY_MODEL_f29ddadad3bf4f71b0bc5fe74cbb267f",
      "placeholder": "​",
      "style": "IPY_MODEL_01142f6f9baa45238f99aefe4bd0017b",
      "value": " 4.54G/4.54G [00:12&lt;00:00, 450MB/s]"
     }
    },
    "a86cb54388da4b09bbe931baa3a362e4": {
     "model_module": "@jupyter-widgets/controls",
     "model_module_version": "1.5.0",
     "model_name": "HBoxModel",
     "state": {
      "_dom_classes": [],
      "_model_module": "@jupyter-widgets/controls",
      "_model_module_version": "1.5.0",
      "_model_name": "HBoxModel",
      "_view_count": null,
      "_view_module": "@jupyter-widgets/controls",
      "_view_module_version": "1.5.0",
      "_view_name": "HBoxView",
      "box_style": "",
      "children": [
       "IPY_MODEL_0a85cb6a5af34372872de507c70f2686",
       "IPY_MODEL_72c3779da3c94fe0b928e312ab9eabb3",
       "IPY_MODEL_7aa93013e0e04f6aab7bfd7b9fa2a26a"
      ],
      "layout": "IPY_MODEL_87f6e7b31ae8490b838ae9c630665168"
     }
    },
    "a8a6d51cd7944538ae2395556f3f05e1": {
     "model_module": "@jupyter-widgets/controls",
     "model_module_version": "1.5.0",
     "model_name": "DescriptionStyleModel",
     "state": {
      "_model_module": "@jupyter-widgets/controls",
      "_model_module_version": "1.5.0",
      "_model_name": "DescriptionStyleModel",
      "_view_count": null,
      "_view_module": "@jupyter-widgets/base",
      "_view_module_version": "1.2.0",
      "_view_name": "StyleView",
      "description_width": ""
     }
    },
    "aeb1df63b60f4da2ab64bf45bfb78bb3": {
     "model_module": "@jupyter-widgets/controls",
     "model_module_version": "1.5.0",
     "model_name": "FloatProgressModel",
     "state": {
      "_dom_classes": [],
      "_model_module": "@jupyter-widgets/controls",
      "_model_module_version": "1.5.0",
      "_model_name": "FloatProgressModel",
      "_view_count": null,
      "_view_module": "@jupyter-widgets/controls",
      "_view_module_version": "1.5.0",
      "_view_name": "ProgressView",
      "bar_style": "success",
      "description": "",
      "description_tooltip": null,
      "layout": "IPY_MODEL_235fb6e2977045d399e9710bf8899ed2",
      "max": 2,
      "min": 0,
      "orientation": "horizontal",
      "style": "IPY_MODEL_298cf5267d384f619054ecf48c685096",
      "value": 2
     }
    },
    "aed37e74ddc542a0befea2bf782e8666": {
     "model_module": "@jupyter-widgets/controls",
     "model_module_version": "1.5.0",
     "model_name": "DescriptionStyleModel",
     "state": {
      "_model_module": "@jupyter-widgets/controls",
      "_model_module_version": "1.5.0",
      "_model_name": "DescriptionStyleModel",
      "_view_count": null,
      "_view_module": "@jupyter-widgets/base",
      "_view_module_version": "1.2.0",
      "_view_name": "StyleView",
      "description_width": ""
     }
    },
    "af2fbc70ff2e41529aec0975337a47fd": {
     "model_module": "@jupyter-widgets/controls",
     "model_module_version": "1.5.0",
     "model_name": "FloatProgressModel",
     "state": {
      "_dom_classes": [],
      "_model_module": "@jupyter-widgets/controls",
      "_model_module_version": "1.5.0",
      "_model_name": "FloatProgressModel",
      "_view_count": null,
      "_view_module": "@jupyter-widgets/controls",
      "_view_module_version": "1.5.0",
      "_view_name": "ProgressView",
      "bar_style": "success",
      "description": "",
      "description_tooltip": null,
      "layout": "IPY_MODEL_9d03b11c92f442f8bbc078d4dd17c534",
      "max": 22771,
      "min": 0,
      "orientation": "horizontal",
      "style": "IPY_MODEL_0aae86a8b6564b8995da02649253ca26",
      "value": 22771
     }
    },
    "af39e08ef2bf47dfb804f409bed89f44": {
     "model_module": "@jupyter-widgets/base",
     "model_module_version": "1.2.0",
     "model_name": "LayoutModel",
     "state": {
      "_model_module": "@jupyter-widgets/base",
      "_model_module_version": "1.2.0",
      "_model_name": "LayoutModel",
      "_view_count": null,
      "_view_module": "@jupyter-widgets/base",
      "_view_module_version": "1.2.0",
      "_view_name": "LayoutView",
      "align_content": null,
      "align_items": null,
      "align_self": null,
      "border": null,
      "bottom": null,
      "display": null,
      "flex": null,
      "flex_flow": null,
      "grid_area": null,
      "grid_auto_columns": null,
      "grid_auto_flow": null,
      "grid_auto_rows": null,
      "grid_column": null,
      "grid_gap": null,
      "grid_row": null,
      "grid_template_areas": null,
      "grid_template_columns": null,
      "grid_template_rows": null,
      "height": null,
      "justify_content": null,
      "justify_items": null,
      "left": null,
      "margin": null,
      "max_height": null,
      "max_width": null,
      "min_height": null,
      "min_width": null,
      "object_fit": null,
      "object_position": null,
      "order": null,
      "overflow": null,
      "overflow_x": null,
      "overflow_y": null,
      "padding": null,
      "right": null,
      "top": null,
      "visibility": null,
      "width": null
     }
    },
    "b09b586859ba48638174d9714fcef4d1": {
     "model_module": "@jupyter-widgets/controls",
     "model_module_version": "1.5.0",
     "model_name": "DescriptionStyleModel",
     "state": {
      "_model_module": "@jupyter-widgets/controls",
      "_model_module_version": "1.5.0",
      "_model_name": "DescriptionStyleModel",
      "_view_count": null,
      "_view_module": "@jupyter-widgets/base",
      "_view_module_version": "1.2.0",
      "_view_name": "StyleView",
      "description_width": ""
     }
    },
    "b2a52f9dd2954c0d92610a6775297013": {
     "model_module": "@jupyter-widgets/controls",
     "model_module_version": "1.5.0",
     "model_name": "ProgressStyleModel",
     "state": {
      "_model_module": "@jupyter-widgets/controls",
      "_model_module_version": "1.5.0",
      "_model_name": "ProgressStyleModel",
      "_view_count": null,
      "_view_module": "@jupyter-widgets/base",
      "_view_module_version": "1.2.0",
      "_view_name": "StyleView",
      "bar_color": null,
      "description_width": ""
     }
    },
    "b5be2a8ad41445b59e67a82b1742d9a9": {
     "model_module": "@jupyter-widgets/controls",
     "model_module_version": "1.5.0",
     "model_name": "DescriptionStyleModel",
     "state": {
      "_model_module": "@jupyter-widgets/controls",
      "_model_module_version": "1.5.0",
      "_model_name": "DescriptionStyleModel",
      "_view_count": null,
      "_view_module": "@jupyter-widgets/base",
      "_view_module_version": "1.2.0",
      "_view_name": "StyleView",
      "description_width": ""
     }
    },
    "bae1768c65ce4d89ac5870ba5234b412": {
     "model_module": "@jupyter-widgets/controls",
     "model_module_version": "1.5.0",
     "model_name": "ProgressStyleModel",
     "state": {
      "_model_module": "@jupyter-widgets/controls",
      "_model_module_version": "1.5.0",
      "_model_name": "ProgressStyleModel",
      "_view_count": null,
      "_view_module": "@jupyter-widgets/base",
      "_view_module_version": "1.2.0",
      "_view_name": "StyleView",
      "bar_color": null,
      "description_width": ""
     }
    },
    "c3edcf3035d1485cbc3c442cfe6bb027": {
     "model_module": "@jupyter-widgets/base",
     "model_module_version": "1.2.0",
     "model_name": "LayoutModel",
     "state": {
      "_model_module": "@jupyter-widgets/base",
      "_model_module_version": "1.2.0",
      "_model_name": "LayoutModel",
      "_view_count": null,
      "_view_module": "@jupyter-widgets/base",
      "_view_module_version": "1.2.0",
      "_view_name": "LayoutView",
      "align_content": null,
      "align_items": null,
      "align_self": null,
      "border": null,
      "bottom": null,
      "display": null,
      "flex": null,
      "flex_flow": null,
      "grid_area": null,
      "grid_auto_columns": null,
      "grid_auto_flow": null,
      "grid_auto_rows": null,
      "grid_column": null,
      "grid_gap": null,
      "grid_row": null,
      "grid_template_areas": null,
      "grid_template_columns": null,
      "grid_template_rows": null,
      "height": null,
      "justify_content": null,
      "justify_items": null,
      "left": null,
      "margin": null,
      "max_height": null,
      "max_width": null,
      "min_height": null,
      "min_width": null,
      "object_fit": null,
      "object_position": null,
      "order": null,
      "overflow": null,
      "overflow_x": null,
      "overflow_y": null,
      "padding": null,
      "right": null,
      "top": null,
      "visibility": null,
      "width": null
     }
    },
    "c9affa50167046de91759b67b215185e": {
     "model_module": "@jupyter-widgets/controls",
     "model_module_version": "1.5.0",
     "model_name": "DescriptionStyleModel",
     "state": {
      "_model_module": "@jupyter-widgets/controls",
      "_model_module_version": "1.5.0",
      "_model_name": "DescriptionStyleModel",
      "_view_count": null,
      "_view_module": "@jupyter-widgets/base",
      "_view_module_version": "1.2.0",
      "_view_name": "StyleView",
      "description_width": ""
     }
    },
    "ca5988aa64d04aef813969a1f5c8d240": {
     "model_module": "@jupyter-widgets/controls",
     "model_module_version": "1.5.0",
     "model_name": "DescriptionStyleModel",
     "state": {
      "_model_module": "@jupyter-widgets/controls",
      "_model_module_version": "1.5.0",
      "_model_name": "DescriptionStyleModel",
      "_view_count": null,
      "_view_module": "@jupyter-widgets/base",
      "_view_module_version": "1.2.0",
      "_view_name": "StyleView",
      "description_width": ""
     }
    },
    "cd20c5638dab4cd592398306a737160b": {
     "model_module": "@jupyter-widgets/controls",
     "model_module_version": "1.5.0",
     "model_name": "DescriptionStyleModel",
     "state": {
      "_model_module": "@jupyter-widgets/controls",
      "_model_module_version": "1.5.0",
      "_model_name": "DescriptionStyleModel",
      "_view_count": null,
      "_view_module": "@jupyter-widgets/base",
      "_view_module_version": "1.2.0",
      "_view_name": "StyleView",
      "description_width": ""
     }
    },
    "cd2481e7bb2c4dc790ba38e0290c6804": {
     "model_module": "@jupyter-widgets/controls",
     "model_module_version": "1.5.0",
     "model_name": "HBoxModel",
     "state": {
      "_dom_classes": [],
      "_model_module": "@jupyter-widgets/controls",
      "_model_module_version": "1.5.0",
      "_model_name": "HBoxModel",
      "_view_count": null,
      "_view_module": "@jupyter-widgets/controls",
      "_view_module_version": "1.5.0",
      "_view_name": "HBoxView",
      "box_style": "",
      "children": [
       "IPY_MODEL_3e2d4356bdbc49948139a2bd9cc73756",
       "IPY_MODEL_eeaf54e93cb64dc7a926134f574d0e28",
       "IPY_MODEL_434a2a07f3304c06a198dff182d7046a"
      ],
      "layout": "IPY_MODEL_e55b1ae6a1264e2ca611098e0790ad3d"
     }
    },
    "cd5ee07f8f314fb998ff8d06c8d4756e": {
     "model_module": "@jupyter-widgets/controls",
     "model_module_version": "1.5.0",
     "model_name": "FloatProgressModel",
     "state": {
      "_dom_classes": [],
      "_model_module": "@jupyter-widgets/controls",
      "_model_module_version": "1.5.0",
      "_model_name": "FloatProgressModel",
      "_view_count": null,
      "_view_module": "@jupyter-widgets/controls",
      "_view_module_version": "1.5.0",
      "_view_name": "ProgressView",
      "bar_style": "success",
      "description": "",
      "description_tooltip": null,
      "layout": "IPY_MODEL_1cd72cc7fe044e628ad3c3d72c50f6c9",
      "max": 3,
      "min": 0,
      "orientation": "horizontal",
      "style": "IPY_MODEL_25110f1263784609bb3c0b331209e850",
      "value": 3
     }
    },
    "ce76fbbdf7794d65871a71bd98a96986": {
     "model_module": "@jupyter-widgets/controls",
     "model_module_version": "1.5.0",
     "model_name": "ProgressStyleModel",
     "state": {
      "_model_module": "@jupyter-widgets/controls",
      "_model_module_version": "1.5.0",
      "_model_name": "ProgressStyleModel",
      "_view_count": null,
      "_view_module": "@jupyter-widgets/base",
      "_view_module_version": "1.2.0",
      "_view_name": "StyleView",
      "bar_color": null,
      "description_width": ""
     }
    },
    "cff2510013ba4280870a6da2bb07dd43": {
     "model_module": "@jupyter-widgets/controls",
     "model_module_version": "1.5.0",
     "model_name": "HTMLModel",
     "state": {
      "_dom_classes": [],
      "_model_module": "@jupyter-widgets/controls",
      "_model_module_version": "1.5.0",
      "_model_name": "HTMLModel",
      "_view_count": null,
      "_view_module": "@jupyter-widgets/controls",
      "_view_module_version": "1.5.0",
      "_view_name": "HTMLView",
      "description": "",
      "description_tooltip": null,
      "layout": "IPY_MODEL_da844e86830149d9a466a6b732c859d2",
      "placeholder": "​",
      "style": "IPY_MODEL_ca5988aa64d04aef813969a1f5c8d240",
      "value": " 5.18k/5.18k [00:00&lt;00:00, 474kB/s]"
     }
    },
    "d000f3680a4140aabe4961692f83ab02": {
     "model_module": "@jupyter-widgets/base",
     "model_module_version": "1.2.0",
     "model_name": "LayoutModel",
     "state": {
      "_model_module": "@jupyter-widgets/base",
      "_model_module_version": "1.2.0",
      "_model_name": "LayoutModel",
      "_view_count": null,
      "_view_module": "@jupyter-widgets/base",
      "_view_module_version": "1.2.0",
      "_view_name": "LayoutView",
      "align_content": null,
      "align_items": null,
      "align_self": null,
      "border": null,
      "bottom": null,
      "display": null,
      "flex": null,
      "flex_flow": null,
      "grid_area": null,
      "grid_auto_columns": null,
      "grid_auto_flow": null,
      "grid_auto_rows": null,
      "grid_column": null,
      "grid_gap": null,
      "grid_row": null,
      "grid_template_areas": null,
      "grid_template_columns": null,
      "grid_template_rows": null,
      "height": null,
      "justify_content": null,
      "justify_items": null,
      "left": null,
      "margin": null,
      "max_height": null,
      "max_width": null,
      "min_height": null,
      "min_width": null,
      "object_fit": null,
      "object_position": null,
      "order": null,
      "overflow": null,
      "overflow_x": null,
      "overflow_y": null,
      "padding": null,
      "right": null,
      "top": null,
      "visibility": null,
      "width": null
     }
    },
    "d32aa9ac023643468cb0db1851c5298c": {
     "model_module": "@jupyter-widgets/controls",
     "model_module_version": "1.5.0",
     "model_name": "DescriptionStyleModel",
     "state": {
      "_model_module": "@jupyter-widgets/controls",
      "_model_module_version": "1.5.0",
      "_model_name": "DescriptionStyleModel",
      "_view_count": null,
      "_view_module": "@jupyter-widgets/base",
      "_view_module_version": "1.2.0",
      "_view_name": "StyleView",
      "description_width": ""
     }
    },
    "d382d964dfbc4f2fb4028a903247eb53": {
     "model_module": "@jupyter-widgets/controls",
     "model_module_version": "1.5.0",
     "model_name": "FloatProgressModel",
     "state": {
      "_dom_classes": [],
      "_model_module": "@jupyter-widgets/controls",
      "_model_module_version": "1.5.0",
      "_model_name": "FloatProgressModel",
      "_view_count": null,
      "_view_module": "@jupyter-widgets/controls",
      "_view_module_version": "1.5.0",
      "_view_name": "ProgressView",
      "bar_style": "success",
      "description": "",
      "description_tooltip": null,
      "layout": "IPY_MODEL_97e7addb91ea4bf680206bf573222771",
      "max": 4999819232,
      "min": 0,
      "orientation": "horizontal",
      "style": "IPY_MODEL_dee492ec1e1244df8df7690c41b2d040",
      "value": 4999819232
     }
    },
    "d42457cf0f674215907f3d41b7521239": {
     "model_module": "@jupyter-widgets/controls",
     "model_module_version": "1.5.0",
     "model_name": "HBoxModel",
     "state": {
      "_dom_classes": [],
      "_model_module": "@jupyter-widgets/controls",
      "_model_module_version": "1.5.0",
      "_model_name": "HBoxModel",
      "_view_count": null,
      "_view_module": "@jupyter-widgets/controls",
      "_view_module_version": "1.5.0",
      "_view_name": "HBoxView",
      "box_style": "",
      "children": [
       "IPY_MODEL_f79313559ce84bad89bb5d720ed7d6ee",
       "IPY_MODEL_12fcd6881f83422f8c2c802e97d4e4e1",
       "IPY_MODEL_778a696094794fe69ce215c2e9a45760"
      ],
      "layout": "IPY_MODEL_d000f3680a4140aabe4961692f83ab02"
     }
    },
    "d49c80ce93f94bc1a2bd8c7e1260b125": {
     "model_module": "@jupyter-widgets/base",
     "model_module_version": "1.2.0",
     "model_name": "LayoutModel",
     "state": {
      "_model_module": "@jupyter-widgets/base",
      "_model_module_version": "1.2.0",
      "_model_name": "LayoutModel",
      "_view_count": null,
      "_view_module": "@jupyter-widgets/base",
      "_view_module_version": "1.2.0",
      "_view_name": "LayoutView",
      "align_content": null,
      "align_items": null,
      "align_self": null,
      "border": null,
      "bottom": null,
      "display": null,
      "flex": null,
      "flex_flow": null,
      "grid_area": null,
      "grid_auto_columns": null,
      "grid_auto_flow": null,
      "grid_auto_rows": null,
      "grid_column": null,
      "grid_gap": null,
      "grid_row": null,
      "grid_template_areas": null,
      "grid_template_columns": null,
      "grid_template_rows": null,
      "height": null,
      "justify_content": null,
      "justify_items": null,
      "left": null,
      "margin": null,
      "max_height": null,
      "max_width": null,
      "min_height": null,
      "min_width": null,
      "object_fit": null,
      "object_position": null,
      "order": null,
      "overflow": null,
      "overflow_x": null,
      "overflow_y": null,
      "padding": null,
      "right": null,
      "top": null,
      "visibility": null,
      "width": null
     }
    },
    "d4c068a9822f4547b816cc28723447b1": {
     "model_module": "@jupyter-widgets/base",
     "model_module_version": "1.2.0",
     "model_name": "LayoutModel",
     "state": {
      "_model_module": "@jupyter-widgets/base",
      "_model_module_version": "1.2.0",
      "_model_name": "LayoutModel",
      "_view_count": null,
      "_view_module": "@jupyter-widgets/base",
      "_view_module_version": "1.2.0",
      "_view_name": "LayoutView",
      "align_content": null,
      "align_items": null,
      "align_self": null,
      "border": null,
      "bottom": null,
      "display": null,
      "flex": null,
      "flex_flow": null,
      "grid_area": null,
      "grid_auto_columns": null,
      "grid_auto_flow": null,
      "grid_auto_rows": null,
      "grid_column": null,
      "grid_gap": null,
      "grid_row": null,
      "grid_template_areas": null,
      "grid_template_columns": null,
      "grid_template_rows": null,
      "height": null,
      "justify_content": null,
      "justify_items": null,
      "left": null,
      "margin": null,
      "max_height": null,
      "max_width": null,
      "min_height": null,
      "min_width": null,
      "object_fit": null,
      "object_position": null,
      "order": null,
      "overflow": null,
      "overflow_x": null,
      "overflow_y": null,
      "padding": null,
      "right": null,
      "top": null,
      "visibility": null,
      "width": null
     }
    },
    "d791bf1617634286ace841ad2034eab8": {
     "model_module": "@jupyter-widgets/controls",
     "model_module_version": "1.5.0",
     "model_name": "HBoxModel",
     "state": {
      "_dom_classes": [],
      "_model_module": "@jupyter-widgets/controls",
      "_model_module_version": "1.5.0",
      "_model_name": "HBoxModel",
      "_view_count": null,
      "_view_module": "@jupyter-widgets/controls",
      "_view_module_version": "1.5.0",
      "_view_name": "HBoxView",
      "box_style": "",
      "children": [
       "IPY_MODEL_2b379e9fd44344d0b332b13d126b6233",
       "IPY_MODEL_5d9c626a932f47359522918c7855d54a",
       "IPY_MODEL_a5cc039233ba44deb2eb4ebb91688d1e"
      ],
      "layout": "IPY_MODEL_42c941bc25b64bc7bdea893034c4713d"
     }
    },
    "d7cd50acced74374afda20aca7619d1e": {
     "model_module": "@jupyter-widgets/controls",
     "model_module_version": "1.5.0",
     "model_name": "ProgressStyleModel",
     "state": {
      "_model_module": "@jupyter-widgets/controls",
      "_model_module_version": "1.5.0",
      "_model_name": "ProgressStyleModel",
      "_view_count": null,
      "_view_module": "@jupyter-widgets/base",
      "_view_module_version": "1.2.0",
      "_view_name": "StyleView",
      "bar_color": null,
      "description_width": ""
     }
    },
    "d7fed9148f4e49489c1141597b19afba": {
     "model_module": "@jupyter-widgets/controls",
     "model_module_version": "1.5.0",
     "model_name": "HTMLModel",
     "state": {
      "_dom_classes": [],
      "_model_module": "@jupyter-widgets/controls",
      "_model_module_version": "1.5.0",
      "_model_name": "HTMLModel",
      "_view_count": null,
      "_view_module": "@jupyter-widgets/controls",
      "_view_module_version": "1.5.0",
      "_view_name": "HTMLView",
      "description": "",
      "description_tooltip": null,
      "layout": "IPY_MODEL_7f27326ea66649f4aa3529f1e2dd48bf",
      "placeholder": "​",
      "style": "IPY_MODEL_5536622559b344239cc293b3d3d528b0",
      "value": "model-00002-of-00002.safetensors: 100%"
     }
    },
    "d90f06953eac4bd0af61d50c644376ae": {
     "model_module": "@jupyter-widgets/controls",
     "model_module_version": "1.5.0",
     "model_name": "HTMLModel",
     "state": {
      "_dom_classes": [],
      "_model_module": "@jupyter-widgets/controls",
      "_model_module_version": "1.5.0",
      "_model_name": "HTMLModel",
      "_view_count": null,
      "_view_module": "@jupyter-widgets/controls",
      "_view_module_version": "1.5.0",
      "_view_name": "HTMLView",
      "description": "",
      "description_tooltip": null,
      "layout": "IPY_MODEL_e14e6c4bf7d3427eac9b84966e07e12d",
      "placeholder": "​",
      "style": "IPY_MODEL_47f81592cb0c47109c25ee41af59f9b1",
      "value": " 3/3 [04:03&lt;00:00, 63.65s/it]"
     }
    },
    "da844e86830149d9a466a6b732c859d2": {
     "model_module": "@jupyter-widgets/base",
     "model_module_version": "1.2.0",
     "model_name": "LayoutModel",
     "state": {
      "_model_module": "@jupyter-widgets/base",
      "_model_module_version": "1.2.0",
      "_model_name": "LayoutModel",
      "_view_count": null,
      "_view_module": "@jupyter-widgets/base",
      "_view_module_version": "1.2.0",
      "_view_name": "LayoutView",
      "align_content": null,
      "align_items": null,
      "align_self": null,
      "border": null,
      "bottom": null,
      "display": null,
      "flex": null,
      "flex_flow": null,
      "grid_area": null,
      "grid_auto_columns": null,
      "grid_auto_flow": null,
      "grid_auto_rows": null,
      "grid_column": null,
      "grid_gap": null,
      "grid_row": null,
      "grid_template_areas": null,
      "grid_template_columns": null,
      "grid_template_rows": null,
      "height": null,
      "justify_content": null,
      "justify_items": null,
      "left": null,
      "margin": null,
      "max_height": null,
      "max_width": null,
      "min_height": null,
      "min_width": null,
      "object_fit": null,
      "object_position": null,
      "order": null,
      "overflow": null,
      "overflow_x": null,
      "overflow_y": null,
      "padding": null,
      "right": null,
      "top": null,
      "visibility": null,
      "width": null
     }
    },
    "da9771aae58a48dc890038c3428c7866": {
     "model_module": "@jupyter-widgets/controls",
     "model_module_version": "1.5.0",
     "model_name": "HTMLModel",
     "state": {
      "_dom_classes": [],
      "_model_module": "@jupyter-widgets/controls",
      "_model_module_version": "1.5.0",
      "_model_name": "HTMLModel",
      "_view_count": null,
      "_view_module": "@jupyter-widgets/controls",
      "_view_module_version": "1.5.0",
      "_view_name": "HTMLView",
      "description": "",
      "description_tooltip": null,
      "layout": "IPY_MODEL_9dfc4886753f4420b421ed7072760eb2",
      "placeholder": "​",
      "style": "IPY_MODEL_8702ad3f267c4271ba684f137756d15b",
      "value": " 12859/12859 [00:57&lt;00:00, 228.36 examples/s]"
     }
    },
    "dd028ef4f2b94495a38c97acdf64ebe6": {
     "model_module": "@jupyter-widgets/base",
     "model_module_version": "1.2.0",
     "model_name": "LayoutModel",
     "state": {
      "_model_module": "@jupyter-widgets/base",
      "_model_module_version": "1.2.0",
      "_model_name": "LayoutModel",
      "_view_count": null,
      "_view_module": "@jupyter-widgets/base",
      "_view_module_version": "1.2.0",
      "_view_name": "LayoutView",
      "align_content": null,
      "align_items": null,
      "align_self": null,
      "border": null,
      "bottom": null,
      "display": null,
      "flex": null,
      "flex_flow": null,
      "grid_area": null,
      "grid_auto_columns": null,
      "grid_auto_flow": null,
      "grid_auto_rows": null,
      "grid_column": null,
      "grid_gap": null,
      "grid_row": null,
      "grid_template_areas": null,
      "grid_template_columns": null,
      "grid_template_rows": null,
      "height": null,
      "justify_content": null,
      "justify_items": null,
      "left": null,
      "margin": null,
      "max_height": null,
      "max_width": null,
      "min_height": null,
      "min_width": null,
      "object_fit": null,
      "object_position": null,
      "order": null,
      "overflow": null,
      "overflow_x": null,
      "overflow_y": null,
      "padding": null,
      "right": null,
      "top": null,
      "visibility": null,
      "width": null
     }
    },
    "dd4fb7b6c0e143629e91888bd04de907": {
     "model_module": "@jupyter-widgets/base",
     "model_module_version": "1.2.0",
     "model_name": "LayoutModel",
     "state": {
      "_model_module": "@jupyter-widgets/base",
      "_model_module_version": "1.2.0",
      "_model_name": "LayoutModel",
      "_view_count": null,
      "_view_module": "@jupyter-widgets/base",
      "_view_module_version": "1.2.0",
      "_view_name": "LayoutView",
      "align_content": null,
      "align_items": null,
      "align_self": null,
      "border": null,
      "bottom": null,
      "display": null,
      "flex": null,
      "flex_flow": null,
      "grid_area": null,
      "grid_auto_columns": null,
      "grid_auto_flow": null,
      "grid_auto_rows": null,
      "grid_column": null,
      "grid_gap": null,
      "grid_row": null,
      "grid_template_areas": null,
      "grid_template_columns": null,
      "grid_template_rows": null,
      "height": null,
      "justify_content": null,
      "justify_items": null,
      "left": null,
      "margin": null,
      "max_height": null,
      "max_width": null,
      "min_height": null,
      "min_width": null,
      "object_fit": null,
      "object_position": null,
      "order": null,
      "overflow": null,
      "overflow_x": null,
      "overflow_y": null,
      "padding": null,
      "right": null,
      "top": null,
      "visibility": null,
      "width": null
     }
    },
    "dda91956110a49e7823cb7011d833bb5": {
     "model_module": "@jupyter-widgets/base",
     "model_module_version": "1.2.0",
     "model_name": "LayoutModel",
     "state": {
      "_model_module": "@jupyter-widgets/base",
      "_model_module_version": "1.2.0",
      "_model_name": "LayoutModel",
      "_view_count": null,
      "_view_module": "@jupyter-widgets/base",
      "_view_module_version": "1.2.0",
      "_view_name": "LayoutView",
      "align_content": null,
      "align_items": null,
      "align_self": null,
      "border": null,
      "bottom": null,
      "display": null,
      "flex": null,
      "flex_flow": null,
      "grid_area": null,
      "grid_auto_columns": null,
      "grid_auto_flow": null,
      "grid_auto_rows": null,
      "grid_column": null,
      "grid_gap": null,
      "grid_row": null,
      "grid_template_areas": null,
      "grid_template_columns": null,
      "grid_template_rows": null,
      "height": null,
      "justify_content": null,
      "justify_items": null,
      "left": null,
      "margin": null,
      "max_height": null,
      "max_width": null,
      "min_height": null,
      "min_width": null,
      "object_fit": null,
      "object_position": null,
      "order": null,
      "overflow": null,
      "overflow_x": null,
      "overflow_y": null,
      "padding": null,
      "right": null,
      "top": null,
      "visibility": null,
      "width": null
     }
    },
    "de1708b187084e34b77e9ba3dc35d7c8": {
     "model_module": "@jupyter-widgets/controls",
     "model_module_version": "1.5.0",
     "model_name": "ProgressStyleModel",
     "state": {
      "_model_module": "@jupyter-widgets/controls",
      "_model_module_version": "1.5.0",
      "_model_name": "ProgressStyleModel",
      "_view_count": null,
      "_view_module": "@jupyter-widgets/base",
      "_view_module_version": "1.2.0",
      "_view_name": "StyleView",
      "bar_color": null,
      "description_width": ""
     }
    },
    "dedeeb203983407387d1729cbf5c04bd": {
     "model_module": "@jupyter-widgets/controls",
     "model_module_version": "1.5.0",
     "model_name": "HTMLModel",
     "state": {
      "_dom_classes": [],
      "_model_module": "@jupyter-widgets/controls",
      "_model_module_version": "1.5.0",
      "_model_name": "HTMLModel",
      "_view_count": null,
      "_view_module": "@jupyter-widgets/controls",
      "_view_module_version": "1.5.0",
      "_view_name": "HTMLView",
      "description": "",
      "description_tooltip": null,
      "layout": "IPY_MODEL_9dae1a6503094e34b30deef120dfec23",
      "placeholder": "​",
      "style": "IPY_MODEL_9fb957ed41a04847b86cda79f4749cce",
      "value": "README.md: 100%"
     }
    },
    "dee492ec1e1244df8df7690c41b2d040": {
     "model_module": "@jupyter-widgets/controls",
     "model_module_version": "1.5.0",
     "model_name": "ProgressStyleModel",
     "state": {
      "_model_module": "@jupyter-widgets/controls",
      "_model_module_version": "1.5.0",
      "_model_name": "ProgressStyleModel",
      "_view_count": null,
      "_view_module": "@jupyter-widgets/base",
      "_view_module_version": "1.2.0",
      "_view_name": "StyleView",
      "bar_color": null,
      "description_width": ""
     }
    },
    "dfe6f96b028542ca94ba25486bdaa34e": {
     "model_module": "@jupyter-widgets/base",
     "model_module_version": "1.2.0",
     "model_name": "LayoutModel",
     "state": {
      "_model_module": "@jupyter-widgets/base",
      "_model_module_version": "1.2.0",
      "_model_name": "LayoutModel",
      "_view_count": null,
      "_view_module": "@jupyter-widgets/base",
      "_view_module_version": "1.2.0",
      "_view_name": "LayoutView",
      "align_content": null,
      "align_items": null,
      "align_self": null,
      "border": null,
      "bottom": null,
      "display": null,
      "flex": null,
      "flex_flow": null,
      "grid_area": null,
      "grid_auto_columns": null,
      "grid_auto_flow": null,
      "grid_auto_rows": null,
      "grid_column": null,
      "grid_gap": null,
      "grid_row": null,
      "grid_template_areas": null,
      "grid_template_columns": null,
      "grid_template_rows": null,
      "height": null,
      "justify_content": null,
      "justify_items": null,
      "left": null,
      "margin": null,
      "max_height": null,
      "max_width": null,
      "min_height": null,
      "min_width": null,
      "object_fit": null,
      "object_position": null,
      "order": null,
      "overflow": null,
      "overflow_x": null,
      "overflow_y": null,
      "padding": null,
      "right": null,
      "top": null,
      "visibility": null,
      "width": null
     }
    },
    "e02fbf343da64405a2c86c70c5da17b5": {
     "model_module": "@jupyter-widgets/controls",
     "model_module_version": "1.5.0",
     "model_name": "DescriptionStyleModel",
     "state": {
      "_model_module": "@jupyter-widgets/controls",
      "_model_module_version": "1.5.0",
      "_model_name": "DescriptionStyleModel",
      "_view_count": null,
      "_view_module": "@jupyter-widgets/base",
      "_view_module_version": "1.2.0",
      "_view_name": "StyleView",
      "description_width": ""
     }
    },
    "e14e6c4bf7d3427eac9b84966e07e12d": {
     "model_module": "@jupyter-widgets/base",
     "model_module_version": "1.2.0",
     "model_name": "LayoutModel",
     "state": {
      "_model_module": "@jupyter-widgets/base",
      "_model_module_version": "1.2.0",
      "_model_name": "LayoutModel",
      "_view_count": null,
      "_view_module": "@jupyter-widgets/base",
      "_view_module_version": "1.2.0",
      "_view_name": "LayoutView",
      "align_content": null,
      "align_items": null,
      "align_self": null,
      "border": null,
      "bottom": null,
      "display": null,
      "flex": null,
      "flex_flow": null,
      "grid_area": null,
      "grid_auto_columns": null,
      "grid_auto_flow": null,
      "grid_auto_rows": null,
      "grid_column": null,
      "grid_gap": null,
      "grid_row": null,
      "grid_template_areas": null,
      "grid_template_columns": null,
      "grid_template_rows": null,
      "height": null,
      "justify_content": null,
      "justify_items": null,
      "left": null,
      "margin": null,
      "max_height": null,
      "max_width": null,
      "min_height": null,
      "min_width": null,
      "object_fit": null,
      "object_position": null,
      "order": null,
      "overflow": null,
      "overflow_x": null,
      "overflow_y": null,
      "padding": null,
      "right": null,
      "top": null,
      "visibility": null,
      "width": null
     }
    },
    "e16999df7c3f480fa71e96532218e7c3": {
     "model_module": "@jupyter-widgets/base",
     "model_module_version": "1.2.0",
     "model_name": "LayoutModel",
     "state": {
      "_model_module": "@jupyter-widgets/base",
      "_model_module_version": "1.2.0",
      "_model_name": "LayoutModel",
      "_view_count": null,
      "_view_module": "@jupyter-widgets/base",
      "_view_module_version": "1.2.0",
      "_view_name": "LayoutView",
      "align_content": null,
      "align_items": null,
      "align_self": null,
      "border": null,
      "bottom": null,
      "display": null,
      "flex": null,
      "flex_flow": null,
      "grid_area": null,
      "grid_auto_columns": null,
      "grid_auto_flow": null,
      "grid_auto_rows": null,
      "grid_column": null,
      "grid_gap": null,
      "grid_row": null,
      "grid_template_areas": null,
      "grid_template_columns": null,
      "grid_template_rows": null,
      "height": null,
      "justify_content": null,
      "justify_items": null,
      "left": null,
      "margin": null,
      "max_height": null,
      "max_width": null,
      "min_height": null,
      "min_width": null,
      "object_fit": null,
      "object_position": null,
      "order": null,
      "overflow": null,
      "overflow_x": null,
      "overflow_y": null,
      "padding": null,
      "right": null,
      "top": null,
      "visibility": null,
      "width": null
     }
    },
    "e55b1ae6a1264e2ca611098e0790ad3d": {
     "model_module": "@jupyter-widgets/base",
     "model_module_version": "1.2.0",
     "model_name": "LayoutModel",
     "state": {
      "_model_module": "@jupyter-widgets/base",
      "_model_module_version": "1.2.0",
      "_model_name": "LayoutModel",
      "_view_count": null,
      "_view_module": "@jupyter-widgets/base",
      "_view_module_version": "1.2.0",
      "_view_name": "LayoutView",
      "align_content": null,
      "align_items": null,
      "align_self": null,
      "border": null,
      "bottom": null,
      "display": null,
      "flex": null,
      "flex_flow": null,
      "grid_area": null,
      "grid_auto_columns": null,
      "grid_auto_flow": null,
      "grid_auto_rows": null,
      "grid_column": null,
      "grid_gap": null,
      "grid_row": null,
      "grid_template_areas": null,
      "grid_template_columns": null,
      "grid_template_rows": null,
      "height": null,
      "justify_content": null,
      "justify_items": null,
      "left": null,
      "margin": null,
      "max_height": null,
      "max_width": null,
      "min_height": null,
      "min_width": null,
      "object_fit": null,
      "object_position": null,
      "order": null,
      "overflow": null,
      "overflow_x": null,
      "overflow_y": null,
      "padding": null,
      "right": null,
      "top": null,
      "visibility": null,
      "width": null
     }
    },
    "e8f534ec3b9849699870c386615475bb": {
     "model_module": "@jupyter-widgets/controls",
     "model_module_version": "1.5.0",
     "model_name": "ProgressStyleModel",
     "state": {
      "_model_module": "@jupyter-widgets/controls",
      "_model_module_version": "1.5.0",
      "_model_name": "ProgressStyleModel",
      "_view_count": null,
      "_view_module": "@jupyter-widgets/base",
      "_view_module_version": "1.2.0",
      "_view_name": "StyleView",
      "bar_color": null,
      "description_width": ""
     }
    },
    "eae52b7dc91e42d09040f7a294f59770": {
     "model_module": "@jupyter-widgets/controls",
     "model_module_version": "1.5.0",
     "model_name": "HTMLModel",
     "state": {
      "_dom_classes": [],
      "_model_module": "@jupyter-widgets/controls",
      "_model_module_version": "1.5.0",
      "_model_name": "HTMLModel",
      "_view_count": null,
      "_view_module": "@jupyter-widgets/controls",
      "_view_module_version": "1.5.0",
      "_view_name": "HTMLView",
      "description": "",
      "description_tooltip": null,
      "layout": "IPY_MODEL_dd4fb7b6c0e143629e91888bd04de907",
      "placeholder": "​",
      "style": "IPY_MODEL_784e48401be94209b8bbd45931db09ed",
      "value": "model.safetensors.index.json: 100%"
     }
    },
    "ecce321a6cc747228d902f71e0b4e177": {
     "model_module": "@jupyter-widgets/base",
     "model_module_version": "1.2.0",
     "model_name": "LayoutModel",
     "state": {
      "_model_module": "@jupyter-widgets/base",
      "_model_module_version": "1.2.0",
      "_model_name": "LayoutModel",
      "_view_count": null,
      "_view_module": "@jupyter-widgets/base",
      "_view_module_version": "1.2.0",
      "_view_name": "LayoutView",
      "align_content": null,
      "align_items": null,
      "align_self": null,
      "border": null,
      "bottom": null,
      "display": null,
      "flex": null,
      "flex_flow": null,
      "grid_area": null,
      "grid_auto_columns": null,
      "grid_auto_flow": null,
      "grid_auto_rows": null,
      "grid_column": null,
      "grid_gap": null,
      "grid_row": null,
      "grid_template_areas": null,
      "grid_template_columns": null,
      "grid_template_rows": null,
      "height": null,
      "justify_content": null,
      "justify_items": null,
      "left": null,
      "margin": null,
      "max_height": null,
      "max_width": null,
      "min_height": null,
      "min_width": null,
      "object_fit": null,
      "object_position": null,
      "order": null,
      "overflow": null,
      "overflow_x": null,
      "overflow_y": null,
      "padding": null,
      "right": null,
      "top": null,
      "visibility": null,
      "width": null
     }
    },
    "eeaf54e93cb64dc7a926134f574d0e28": {
     "model_module": "@jupyter-widgets/controls",
     "model_module_version": "1.5.0",
     "model_name": "FloatProgressModel",
     "state": {
      "_dom_classes": [],
      "_model_module": "@jupyter-widgets/controls",
      "_model_module_version": "1.5.0",
      "_model_name": "FloatProgressModel",
      "_view_count": null,
      "_view_module": "@jupyter-widgets/controls",
      "_view_module_version": "1.5.0",
      "_view_name": "ProgressView",
      "bar_style": "success",
      "description": "",
      "description_tooltip": null,
      "layout": "IPY_MODEL_6ee624ae06b6499c9b442cc229ec1132",
      "max": 4540516256,
      "min": 0,
      "orientation": "horizontal",
      "style": "IPY_MODEL_73e949c8567e495b9fe52456fd3af562",
      "value": 4540516256
     }
    },
    "ef619522955d4840a1c5a129cc3ff971": {
     "model_module": "@jupyter-widgets/controls",
     "model_module_version": "1.5.0",
     "model_name": "HBoxModel",
     "state": {
      "_dom_classes": [],
      "_model_module": "@jupyter-widgets/controls",
      "_model_module_version": "1.5.0",
      "_model_name": "HBoxModel",
      "_view_count": null,
      "_view_module": "@jupyter-widgets/controls",
      "_view_module_version": "1.5.0",
      "_view_name": "HBoxView",
      "box_style": "",
      "children": [
       "IPY_MODEL_d7fed9148f4e49489c1141597b19afba",
       "IPY_MODEL_3b2ed52920e04cc58622868c9e090390",
       "IPY_MODEL_a65480f46986457e81b2696a419252aa"
      ],
      "layout": "IPY_MODEL_d49c80ce93f94bc1a2bd8c7e1260b125"
     }
    },
    "f1c8fa69353b44fc8238be2c4a4b9d08": {
     "model_module": "@jupyter-widgets/base",
     "model_module_version": "1.2.0",
     "model_name": "LayoutModel",
     "state": {
      "_model_module": "@jupyter-widgets/base",
      "_model_module_version": "1.2.0",
      "_model_name": "LayoutModel",
      "_view_count": null,
      "_view_module": "@jupyter-widgets/base",
      "_view_module_version": "1.2.0",
      "_view_name": "LayoutView",
      "align_content": null,
      "align_items": null,
      "align_self": null,
      "border": null,
      "bottom": null,
      "display": null,
      "flex": null,
      "flex_flow": null,
      "grid_area": null,
      "grid_auto_columns": null,
      "grid_auto_flow": null,
      "grid_auto_rows": null,
      "grid_column": null,
      "grid_gap": null,
      "grid_row": null,
      "grid_template_areas": null,
      "grid_template_columns": null,
      "grid_template_rows": null,
      "height": null,
      "justify_content": null,
      "justify_items": null,
      "left": null,
      "margin": null,
      "max_height": null,
      "max_width": null,
      "min_height": null,
      "min_width": null,
      "object_fit": null,
      "object_position": null,
      "order": null,
      "overflow": null,
      "overflow_x": null,
      "overflow_y": null,
      "padding": null,
      "right": null,
      "top": null,
      "visibility": null,
      "width": null
     }
    },
    "f29ddadad3bf4f71b0bc5fe74cbb267f": {
     "model_module": "@jupyter-widgets/base",
     "model_module_version": "1.2.0",
     "model_name": "LayoutModel",
     "state": {
      "_model_module": "@jupyter-widgets/base",
      "_model_module_version": "1.2.0",
      "_model_name": "LayoutModel",
      "_view_count": null,
      "_view_module": "@jupyter-widgets/base",
      "_view_module_version": "1.2.0",
      "_view_name": "LayoutView",
      "align_content": null,
      "align_items": null,
      "align_self": null,
      "border": null,
      "bottom": null,
      "display": null,
      "flex": null,
      "flex_flow": null,
      "grid_area": null,
      "grid_auto_columns": null,
      "grid_auto_flow": null,
      "grid_auto_rows": null,
      "grid_column": null,
      "grid_gap": null,
      "grid_row": null,
      "grid_template_areas": null,
      "grid_template_columns": null,
      "grid_template_rows": null,
      "height": null,
      "justify_content": null,
      "justify_items": null,
      "left": null,
      "margin": null,
      "max_height": null,
      "max_width": null,
      "min_height": null,
      "min_width": null,
      "object_fit": null,
      "object_position": null,
      "order": null,
      "overflow": null,
      "overflow_x": null,
      "overflow_y": null,
      "padding": null,
      "right": null,
      "top": null,
      "visibility": null,
      "width": null
     }
    },
    "f47e36ecb0e9450f978b880023ce1c0c": {
     "model_module": "@jupyter-widgets/base",
     "model_module_version": "1.2.0",
     "model_name": "LayoutModel",
     "state": {
      "_model_module": "@jupyter-widgets/base",
      "_model_module_version": "1.2.0",
      "_model_name": "LayoutModel",
      "_view_count": null,
      "_view_module": "@jupyter-widgets/base",
      "_view_module_version": "1.2.0",
      "_view_name": "LayoutView",
      "align_content": null,
      "align_items": null,
      "align_self": null,
      "border": null,
      "bottom": null,
      "display": null,
      "flex": null,
      "flex_flow": null,
      "grid_area": null,
      "grid_auto_columns": null,
      "grid_auto_flow": null,
      "grid_auto_rows": null,
      "grid_column": null,
      "grid_gap": null,
      "grid_row": null,
      "grid_template_areas": null,
      "grid_template_columns": null,
      "grid_template_rows": null,
      "height": null,
      "justify_content": null,
      "justify_items": null,
      "left": null,
      "margin": null,
      "max_height": null,
      "max_width": null,
      "min_height": null,
      "min_width": null,
      "object_fit": null,
      "object_position": null,
      "order": null,
      "overflow": null,
      "overflow_x": null,
      "overflow_y": null,
      "padding": null,
      "right": null,
      "top": null,
      "visibility": null,
      "width": null
     }
    },
    "f79313559ce84bad89bb5d720ed7d6ee": {
     "model_module": "@jupyter-widgets/controls",
     "model_module_version": "1.5.0",
     "model_name": "HTMLModel",
     "state": {
      "_dom_classes": [],
      "_model_module": "@jupyter-widgets/controls",
      "_model_module_version": "1.5.0",
      "_model_name": "HTMLModel",
      "_view_count": null,
      "_view_module": "@jupyter-widgets/controls",
      "_view_module_version": "1.5.0",
      "_view_name": "HTMLView",
      "description": "",
      "description_tooltip": null,
      "layout": "IPY_MODEL_19d626fe87b746daa1a40538c0077b1c",
      "placeholder": "​",
      "style": "IPY_MODEL_b09b586859ba48638174d9714fcef4d1",
      "value": "model-00001-of-00003.safetensors: 100%"
     }
    },
    "f86c14bd1d1c41d382de4068d58121c5": {
     "model_module": "@jupyter-widgets/base",
     "model_module_version": "1.2.0",
     "model_name": "LayoutModel",
     "state": {
      "_model_module": "@jupyter-widgets/base",
      "_model_module_version": "1.2.0",
      "_model_name": "LayoutModel",
      "_view_count": null,
      "_view_module": "@jupyter-widgets/base",
      "_view_module_version": "1.2.0",
      "_view_name": "LayoutView",
      "align_content": null,
      "align_items": null,
      "align_self": null,
      "border": null,
      "bottom": null,
      "display": null,
      "flex": null,
      "flex_flow": null,
      "grid_area": null,
      "grid_auto_columns": null,
      "grid_auto_flow": null,
      "grid_auto_rows": null,
      "grid_column": null,
      "grid_gap": null,
      "grid_row": null,
      "grid_template_areas": null,
      "grid_template_columns": null,
      "grid_template_rows": null,
      "height": null,
      "justify_content": null,
      "justify_items": null,
      "left": null,
      "margin": null,
      "max_height": null,
      "max_width": null,
      "min_height": null,
      "min_width": null,
      "object_fit": null,
      "object_position": null,
      "order": null,
      "overflow": null,
      "overflow_x": null,
      "overflow_y": null,
      "padding": null,
      "right": null,
      "top": null,
      "visibility": null,
      "width": null
     }
    },
    "fb6762a63a274a4d8105ca05ec8ae4aa": {
     "model_module": "@jupyter-widgets/controls",
     "model_module_version": "1.5.0",
     "model_name": "DescriptionStyleModel",
     "state": {
      "_model_module": "@jupyter-widgets/controls",
      "_model_module_version": "1.5.0",
      "_model_name": "DescriptionStyleModel",
      "_view_count": null,
      "_view_module": "@jupyter-widgets/base",
      "_view_module_version": "1.2.0",
      "_view_name": "StyleView",
      "description_width": ""
     }
    },
    "fd1e29c93ec9483e8137639a4dc7556e": {
     "model_module": "@jupyter-widgets/base",
     "model_module_version": "1.2.0",
     "model_name": "LayoutModel",
     "state": {
      "_model_module": "@jupyter-widgets/base",
      "_model_module_version": "1.2.0",
      "_model_name": "LayoutModel",
      "_view_count": null,
      "_view_module": "@jupyter-widgets/base",
      "_view_module_version": "1.2.0",
      "_view_name": "LayoutView",
      "align_content": null,
      "align_items": null,
      "align_self": null,
      "border": null,
      "bottom": null,
      "display": null,
      "flex": null,
      "flex_flow": null,
      "grid_area": null,
      "grid_auto_columns": null,
      "grid_auto_flow": null,
      "grid_auto_rows": null,
      "grid_column": null,
      "grid_gap": null,
      "grid_row": null,
      "grid_template_areas": null,
      "grid_template_columns": null,
      "grid_template_rows": null,
      "height": null,
      "justify_content": null,
      "justify_items": null,
      "left": null,
      "margin": null,
      "max_height": null,
      "max_width": null,
      "min_height": null,
      "min_width": null,
      "object_fit": null,
      "object_position": null,
      "order": null,
      "overflow": null,
      "overflow_x": null,
      "overflow_y": null,
      "padding": null,
      "right": null,
      "top": null,
      "visibility": null,
      "width": null
     }
    },
    "fe137a8403544de2a8b63b1c6a169590": {
     "model_module": "@jupyter-widgets/controls",
     "model_module_version": "1.5.0",
     "model_name": "DescriptionStyleModel",
     "state": {
      "_model_module": "@jupyter-widgets/controls",
      "_model_module_version": "1.5.0",
      "_model_name": "DescriptionStyleModel",
      "_view_count": null,
      "_view_module": "@jupyter-widgets/base",
      "_view_module_version": "1.2.0",
      "_view_name": "StyleView",
      "description_width": ""
     }
    },
    "ff50fde20bf740f991a7157880ccef24": {
     "model_module": "@jupyter-widgets/controls",
     "model_module_version": "1.5.0",
     "model_name": "FloatProgressModel",
     "state": {
      "_dom_classes": [],
      "_model_module": "@jupyter-widgets/controls",
      "_model_module_version": "1.5.0",
      "_model_name": "FloatProgressModel",
      "_view_count": null,
      "_view_module": "@jupyter-widgets/controls",
      "_view_module_version": "1.5.0",
      "_view_name": "ProgressView",
      "bar_style": "success",
      "description": "",
      "description_tooltip": null,
      "layout": "IPY_MODEL_dfe6f96b028542ca94ba25486bdaa34e",
      "max": 5178,
      "min": 0,
      "orientation": "horizontal",
      "style": "IPY_MODEL_e8f534ec3b9849699870c386615475bb",
      "value": 5178
     }
    }
   }
  }
 },
 "nbformat": 4,
 "nbformat_minor": 1
}
